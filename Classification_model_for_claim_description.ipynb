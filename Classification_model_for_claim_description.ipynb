{
  "metadata": {
    "kernelspec": {
      "language": "python",
      "display_name": "Python 3",
      "name": "python3"
    },
    "language_info": {
      "name": "python",
      "version": "3.10.14",
      "mimetype": "text/x-python",
      "codemirror_mode": {
        "name": "ipython",
        "version": 3
      },
      "pygments_lexer": "ipython3",
      "nbconvert_exporter": "python",
      "file_extension": ".py"
    },
    "kaggle": {
      "accelerator": "none",
      "dataSources": [
        {
          "sourceId": 10069675,
          "sourceType": "datasetVersion",
          "datasetId": 6206421
        }
      ],
      "dockerImageVersionId": 30786,
      "isInternetEnabled": true,
      "language": "python",
      "sourceType": "notebook",
      "isGpuEnabled": false
    },
    "colab": {
      "name": "Classification_model_for_claim_description",
      "provenance": [],
      "include_colab_link": true
    }
  },
  "nbformat_minor": 0,
  "nbformat": 4,
  "cells": [
    {
      "cell_type": "markdown",
      "metadata": {
        "id": "view-in-github",
        "colab_type": "text"
      },
      "source": [
        "<a href=\"https://colab.research.google.com/github/asmi281999/Clssification_model_for_claim_description/blob/main/Classification_model_for_claim_description.ipynb\" target=\"_parent\"><img src=\"https://colab.research.google.com/assets/colab-badge.svg\" alt=\"Open In Colab\"/></a>"
      ]
    },
    {
      "source": [
        "# IMPORTANT: SOME KAGGLE DATA SOURCES ARE PRIVATE\n",
        "# RUN THIS CELL IN ORDER TO IMPORT YOUR KAGGLE DATA SOURCES.\n",
        "import kagglehub\n",
        "kagglehub.login()\n"
      ],
      "metadata": {
        "id": "bnhAavOMBW6V"
      },
      "cell_type": "code",
      "outputs": [],
      "execution_count": null
    },
    {
      "source": [
        "# IMPORTANT: RUN THIS CELL IN ORDER TO IMPORT YOUR KAGGLE DATA SOURCES,\n",
        "# THEN FEEL FREE TO DELETE THIS CELL.\n",
        "# NOTE: THIS NOTEBOOK ENVIRONMENT DIFFERS FROM KAGGLE'S PYTHON\n",
        "# ENVIRONMENT SO THERE MAY BE MISSING LIBRARIES USED BY YOUR\n",
        "# NOTEBOOK.\n",
        "\n",
        "asmitabose_dataset_public_path = kagglehub.dataset_download('asmitabose/dataset-public')\n",
        "\n",
        "print('Data source import complete.')\n"
      ],
      "metadata": {
        "id": "Bil1rwuiBW6W"
      },
      "cell_type": "code",
      "outputs": [],
      "execution_count": null
    },
    {
      "cell_type": "code",
      "source": [
        "# This Python 3 environment comes with many helpful analytics libraries installed\n",
        "# It is defined by the kaggle/python Docker image: https://github.com/kaggle/docker-python\n",
        "# For example, here's several helpful packages to load\n",
        "\n",
        "import numpy as np # linear algebra\n",
        "import pandas as pd # data processing, CSV file I/O (e.g. pd.read_csv)\n",
        "\n",
        "# Input data files are available in the read-only \"../input/\" directory\n",
        "# For example, running this (by clicking run or pressing Shift+Enter) will list all files under the input directory\n",
        "\n",
        "import os\n",
        "for dirname, _, filenames in os.walk('/kaggle/input'):\n",
        "    for filename in filenames:\n",
        "        print(os.path.join(dirname, filename))\n",
        "\n",
        "# You can write up to 20GB to the current directory (/kaggle/working/) that gets preserved as output when you create a version using \"Save & Run All\"\n",
        "# You can also write temporary files to /kaggle/temp/, but they won't be saved outside of the current session"
      ],
      "metadata": {
        "_uuid": "8f2839f25d086af736a60e9eeb907d3b93b6e0e5",
        "_cell_guid": "b1076dfc-b9ad-4769-8c92-a6c4dae69d19",
        "trusted": true,
        "execution": {
          "iopub.status.busy": "2024-12-01T20:49:06.829374Z",
          "iopub.execute_input": "2024-12-01T20:49:06.830692Z",
          "iopub.status.idle": "2024-12-01T20:49:06.849715Z",
          "shell.execute_reply.started": "2024-12-01T20:49:06.830606Z",
          "shell.execute_reply": "2024-12-01T20:49:06.848615Z"
        },
        "id": "bbStagf0BW6X",
        "outputId": "3400274d-e873-445a-8a25-56cc27ae1179"
      },
      "outputs": [
        {
          "name": "stdout",
          "text": "/kaggle/input/dataset-public/Dataset_Public.xlsx\n",
          "output_type": "stream"
        }
      ],
      "execution_count": null
    },
    {
      "cell_type": "markdown",
      "source": [
        "### Library"
      ],
      "metadata": {
        "id": "UNtZocjRBW6Y"
      }
    },
    {
      "cell_type": "code",
      "source": [
        "import warnings\n",
        "warnings.filterwarnings(\"ignore\")\n",
        "import pandas as pd\n",
        "import re\n",
        "import string\n",
        "from string import digits\n",
        "from sklearn.feature_extraction.text import CountVectorizer\n",
        "from sklearn.model_selection import train_test_split\n",
        "from sklearn.metrics import classification_report, confusion_matrix\n",
        "import matplotlib.pyplot as plt\n",
        "from sklearn import metrics\n",
        "from sklearn.linear_model import LogisticRegression\n",
        "from sklearn.metrics import accuracy_score, precision_score, f1_score, recall_score\n",
        "import pickle\n",
        "import numpy as np\n",
        "import time\n",
        "\n",
        "from sklearn.metrics import accuracy_score\n",
        "from sklearn.metrics import classification_report\n",
        "from sklearn.metrics import confusion_matrix\n",
        "from sklearn.metrics import f1_score\n",
        "from sklearn.metrics import recall_score\n",
        "from sklearn.model_selection import RandomizedSearchCV\n",
        "from lightgbm import LGBMClassifier"
      ],
      "metadata": {
        "trusted": true,
        "execution": {
          "iopub.status.busy": "2024-12-01T20:49:06.851591Z",
          "iopub.execute_input": "2024-12-01T20:49:06.851985Z",
          "iopub.status.idle": "2024-12-01T20:49:08.222611Z",
          "shell.execute_reply.started": "2024-12-01T20:49:06.851953Z",
          "shell.execute_reply": "2024-12-01T20:49:08.221557Z"
        },
        "id": "8C_Jw1HKBW6a"
      },
      "outputs": [],
      "execution_count": null
    },
    {
      "cell_type": "code",
      "source": [
        "import re\n",
        "from bs4 import BeautifulSoup\n",
        "\n",
        "import nltk\n",
        "nltk.download('stopwords')"
      ],
      "metadata": {
        "trusted": true,
        "execution": {
          "iopub.status.busy": "2024-12-01T20:49:08.223999Z",
          "iopub.execute_input": "2024-12-01T20:49:08.224744Z",
          "iopub.status.idle": "2024-12-01T20:49:09.068748Z",
          "shell.execute_reply.started": "2024-12-01T20:49:08.224707Z",
          "shell.execute_reply": "2024-12-01T20:49:09.067481Z"
        },
        "id": "BsWYx4gWBW6b",
        "outputId": "1dd6e39f-3831-4a70-8e0b-e938960feef2"
      },
      "outputs": [
        {
          "name": "stdout",
          "text": "[nltk_data] Downloading package stopwords to /usr/share/nltk_data...\n[nltk_data]   Package stopwords is already up-to-date!\n",
          "output_type": "stream"
        },
        {
          "execution_count": 7,
          "output_type": "execute_result",
          "data": {
            "text/plain": "True"
          },
          "metadata": {}
        }
      ],
      "execution_count": null
    },
    {
      "cell_type": "markdown",
      "source": [
        "### Dataset"
      ],
      "metadata": {
        "id": "LzwlRMboBW6b"
      }
    },
    {
      "cell_type": "code",
      "source": [
        "df=pd.read_excel('/kaggle/input/dataset-public/Dataset_Public.xlsx')\n",
        "df.head(3)"
      ],
      "metadata": {
        "trusted": true,
        "execution": {
          "iopub.status.busy": "2024-12-01T20:49:09.070894Z",
          "iopub.execute_input": "2024-12-01T20:49:09.071539Z",
          "iopub.status.idle": "2024-12-01T20:49:22.012487Z",
          "shell.execute_reply.started": "2024-12-01T20:49:09.071501Z",
          "shell.execute_reply": "2024-12-01T20:49:22.011254Z"
        },
        "id": "1foE1kW9BW6b",
        "outputId": "eaabeea6-9a4d-474c-a58e-d75d8f89520a"
      },
      "outputs": [
        {
          "execution_count": 8,
          "output_type": "execute_result",
          "data": {
            "text/plain": "                                   Claim Description Coverage Code  \\\n0  THE IV WAS MAKING A LEFT TURN ON A GREEN ARROW...            AN   \n1  CLAIMANT ALLEGES SHE SUFFERED INJURIES IN AN E...            GB   \n2  IV PASSENGER SUSTAINED INJURIES, OV AND IV COL...            AB   \n\n              Accident Source  \n0  Struck pedestrian, bicycle  \n1          Elevator/Escalator  \n2    Sideswipe or lane change  ",
            "text/html": "<div>\n<style scoped>\n    .dataframe tbody tr th:only-of-type {\n        vertical-align: middle;\n    }\n\n    .dataframe tbody tr th {\n        vertical-align: top;\n    }\n\n    .dataframe thead th {\n        text-align: right;\n    }\n</style>\n<table border=\"1\" class=\"dataframe\">\n  <thead>\n    <tr style=\"text-align: right;\">\n      <th></th>\n      <th>Claim Description</th>\n      <th>Coverage Code</th>\n      <th>Accident Source</th>\n    </tr>\n  </thead>\n  <tbody>\n    <tr>\n      <th>0</th>\n      <td>THE IV WAS MAKING A LEFT TURN ON A GREEN ARROW...</td>\n      <td>AN</td>\n      <td>Struck pedestrian, bicycle</td>\n    </tr>\n    <tr>\n      <th>1</th>\n      <td>CLAIMANT ALLEGES SHE SUFFERED INJURIES IN AN E...</td>\n      <td>GB</td>\n      <td>Elevator/Escalator</td>\n    </tr>\n    <tr>\n      <th>2</th>\n      <td>IV PASSENGER SUSTAINED INJURIES, OV AND IV COL...</td>\n      <td>AB</td>\n      <td>Sideswipe or lane change</td>\n    </tr>\n  </tbody>\n</table>\n</div>"
          },
          "metadata": {}
        }
      ],
      "execution_count": null
    },
    {
      "cell_type": "markdown",
      "source": [
        "### Preprocessing"
      ],
      "metadata": {
        "id": "tcmc3nTcBW6c"
      }
    },
    {
      "cell_type": "code",
      "source": [
        "df.columns"
      ],
      "metadata": {
        "trusted": true,
        "execution": {
          "iopub.status.busy": "2024-12-01T20:49:22.013785Z",
          "iopub.execute_input": "2024-12-01T20:49:22.014149Z",
          "iopub.status.idle": "2024-12-01T20:49:22.022027Z",
          "shell.execute_reply.started": "2024-12-01T20:49:22.014109Z",
          "shell.execute_reply": "2024-12-01T20:49:22.020688Z"
        },
        "id": "WYaNeYQKBW6c",
        "outputId": "f6e5cf53-7bee-4f44-c66f-274abc0993af"
      },
      "outputs": [
        {
          "execution_count": 9,
          "output_type": "execute_result",
          "data": {
            "text/plain": "Index(['Claim Description', 'Coverage Code', 'Accident Source'], dtype='object')"
          },
          "metadata": {}
        }
      ],
      "execution_count": null
    },
    {
      "cell_type": "markdown",
      "source": [
        "#### 1. Duplicate removal"
      ],
      "metadata": {
        "id": "z2ij5S47BW6d"
      }
    },
    {
      "cell_type": "code",
      "source": [
        "df['Claim Description'].duplicated().sum()"
      ],
      "metadata": {
        "trusted": true,
        "execution": {
          "iopub.status.busy": "2024-12-01T20:49:22.023375Z",
          "iopub.execute_input": "2024-12-01T20:49:22.023693Z",
          "iopub.status.idle": "2024-12-01T20:49:22.090715Z",
          "shell.execute_reply.started": "2024-12-01T20:49:22.023663Z",
          "shell.execute_reply": "2024-12-01T20:49:22.089417Z"
        },
        "id": "77tpTP0EBW6d",
        "outputId": "c69d8c93-b01e-44f1-e2d0-7538c237d58a"
      },
      "outputs": [
        {
          "execution_count": 10,
          "output_type": "execute_result",
          "data": {
            "text/plain": "27699"
          },
          "metadata": {}
        }
      ],
      "execution_count": null
    },
    {
      "cell_type": "code",
      "source": [
        "df['Claim Description'].value_counts()"
      ],
      "metadata": {
        "trusted": true,
        "execution": {
          "iopub.status.busy": "2024-12-01T20:49:22.092888Z",
          "iopub.execute_input": "2024-12-01T20:49:22.093314Z",
          "iopub.status.idle": "2024-12-01T20:49:22.284459Z",
          "shell.execute_reply.started": "2024-12-01T20:49:22.093278Z",
          "shell.execute_reply": "2024-12-01T20:49:22.28317Z"
        },
        "id": "kskpQUZ_BW6d",
        "outputId": "9e71681f-1199-4abd-85fd-ef628332cba2"
      },
      "outputs": [
        {
          "execution_count": 11,
          "output_type": "execute_result",
          "data": {
            "text/plain": "Claim Description\nCLAIMANT DROVE OVER POTHOLE CAUSING VEHICLE DAMAGE.                                                                                                                                                                            1057\nROCK FROM ROAD - NO ONE AT FAULT                                                                                                                                                                                                598\nCLAIMANT DROVE OVER A POTHOLE CAUSING VEHICLE DAMAGE.                                                                                                                                                                           432\nPLAINTIFF ALLEGES INJURY CAUSED BY EMBEDDED BROKEN ARM OF PARAGARDIUD.                                                                                                                                                          311\nWATER DAMAGE                                                                                                                                                                                                                    291\n                                                                                                                                                                                                                               ... \nEVENT34778: OCCUPIED SP VEHICLE STRUCK THE CLAIMANT'S MAILBOX,    KNOCKING IT DOWN.  NO INJURIES. NO TOW.                                                                                                                         1\nIV TURNED RIGHT AND FAILED TO YIELD TO CLAIMANT                                                                                                                                                                                   1\nON FRIDAY, APRIL 14, 2023 AT APPROXIMATELY 4:15PM, CLAIMANT REPORTED THAT SHE   TRIPPED AND FELL AFTER STEPPING ON AN EXPANSION JOIN                                                                                              1\nTHE IV WAS PARKED AT THE CUSTOMER LOCATION WHEN IT WAS STRUCK BY  THE OV AS IT HAD PULLED FORWARD. THE OV DRIVER FLED THE SCENE. THEIV REAR END INCURRED A SCRATCH AND A BROKEN TAIL LIGHT. THERE WERENO REPORTED INJURIES.       1\nDONNA GEORGE WAS WALKING UP TO REGISTER 2 AND FELL INJURIES TO    BACK AND HAND                                                                                                                                                   1\nName: count, Length: 163990, dtype: int64"
          },
          "metadata": {}
        }
      ],
      "execution_count": null
    },
    {
      "cell_type": "code",
      "source": [
        "df[df['Claim Description']=='CLAIMANT DROVE OVER POTHOLE CAUSING VEHICLE DAMAGE.']"
      ],
      "metadata": {
        "trusted": true,
        "execution": {
          "iopub.status.busy": "2024-12-01T20:49:22.286032Z",
          "iopub.execute_input": "2024-12-01T20:49:22.286487Z",
          "iopub.status.idle": "2024-12-01T20:49:22.333723Z",
          "shell.execute_reply.started": "2024-12-01T20:49:22.286437Z",
          "shell.execute_reply": "2024-12-01T20:49:22.332341Z"
        },
        "id": "JxF6mKqBBW6d",
        "outputId": "81d0215d-0ee1-4951-a94b-db8a005264cc"
      },
      "outputs": [
        {
          "execution_count": 12,
          "output_type": "execute_result",
          "data": {
            "text/plain": "                                        Claim Description Coverage Code  \\\n296     CLAIMANT DROVE OVER POTHOLE CAUSING VEHICLE DA...            GD   \n319     CLAIMANT DROVE OVER POTHOLE CAUSING VEHICLE DA...            GD   \n589     CLAIMANT DROVE OVER POTHOLE CAUSING VEHICLE DA...            GD   \n667     CLAIMANT DROVE OVER POTHOLE CAUSING VEHICLE DA...            GD   \n763     CLAIMANT DROVE OVER POTHOLE CAUSING VEHICLE DA...            GD   \n...                                                   ...           ...   \n191123  CLAIMANT DROVE OVER POTHOLE CAUSING VEHICLE DA...            GD   \n191265  CLAIMANT DROVE OVER POTHOLE CAUSING VEHICLE DA...            GD   \n191523  CLAIMANT DROVE OVER POTHOLE CAUSING VEHICLE DA...            GD   \n191550  CLAIMANT DROVE OVER POTHOLE CAUSING VEHICLE DA...            GD   \n191662  CLAIMANT DROVE OVER POTHOLE CAUSING VEHICLE DA...            GD   \n\n       Accident Source  \n296            Pothole  \n319            Pothole  \n589            Pothole  \n667            Pothole  \n763            Pothole  \n...                ...  \n191123         Pothole  \n191265         Pothole  \n191523         Pothole  \n191550         Pothole  \n191662         Pothole  \n\n[1057 rows x 3 columns]",
            "text/html": "<div>\n<style scoped>\n    .dataframe tbody tr th:only-of-type {\n        vertical-align: middle;\n    }\n\n    .dataframe tbody tr th {\n        vertical-align: top;\n    }\n\n    .dataframe thead th {\n        text-align: right;\n    }\n</style>\n<table border=\"1\" class=\"dataframe\">\n  <thead>\n    <tr style=\"text-align: right;\">\n      <th></th>\n      <th>Claim Description</th>\n      <th>Coverage Code</th>\n      <th>Accident Source</th>\n    </tr>\n  </thead>\n  <tbody>\n    <tr>\n      <th>296</th>\n      <td>CLAIMANT DROVE OVER POTHOLE CAUSING VEHICLE DA...</td>\n      <td>GD</td>\n      <td>Pothole</td>\n    </tr>\n    <tr>\n      <th>319</th>\n      <td>CLAIMANT DROVE OVER POTHOLE CAUSING VEHICLE DA...</td>\n      <td>GD</td>\n      <td>Pothole</td>\n    </tr>\n    <tr>\n      <th>589</th>\n      <td>CLAIMANT DROVE OVER POTHOLE CAUSING VEHICLE DA...</td>\n      <td>GD</td>\n      <td>Pothole</td>\n    </tr>\n    <tr>\n      <th>667</th>\n      <td>CLAIMANT DROVE OVER POTHOLE CAUSING VEHICLE DA...</td>\n      <td>GD</td>\n      <td>Pothole</td>\n    </tr>\n    <tr>\n      <th>763</th>\n      <td>CLAIMANT DROVE OVER POTHOLE CAUSING VEHICLE DA...</td>\n      <td>GD</td>\n      <td>Pothole</td>\n    </tr>\n    <tr>\n      <th>...</th>\n      <td>...</td>\n      <td>...</td>\n      <td>...</td>\n    </tr>\n    <tr>\n      <th>191123</th>\n      <td>CLAIMANT DROVE OVER POTHOLE CAUSING VEHICLE DA...</td>\n      <td>GD</td>\n      <td>Pothole</td>\n    </tr>\n    <tr>\n      <th>191265</th>\n      <td>CLAIMANT DROVE OVER POTHOLE CAUSING VEHICLE DA...</td>\n      <td>GD</td>\n      <td>Pothole</td>\n    </tr>\n    <tr>\n      <th>191523</th>\n      <td>CLAIMANT DROVE OVER POTHOLE CAUSING VEHICLE DA...</td>\n      <td>GD</td>\n      <td>Pothole</td>\n    </tr>\n    <tr>\n      <th>191550</th>\n      <td>CLAIMANT DROVE OVER POTHOLE CAUSING VEHICLE DA...</td>\n      <td>GD</td>\n      <td>Pothole</td>\n    </tr>\n    <tr>\n      <th>191662</th>\n      <td>CLAIMANT DROVE OVER POTHOLE CAUSING VEHICLE DA...</td>\n      <td>GD</td>\n      <td>Pothole</td>\n    </tr>\n  </tbody>\n</table>\n<p>1057 rows × 3 columns</p>\n</div>"
          },
          "metadata": {}
        }
      ],
      "execution_count": null
    },
    {
      "cell_type": "code",
      "source": [
        "df.drop_duplicates(subset = ['Claim Description'],inplace = True)"
      ],
      "metadata": {
        "trusted": true,
        "execution": {
          "iopub.status.busy": "2024-12-01T20:49:22.335266Z",
          "iopub.execute_input": "2024-12-01T20:49:22.335624Z",
          "iopub.status.idle": "2024-12-01T20:49:22.386949Z",
          "shell.execute_reply.started": "2024-12-01T20:49:22.335584Z",
          "shell.execute_reply": "2024-12-01T20:49:22.385557Z"
        },
        "id": "j55cZD-GBW6e"
      },
      "outputs": [],
      "execution_count": null
    },
    {
      "cell_type": "code",
      "source": [
        "df"
      ],
      "metadata": {
        "trusted": true,
        "execution": {
          "iopub.status.busy": "2024-12-01T20:49:22.391237Z",
          "iopub.execute_input": "2024-12-01T20:49:22.391628Z",
          "iopub.status.idle": "2024-12-01T20:49:22.404067Z",
          "shell.execute_reply.started": "2024-12-01T20:49:22.391584Z",
          "shell.execute_reply": "2024-12-01T20:49:22.402851Z"
        },
        "id": "v-RuU5IsBW6e",
        "outputId": "076f5849-ec29-4f24-b664-92ff7bfa3bcb"
      },
      "outputs": [
        {
          "execution_count": 14,
          "output_type": "execute_result",
          "data": {
            "text/plain": "                                        Claim Description Coverage Code  \\\n0       THE IV WAS MAKING A LEFT TURN ON A GREEN ARROW...            AN   \n1       CLAIMANT ALLEGES SHE SUFFERED INJURIES IN AN E...            GB   \n2       IV PASSENGER SUSTAINED INJURIES, OV AND IV COL...            AB   \n3       CLAIMANT ALLEGES SHE WAS BURNED UNKNOWN DEGREE...            PA   \n4       THE IV WAS MERGING INTO A CONSTRUCTION ZONE WH...            AD   \n...                                                   ...           ...   \n191683        PACKAGE CAR LEAKED OIL ON CONCRETE DRIVEWAY            AD   \n191685            SOME WOOD FELL OVER AND HIT GUESTS LEGS            GB   \n191686  FEMALE FELL DOWN ON PLATFORM.                 ...            AB   \n191687  IWAS DRIVING DOWNHILL IN CUSTOMER YARD ON WET ...            AD   \n191688  DONNA GEORGE WAS WALKING UP TO REGISTER 2 AND ...            PM   \n\n                   Accident Source  \n0       Struck pedestrian, bicycle  \n1               Elevator/Escalator  \n2         Sideswipe or lane change  \n3                     Food Product  \n4           Struck vehicle in rear  \n...                            ...  \n191683               Oil or grease  \n191685    Alleged lack of security  \n191686    Not Otherwise Classified  \n191687    Sideswipe or lane change  \n191688       Alleged Negligent Act  \n\n[163991 rows x 3 columns]",
            "text/html": "<div>\n<style scoped>\n    .dataframe tbody tr th:only-of-type {\n        vertical-align: middle;\n    }\n\n    .dataframe tbody tr th {\n        vertical-align: top;\n    }\n\n    .dataframe thead th {\n        text-align: right;\n    }\n</style>\n<table border=\"1\" class=\"dataframe\">\n  <thead>\n    <tr style=\"text-align: right;\">\n      <th></th>\n      <th>Claim Description</th>\n      <th>Coverage Code</th>\n      <th>Accident Source</th>\n    </tr>\n  </thead>\n  <tbody>\n    <tr>\n      <th>0</th>\n      <td>THE IV WAS MAKING A LEFT TURN ON A GREEN ARROW...</td>\n      <td>AN</td>\n      <td>Struck pedestrian, bicycle</td>\n    </tr>\n    <tr>\n      <th>1</th>\n      <td>CLAIMANT ALLEGES SHE SUFFERED INJURIES IN AN E...</td>\n      <td>GB</td>\n      <td>Elevator/Escalator</td>\n    </tr>\n    <tr>\n      <th>2</th>\n      <td>IV PASSENGER SUSTAINED INJURIES, OV AND IV COL...</td>\n      <td>AB</td>\n      <td>Sideswipe or lane change</td>\n    </tr>\n    <tr>\n      <th>3</th>\n      <td>CLAIMANT ALLEGES SHE WAS BURNED UNKNOWN DEGREE...</td>\n      <td>PA</td>\n      <td>Food Product</td>\n    </tr>\n    <tr>\n      <th>4</th>\n      <td>THE IV WAS MERGING INTO A CONSTRUCTION ZONE WH...</td>\n      <td>AD</td>\n      <td>Struck vehicle in rear</td>\n    </tr>\n    <tr>\n      <th>...</th>\n      <td>...</td>\n      <td>...</td>\n      <td>...</td>\n    </tr>\n    <tr>\n      <th>191683</th>\n      <td>PACKAGE CAR LEAKED OIL ON CONCRETE DRIVEWAY</td>\n      <td>AD</td>\n      <td>Oil or grease</td>\n    </tr>\n    <tr>\n      <th>191685</th>\n      <td>SOME WOOD FELL OVER AND HIT GUESTS LEGS</td>\n      <td>GB</td>\n      <td>Alleged lack of security</td>\n    </tr>\n    <tr>\n      <th>191686</th>\n      <td>FEMALE FELL DOWN ON PLATFORM.                 ...</td>\n      <td>AB</td>\n      <td>Not Otherwise Classified</td>\n    </tr>\n    <tr>\n      <th>191687</th>\n      <td>IWAS DRIVING DOWNHILL IN CUSTOMER YARD ON WET ...</td>\n      <td>AD</td>\n      <td>Sideswipe or lane change</td>\n    </tr>\n    <tr>\n      <th>191688</th>\n      <td>DONNA GEORGE WAS WALKING UP TO REGISTER 2 AND ...</td>\n      <td>PM</td>\n      <td>Alleged Negligent Act</td>\n    </tr>\n  </tbody>\n</table>\n<p>163991 rows × 3 columns</p>\n</div>"
          },
          "metadata": {}
        }
      ],
      "execution_count": null
    },
    {
      "cell_type": "markdown",
      "source": [
        "#### 2. Text preprocessing"
      ],
      "metadata": {
        "id": "mM39f9XXBW6e"
      }
    },
    {
      "cell_type": "code",
      "source": [
        "def preprocess(qs):\n",
        "\n",
        "  # 1.Replace all upper case letter to lower case\n",
        "\n",
        "  qs=str(qs).lower().strip()\n",
        "\n",
        "  # 2. Replace certain special characters with their string equivalents\n",
        "\n",
        "  qs= qs.replace('!' , 'exc')\n",
        "  qs= qs.replace('@' , \"at \")\n",
        "  qs= qs.replace('#' , 'hash')\n",
        "  qs= qs.replace('$' , 'dollar')\n",
        "  qs= qs.replace('%' ,'percent')\n",
        "  qs= qs.replace('₹', ' rupee ')\n",
        "  qs= qs.replace('€', ' euro ')\n",
        "  qs= qs.replace('^' , 'upar')\n",
        "  qs= qs.replace('&' , 'amp')\n",
        "  qs= qs.replace('*' , 'star')\n",
        "  qs= qs.replace('-' , 'minus')\n",
        "  qs= qs.replace('+' , 'plus')\n",
        "  qs= qs.replace('=' , 'equal')\n",
        "  qs= qs.replace('_' , 'underscore')\n",
        "  qs= qs.replace('/' , 'slash')\n",
        "  qs= qs.replace('?' , 'question')\n",
        "  qs= qs.replace('<' , 'lessthan')\n",
        "  qs= qs.replace('>' , 'greaterthan')\n",
        "\n",
        "  # 3. Replace pattern '[Math]' as it has appeared 900 times in the whole dataset.\n",
        "\n",
        "  qs= qs.replace('[math]' , 'math')\n",
        "\n",
        "  # 4. Replacing some numbers with their equivalent character (not accurate)\n",
        "\n",
        "  qs = qs.replace(',000,000,000 ', 'b ')\n",
        "  qs = qs.replace(',000,000 ', 'm ')\n",
        "  qs = qs.replace(',000 ', 'k ')\n",
        "  qs = re.sub(r'([0-9]+)000000000', r'\\1b', qs)\n",
        "  qs = re.sub(r'([0-9]+)000000', r'\\1m', qs)\n",
        "  qs = re.sub(r'([0-9]+)000', r'\\1k', qs)\n",
        "\n",
        "\n",
        "  # 5. Decontracting words\n",
        "  # https://en.wikipedia.org/wiki/Wikipedia%3aList_of_English_contractions\n",
        "  # https://stackoverflow.com/a/19794953\n",
        "  contractions ={\n",
        "      \"a'ight\" : \"alright\",\n",
        "      \"ain't\" :\t \"am not or is not or are not or has not or have not or did not\",\n",
        "      \"amn't\" :\t\"am not\",\n",
        "      \"n\" : \"and\",\n",
        "      \"arencha\" : \"are not you\",\n",
        "      \"aren’t you\" : \"are not you\",\n",
        "      \"aren't\": \"are not\",\n",
        "      \"‘bout\" :\t\"about\",\n",
        "      \"can't\" :\t\"cannot\",\n",
        "      \"cap’n\" :\t\"captain\",\n",
        "      \"'cause\" : \"because\",\n",
        "      \"’cept\" :\t\"except\",\n",
        "      \"could've\" :\t\"could have\",\n",
        "      \"couldn't\" :\t\"could not\",\n",
        "      \"couldn't've\" :\t\"could not have\",\n",
        "      \"cuppa\" :\t\"cup of\",\n",
        "      \"dammit\" : \"damn it\",\n",
        "      \"daren't\" :\t\"dare not or dared not\",\n",
        "      \"daresn't\" : \"dare not\",\n",
        "      \"dasn't\" :\t\"dare not\",\n",
        "      \"didn't\" :\t\"did not\",\n",
        "      \"doesn't\" :\t\"does not\",\n",
        "      \"don't\" :\t\"do not or does not\",\n",
        "      \"dunno\" :\t\"do not know\",\n",
        "      \"don't know\" : \"do not know\",\n",
        "      \"d'ye\" : \t\"do you or did you\",\n",
        "      \"d'ya\" :\t\"do you or did you\",\n",
        "      \"e'en\" : \t\"even\",\n",
        "      \"e'er\" : \t\"ever\",\n",
        "      \"'em\" :\t\"them\",\n",
        "      \"everybody's\" :\t\"everybody is\",\n",
        "      \"everyone's\" :\t\"everyone is\",\n",
        "      \"finna\" :\t\"fixing to\",\n",
        "      \"fo’c’sle\" : \"forecastle\",\n",
        "      \"’gainst\" :\t\"against\",\n",
        "      \"g'day\" : \"good day\",\n",
        "      \"gimme\" : \"give me\",\n",
        "      \"giv'n\" : \"given\",\n",
        "      \"gi'z\" :\t\"give us or give me\",\n",
        "      \"gonna\" :\t\"going to\",\n",
        "      \"gon't\" : \"go not\",\n",
        "      \"gotta\" :\t\"got to\",\n",
        "      \"hadn't\" :\t\"had not\",\n",
        "      \"had've\" :\t\"had have\",\n",
        "      \"hasn't\" :\t\"has not\",\n",
        "      \"haven't\" :\t\"have not\",\n",
        "      \"he'd\" :\t\"he had or he would\",\n",
        "      \"he'll\" :\t\"he shall or he will\",\n",
        "      \"helluva\" : \"hell of a\",\n",
        "      \"he's\" :\t\"he has or he is\",\n",
        "      \"here's\" :\t\"here is\",\n",
        "      \"how'd\" :\t\"how did or how would\",\n",
        "      \"howdy\" : \"how do you do or how do you fare\",\n",
        "      \"how'll\" : \"how will\",\n",
        "      \"how're\" :\t\"how are\",\n",
        "      \"how's\" :\t\"how has or how is or how does\",\n",
        "      \"I'd\" :\t\"I had or I would\",\n",
        "      \"I'd've\" :\t\"I would have\",\n",
        "      \"I'd'nt\" :\t\"I would not\",\n",
        "      \"I'd'nt've\" : \"I would not have\",\n",
        "      \"I'll\" :\t\"I shall or I will\",\n",
        "      \"I'm\" :\t\"I am\",\n",
        "      \"Imma\" : \"I am about to or I am going to\",\n",
        "      \"I'm'o\" :\t\"I am going to\",\n",
        "      \"innit\" : \"isn't it\",\n",
        "      \"Ion\" : \"I don't or I do not\",\n",
        "      \"I've\" :\t\"I have\",\n",
        "      \"isn't\" :\t\"is not\",\n",
        "      \"it'd\" :\t\"it would\",\n",
        "      \"it'll\" :\t\"it shall or it will\",\n",
        "      \"it's\" :\t\"it has or it is\",\n",
        "      \"Idunno\" : \"I donot know\",\n",
        "      \"kinda\" : \"kind of\",\n",
        "      \"let's\" :\t\"let us\",\n",
        "      \"loven't\" :\t\"love not\",\n",
        "      \"ma'am \" :\t\"madam\",\n",
        "      \"mayn't\" :\t\"may not\",\n",
        "      \"may've\" :\t\"may have\",\n",
        "      \"methinks\" :\t\"I think\",\n",
        "      \"mightn't\" :\t\"might not\",\n",
        "      \"might've\" :\t\"might have\",\n",
        "      \"mustn't\" :\t\"must not\",\n",
        "      \"mustn't've\" :\t\"must not have\",\n",
        "      \"must've\"\t: \"must have\",\n",
        "      \"‘neath\" :\t\"beneath\",\n",
        "      \"needn't\" :\t\"need not\",\n",
        "      \"nal\" :\t\"and all\",\n",
        "      \"ne'er\" : \"never\",\n",
        "      \"o'clock\" :\t\"of the clock\",\n",
        "      \"o'er\" :\t\"over\",\n",
        "      \"ol'\" :\t\"old\",\n",
        "      \"ought've\" :\t\"ought have\",\n",
        "      \"oughtn't\" :\t\"ought not\",\n",
        "      \"oughtn't've\" :\t\"ought not have\",\n",
        "      \"‘round\" :\t\"around\",\n",
        "      \"'s\" :\t\"is or has or does or us\",\n",
        "      \"shalln't\" :\t\"shall not\",\n",
        "      \"shan't\" : \"shall not\",\n",
        "      \"she'd\" :\t\"she had or she would\",\n",
        "      \"she'll\" :\t\"she shall or she will\",\n",
        "      \"she's\" :\t\"she has or she is\",\n",
        "      \"should've\" :\t\"should have\",\n",
        "      \"shouldn't\" :\t\"should not\",\n",
        "      \"shouldn't've\" :\t\"should not have\",\n",
        "      \"somebody's\" :\t\"somebody has or somebody is\",\n",
        "      \"someone's\" :\t\"someone has or someone is\",\n",
        "      \"something's\"\t : \"something has or something is\",\n",
        "      \"so're\" :\t\"so are\",\n",
        "      \"so’s\" : \"so is or so has\",\n",
        "      \"so’ve\" :\t\"so have\",\n",
        "      \"that'll\" : \"that shall or that will\",\n",
        "      \"that're\" : \"that are\",\n",
        "      \"that's\" :\t\"that has or that is\",\n",
        "      \"that'd\" :\t\"that would or that had\",\n",
        "      \"there'd\" :\t\"there had or there would\",\n",
        "      \"there'll\" :\t\"there shall or there will\",\n",
        "      \"there're\" :\t\"there are\",\n",
        "      \"there's\" :\t\"there has or there is\",\n",
        "      \"these're\" :\t\"these are\",\n",
        "      \"these've\" :\t\"these have\",\n",
        "      \"they'd\" :\t\"they had or they would\",\n",
        "      \"they'll\" :\t\"they shall or they will\",\n",
        "      \"they're\" :\t\"they are or they were\",\n",
        "      \"they've\" :\t\"they have\",\n",
        "      \"this's\"\t: \"this has or this is\",\n",
        "      \"those're\" :\t\"those are\",\n",
        "      \"those've\" : \t\"those have\",\n",
        "      \"'thout\" : \t\"without\",\n",
        "      \"’til\" :\t\"until\",\n",
        "      \"'tis\" : \"it is\",\n",
        "      \"to've\" : \"to have\",\n",
        "      \"'twas\" : \"it was\",\n",
        "      \"'tween\" : \t\"between\",\n",
        "      \"'twere\" :\t\"it were\",\n",
        "      \"w'all\"\t: \"we all\",\n",
        "      \"w'at\" :\t\"we at\",\n",
        "      \"wanna\" :\t\"want to\",\n",
        "      \"wasn't\" :\t\"was not\",\n",
        "      \"we'd\" :\t\"we had or we would or we did\",\n",
        "      \"we'd've\" :\t\"we would have\",\n",
        "      \"we'll\" :\t\"we shall or we will\",\n",
        "      \"we're\" :\t\"we are\",\n",
        "      \"we've\" :\t\"we have\",\n",
        "      \"weren't\" :\t\"were not\",\n",
        "      \"whatcha\" :\t\"what are you or what about you \",\n",
        "      \"what'd\" :\t\"what did\",\n",
        "      \"what'll\" :\t\"what shall or what will\",\n",
        "      \"what're\"\t: \"what are or what were\",\n",
        "      \"what's\" :\t\"what has or what is or what does\",\n",
        "      \"what've\" :\t\"what have\",\n",
        "      \"when's\" :\t\"when has or when is\",\n",
        "      \"where'd\" :\t\"where did\",\n",
        "      \"where'll\" :\t\"where shall or where will\",\n",
        "      \"where're\" :\t\"where are\",\n",
        "      \"where's\" :\t\"where has or where is or where does\",\n",
        "      \"where've\" :\t\"where have\",\n",
        "      \"which'd\" :\t\"which had or which would\",\n",
        "      \"which'll\" :\t\"which shall or which will\",\n",
        "      \"which're\" :\t\"which are\",\n",
        "      \"which's\" :\t\"which has or which is\",\n",
        "      \"which've\" :\t\"which have\",\n",
        "      \"who'd\" :\t\"who would or who had or who did\",\n",
        "      \"who'd've\" :\t\"who would have\",\n",
        "      \"who'll\" :\t\"who shall or who will\",\n",
        "      \"who're\" :\t\"who are\",\n",
        "      \"who's\" :\t\"who has or who is or who does\",\n",
        "      \"who've\" :\t\"who have\",\n",
        "       \"why'd\" :\t\"why did\",\n",
        "      \"why're\" :\t\"why are\",\n",
        "      \"why's\" :\t\"why has or why is or why does\",\n",
        "      \"willn't\" :\t\"will not\",\n",
        "      \"won't\" :\t\"will not\",\n",
        "      \"wonnot\" :\t\"will not\",\n",
        "      \"would've\" :\t\"would have\",\n",
        "      \"wouldn't\" :\t\"would not\",\n",
        "      \"wouldn't've\" :\t\"would not have\",\n",
        "      \"y'ain't\" :\t\"you are not or you have not or you did not\",\n",
        "      \"y'all\" :\t\"you all\",\n",
        "      \"y'all'd've\" : \t\"you all would have\",\n",
        "      \"y'all'd'n't've\" :\t\"you all would not have\",\n",
        "      \"y'all're\" :\t\"you all are\",\n",
        "      \"y'all'ren't\" :\t\"you all are not\",\n",
        "      \"y'at\" :\t\"you at\",\n",
        "      \"yes’m\" :\t\"yes ma’am or yes madam\",\n",
        "      \"y'know\" :\t\"you know\",\n",
        "      \"yessir\":\t\"yes sir\",\n",
        "      \"you'd\" :\t\"you had or you would\",\n",
        "      \"you'll\" :\t\"you shall or you will\",\n",
        "      \"you're\" : \"you are\",\n",
        "      \"you've\" : \"you have\",\n",
        "      \"when'd\" :\t\"when did\",\n",
        "      \"willn't\" :\t\"will not\",\n",
        "  }\n",
        "\n",
        "  qs_decontracted = []\n",
        "\n",
        "  for word in qs.split():\n",
        "      if word in contractions:\n",
        "          word = contractions[word]\n",
        "\n",
        "      qs_decontracted.append(word)\n",
        "\n",
        "  qs = ' '.join(qs_decontracted)\n",
        "  qs = qs.replace(\"'ve\", \" have\")\n",
        "  qs = qs.replace(\"n't\", \" not\")\n",
        "  qs = qs.replace(\"'re\", \" are\")\n",
        "  qs = qs.replace(\"'ll\", \" will\")\n",
        "\n",
        "  # 6. Removing HTML tags\n",
        "  qs = BeautifulSoup(qs)\n",
        "  qs = qs.get_text()\n",
        "\n",
        "  # 7. Remove punctuations\n",
        "  pattern = re.compile('\\W')\n",
        "  qs = re.sub(pattern, ' ', qs).strip()\n",
        "\n",
        "\n",
        "  return qs\n",
        "\n"
      ],
      "metadata": {
        "trusted": true,
        "execution": {
          "iopub.status.busy": "2024-12-01T20:49:22.405637Z",
          "iopub.execute_input": "2024-12-01T20:49:22.406011Z",
          "iopub.status.idle": "2024-12-01T20:49:22.433981Z",
          "shell.execute_reply.started": "2024-12-01T20:49:22.405978Z",
          "shell.execute_reply": "2024-12-01T20:49:22.432767Z"
        },
        "id": "0f56qdmDBW6e"
      },
      "outputs": [],
      "execution_count": null
    },
    {
      "cell_type": "code",
      "source": [
        "df['Claim Description'].apply(preprocess)"
      ],
      "metadata": {
        "trusted": true,
        "execution": {
          "iopub.status.busy": "2024-12-01T20:49:22.435544Z",
          "iopub.execute_input": "2024-12-01T20:49:22.43604Z",
          "iopub.status.idle": "2024-12-01T20:50:07.376033Z",
          "shell.execute_reply.started": "2024-12-01T20:49:22.435988Z",
          "shell.execute_reply": "2024-12-01T20:50:07.374952Z"
        },
        "id": "Unfpx2wFBW6f",
        "outputId": "f19b4c99-a020-4cfd-9c1d-8f00ab07102d"
      },
      "outputs": [
        {
          "execution_count": 16,
          "output_type": "execute_result",
          "data": {
            "text/plain": "0         the iv was making a left turn on a green arrow...\n1         claimant alleges she suffered injuries in an e...\n2         iv passenger sustained injuries  ov and iv col...\n3         claimant alleges she was burned unknown degree...\n4         the iv was merging into a construction zone wh...\n                                ...                        \n191683          package car leaked oil on concrete driveway\n191685              some wood fell over and hit guests legs\n191686      female fell down on platform  bus reg   bk63ywl\n191687    iwas driving downhill in customer yard on wet ...\n191688    donna george was walking up to register 2 and ...\nName: Claim Description, Length: 163991, dtype: object"
          },
          "metadata": {}
        }
      ],
      "execution_count": null
    },
    {
      "cell_type": "markdown",
      "source": [
        "#### 3. Null value removal"
      ],
      "metadata": {
        "id": "PV9iQm00BW6f"
      }
    },
    {
      "cell_type": "code",
      "source": [
        "df.isnull().sum().sum()"
      ],
      "metadata": {
        "trusted": true,
        "execution": {
          "iopub.status.busy": "2024-12-01T20:50:07.37734Z",
          "iopub.execute_input": "2024-12-01T20:50:07.377686Z",
          "iopub.status.idle": "2024-12-01T20:50:07.420265Z",
          "shell.execute_reply.started": "2024-12-01T20:50:07.377653Z",
          "shell.execute_reply": "2024-12-01T20:50:07.419113Z"
        },
        "id": "Z1ofsuU1BW6f",
        "outputId": "c3d92e05-258a-4b3f-fa84-5df39afd6f39"
      },
      "outputs": [
        {
          "execution_count": 17,
          "output_type": "execute_result",
          "data": {
            "text/plain": "1"
          },
          "metadata": {}
        }
      ],
      "execution_count": null
    },
    {
      "cell_type": "code",
      "source": [
        "df = df.dropna(axis=0)\n"
      ],
      "metadata": {
        "trusted": true,
        "execution": {
          "iopub.status.busy": "2024-12-01T20:50:07.421582Z",
          "iopub.execute_input": "2024-12-01T20:50:07.421965Z",
          "iopub.status.idle": "2024-12-01T20:50:07.483137Z",
          "shell.execute_reply.started": "2024-12-01T20:50:07.42193Z",
          "shell.execute_reply": "2024-12-01T20:50:07.482104Z"
        },
        "id": "CnzCu---BW6g"
      },
      "outputs": [],
      "execution_count": null
    },
    {
      "cell_type": "code",
      "source": [
        "df.columns"
      ],
      "metadata": {
        "trusted": true,
        "execution": {
          "iopub.status.busy": "2024-12-01T20:50:07.484596Z",
          "iopub.execute_input": "2024-12-01T20:50:07.485058Z",
          "iopub.status.idle": "2024-12-01T20:50:07.492558Z",
          "shell.execute_reply.started": "2024-12-01T20:50:07.485011Z",
          "shell.execute_reply": "2024-12-01T20:50:07.49139Z"
        },
        "id": "0flmKDmzBW6g",
        "outputId": "50b8569a-f5e5-4425-c635-561313ff0e30"
      },
      "outputs": [
        {
          "execution_count": 19,
          "output_type": "execute_result",
          "data": {
            "text/plain": "Index(['Claim Description', 'Coverage Code', 'Accident Source'], dtype='object')"
          },
          "metadata": {}
        }
      ],
      "execution_count": null
    },
    {
      "cell_type": "markdown",
      "source": [
        "### Target Variables"
      ],
      "metadata": {
        "id": "BmS5xq9WBW6g"
      }
    },
    {
      "cell_type": "markdown",
      "source": [
        "#### 1. Coverage Code"
      ],
      "metadata": {
        "id": "f97xsZAhBW6g"
      }
    },
    {
      "cell_type": "code",
      "source": [
        "df['Coverage Code'].nunique()"
      ],
      "metadata": {
        "trusted": true,
        "execution": {
          "iopub.status.busy": "2024-12-01T20:50:07.493811Z",
          "iopub.execute_input": "2024-12-01T20:50:07.494146Z",
          "iopub.status.idle": "2024-12-01T20:50:07.518154Z",
          "shell.execute_reply.started": "2024-12-01T20:50:07.494115Z",
          "shell.execute_reply": "2024-12-01T20:50:07.516961Z"
        },
        "id": "nUf-g43EBW6g",
        "outputId": "bb0d5218-6985-429f-9d0f-44b42af85f0a"
      },
      "outputs": [
        {
          "execution_count": 20,
          "output_type": "execute_result",
          "data": {
            "text/plain": "43"
          },
          "metadata": {}
        }
      ],
      "execution_count": null
    },
    {
      "cell_type": "code",
      "source": [
        "df['Coverage Code'].value_counts()"
      ],
      "metadata": {
        "trusted": true,
        "execution": {
          "iopub.status.busy": "2024-12-01T20:50:07.519676Z",
          "iopub.execute_input": "2024-12-01T20:50:07.520144Z",
          "iopub.status.idle": "2024-12-01T20:50:07.539603Z",
          "shell.execute_reply.started": "2024-12-01T20:50:07.520096Z",
          "shell.execute_reply": "2024-12-01T20:50:07.538406Z"
        },
        "id": "MkjPydxkBW6g",
        "outputId": "62d4d4f1-18b9-4036-8a3f-cec0912bf873"
      },
      "outputs": [
        {
          "execution_count": 21,
          "output_type": "execute_result",
          "data": {
            "text/plain": "Coverage Code\nAD    43070\nGB    32193\nGD    22399\nAP    18894\nAL     9983\nAB     9397\nPA     8030\nPB     5089\nRB     4553\nNS     2297\nPM     1359\nAU     1273\nEL      855\nGK      632\nAN      558\nRC      514\nPI      384\nGO      337\nPL      317\nDC      261\nGL      237\nAM      224\nEP      184\nIK      183\nOM      138\nEO      137\nPP      112\nTE       85\nBM       66\nLL       57\nIM       40\nBL       36\nCM       30\nFB       18\nOI       14\nRF       12\nBR        6\nEB        4\nRQ        3\nFF        3\nLS        3\nEI        2\nPC        1\nName: count, dtype: int64"
          },
          "metadata": {}
        }
      ],
      "execution_count": null
    },
    {
      "cell_type": "code",
      "source": [
        "c_c_classes = pd.DataFrame(df['Coverage Code'].value_counts())"
      ],
      "metadata": {
        "trusted": true,
        "execution": {
          "iopub.status.busy": "2024-12-01T20:50:07.541049Z",
          "iopub.execute_input": "2024-12-01T20:50:07.541401Z",
          "iopub.status.idle": "2024-12-01T20:50:07.565506Z",
          "shell.execute_reply.started": "2024-12-01T20:50:07.541369Z",
          "shell.execute_reply": "2024-12-01T20:50:07.564247Z"
        },
        "id": "NmPP4iVBBW6g"
      },
      "outputs": [],
      "execution_count": null
    },
    {
      "cell_type": "code",
      "source": [
        "c_c_classes"
      ],
      "metadata": {
        "trusted": true,
        "execution": {
          "iopub.status.busy": "2024-12-01T20:50:07.567359Z",
          "iopub.execute_input": "2024-12-01T20:50:07.567762Z",
          "iopub.status.idle": "2024-12-01T20:50:07.58494Z",
          "shell.execute_reply.started": "2024-12-01T20:50:07.567729Z",
          "shell.execute_reply": "2024-12-01T20:50:07.583643Z"
        },
        "id": "T5IVjdeTBW6h",
        "outputId": "93bfb972-0396-41e5-b95a-788e121f67f9"
      },
      "outputs": [
        {
          "execution_count": 23,
          "output_type": "execute_result",
          "data": {
            "text/plain": "               count\nCoverage Code       \nAD             43070\nGB             32193\nGD             22399\nAP             18894\nAL              9983\nAB              9397\nPA              8030\nPB              5089\nRB              4553\nNS              2297\nPM              1359\nAU              1273\nEL               855\nGK               632\nAN               558\nRC               514\nPI               384\nGO               337\nPL               317\nDC               261\nGL               237\nAM               224\nEP               184\nIK               183\nOM               138\nEO               137\nPP               112\nTE                85\nBM                66\nLL                57\nIM                40\nBL                36\nCM                30\nFB                18\nOI                14\nRF                12\nBR                 6\nEB                 4\nRQ                 3\nFF                 3\nLS                 3\nEI                 2\nPC                 1",
            "text/html": "<div>\n<style scoped>\n    .dataframe tbody tr th:only-of-type {\n        vertical-align: middle;\n    }\n\n    .dataframe tbody tr th {\n        vertical-align: top;\n    }\n\n    .dataframe thead th {\n        text-align: right;\n    }\n</style>\n<table border=\"1\" class=\"dataframe\">\n  <thead>\n    <tr style=\"text-align: right;\">\n      <th></th>\n      <th>count</th>\n    </tr>\n    <tr>\n      <th>Coverage Code</th>\n      <th></th>\n    </tr>\n  </thead>\n  <tbody>\n    <tr>\n      <th>AD</th>\n      <td>43070</td>\n    </tr>\n    <tr>\n      <th>GB</th>\n      <td>32193</td>\n    </tr>\n    <tr>\n      <th>GD</th>\n      <td>22399</td>\n    </tr>\n    <tr>\n      <th>AP</th>\n      <td>18894</td>\n    </tr>\n    <tr>\n      <th>AL</th>\n      <td>9983</td>\n    </tr>\n    <tr>\n      <th>AB</th>\n      <td>9397</td>\n    </tr>\n    <tr>\n      <th>PA</th>\n      <td>8030</td>\n    </tr>\n    <tr>\n      <th>PB</th>\n      <td>5089</td>\n    </tr>\n    <tr>\n      <th>RB</th>\n      <td>4553</td>\n    </tr>\n    <tr>\n      <th>NS</th>\n      <td>2297</td>\n    </tr>\n    <tr>\n      <th>PM</th>\n      <td>1359</td>\n    </tr>\n    <tr>\n      <th>AU</th>\n      <td>1273</td>\n    </tr>\n    <tr>\n      <th>EL</th>\n      <td>855</td>\n    </tr>\n    <tr>\n      <th>GK</th>\n      <td>632</td>\n    </tr>\n    <tr>\n      <th>AN</th>\n      <td>558</td>\n    </tr>\n    <tr>\n      <th>RC</th>\n      <td>514</td>\n    </tr>\n    <tr>\n      <th>PI</th>\n      <td>384</td>\n    </tr>\n    <tr>\n      <th>GO</th>\n      <td>337</td>\n    </tr>\n    <tr>\n      <th>PL</th>\n      <td>317</td>\n    </tr>\n    <tr>\n      <th>DC</th>\n      <td>261</td>\n    </tr>\n    <tr>\n      <th>GL</th>\n      <td>237</td>\n    </tr>\n    <tr>\n      <th>AM</th>\n      <td>224</td>\n    </tr>\n    <tr>\n      <th>EP</th>\n      <td>184</td>\n    </tr>\n    <tr>\n      <th>IK</th>\n      <td>183</td>\n    </tr>\n    <tr>\n      <th>OM</th>\n      <td>138</td>\n    </tr>\n    <tr>\n      <th>EO</th>\n      <td>137</td>\n    </tr>\n    <tr>\n      <th>PP</th>\n      <td>112</td>\n    </tr>\n    <tr>\n      <th>TE</th>\n      <td>85</td>\n    </tr>\n    <tr>\n      <th>BM</th>\n      <td>66</td>\n    </tr>\n    <tr>\n      <th>LL</th>\n      <td>57</td>\n    </tr>\n    <tr>\n      <th>IM</th>\n      <td>40</td>\n    </tr>\n    <tr>\n      <th>BL</th>\n      <td>36</td>\n    </tr>\n    <tr>\n      <th>CM</th>\n      <td>30</td>\n    </tr>\n    <tr>\n      <th>FB</th>\n      <td>18</td>\n    </tr>\n    <tr>\n      <th>OI</th>\n      <td>14</td>\n    </tr>\n    <tr>\n      <th>RF</th>\n      <td>12</td>\n    </tr>\n    <tr>\n      <th>BR</th>\n      <td>6</td>\n    </tr>\n    <tr>\n      <th>EB</th>\n      <td>4</td>\n    </tr>\n    <tr>\n      <th>RQ</th>\n      <td>3</td>\n    </tr>\n    <tr>\n      <th>FF</th>\n      <td>3</td>\n    </tr>\n    <tr>\n      <th>LS</th>\n      <td>3</td>\n    </tr>\n    <tr>\n      <th>EI</th>\n      <td>2</td>\n    </tr>\n    <tr>\n      <th>PC</th>\n      <td>1</td>\n    </tr>\n  </tbody>\n</table>\n</div>"
          },
          "metadata": {}
        }
      ],
      "execution_count": null
    },
    {
      "cell_type": "markdown",
      "source": [
        "#### 1. Data Imbalance"
      ],
      "metadata": {
        "id": "twXNN4WuBW6h"
      }
    },
    {
      "cell_type": "code",
      "source": [
        "few_classes = c_c_classes[c_c_classes['count'] < 10].index.to_list()\n",
        "medium_classes = c_c_classes[c_c_classes['count'] < 1000].index.to_list()"
      ],
      "metadata": {
        "trusted": true,
        "execution": {
          "iopub.status.busy": "2024-12-01T20:50:07.586272Z",
          "iopub.execute_input": "2024-12-01T20:50:07.586605Z",
          "iopub.status.idle": "2024-12-01T20:50:07.602951Z",
          "shell.execute_reply.started": "2024-12-01T20:50:07.586571Z",
          "shell.execute_reply": "2024-12-01T20:50:07.601941Z"
        },
        "id": "g3yEVecQBW6h"
      },
      "outputs": [],
      "execution_count": null
    },
    {
      "cell_type": "code",
      "source": [
        "few_classes"
      ],
      "metadata": {
        "trusted": true,
        "execution": {
          "iopub.status.busy": "2024-12-01T20:50:07.604326Z",
          "iopub.execute_input": "2024-12-01T20:50:07.604696Z",
          "iopub.status.idle": "2024-12-01T20:50:07.621023Z",
          "shell.execute_reply.started": "2024-12-01T20:50:07.604662Z",
          "shell.execute_reply": "2024-12-01T20:50:07.619952Z"
        },
        "id": "YaKTfg3fBW6h",
        "outputId": "bf7056a6-b51e-495e-c6d0-bc436af924f7"
      },
      "outputs": [
        {
          "execution_count": 25,
          "output_type": "execute_result",
          "data": {
            "text/plain": "['BR', 'EB', 'RQ', 'FF', 'LS', 'EI', 'PC']"
          },
          "metadata": {}
        }
      ],
      "execution_count": null
    },
    {
      "cell_type": "code",
      "source": [
        "fewer_df = df[df['Coverage Code'].isin(few_classes)]\n",
        "\n",
        "fewer_df.head(2)"
      ],
      "metadata": {
        "trusted": true,
        "execution": {
          "iopub.status.busy": "2024-12-01T20:50:07.622272Z",
          "iopub.execute_input": "2024-12-01T20:50:07.622598Z",
          "iopub.status.idle": "2024-12-01T20:50:07.64498Z",
          "shell.execute_reply.started": "2024-12-01T20:50:07.622566Z",
          "shell.execute_reply": "2024-12-01T20:50:07.643918Z"
        },
        "id": "N6hVpYPHBW6i",
        "outputId": "3793b4c7-b414-451c-ed67-73457d7b08d2"
      },
      "outputs": [
        {
          "execution_count": 26,
          "output_type": "execute_result",
          "data": {
            "text/plain": "                                       Claim Description Coverage Code  \\\n33833  THE CALLER STATES THAT THE BUILDER CALLED AND ...            BR   \n63005                 OIL DISCOVERED IN MONITORING TANKS            EI   \n\n                           Accident Source  \n33833  Burglary, Robbery, Theft - Property  \n63005                                 Fuel  ",
            "text/html": "<div>\n<style scoped>\n    .dataframe tbody tr th:only-of-type {\n        vertical-align: middle;\n    }\n\n    .dataframe tbody tr th {\n        vertical-align: top;\n    }\n\n    .dataframe thead th {\n        text-align: right;\n    }\n</style>\n<table border=\"1\" class=\"dataframe\">\n  <thead>\n    <tr style=\"text-align: right;\">\n      <th></th>\n      <th>Claim Description</th>\n      <th>Coverage Code</th>\n      <th>Accident Source</th>\n    </tr>\n  </thead>\n  <tbody>\n    <tr>\n      <th>33833</th>\n      <td>THE CALLER STATES THAT THE BUILDER CALLED AND ...</td>\n      <td>BR</td>\n      <td>Burglary, Robbery, Theft - Property</td>\n    </tr>\n    <tr>\n      <th>63005</th>\n      <td>OIL DISCOVERED IN MONITORING TANKS</td>\n      <td>EI</td>\n      <td>Fuel</td>\n    </tr>\n  </tbody>\n</table>\n</div>"
          },
          "metadata": {}
        }
      ],
      "execution_count": null
    },
    {
      "cell_type": "code",
      "source": [
        "fewer_df.shape"
      ],
      "metadata": {
        "trusted": true,
        "execution": {
          "iopub.status.busy": "2024-12-01T20:50:07.646277Z",
          "iopub.execute_input": "2024-12-01T20:50:07.646593Z",
          "iopub.status.idle": "2024-12-01T20:50:07.656322Z",
          "shell.execute_reply.started": "2024-12-01T20:50:07.646563Z",
          "shell.execute_reply": "2024-12-01T20:50:07.655393Z"
        },
        "id": "FdF7W5qwBW6i",
        "outputId": "ff95c5bb-c808-482e-e144-b5dd92f1bd36"
      },
      "outputs": [
        {
          "execution_count": 27,
          "output_type": "execute_result",
          "data": {
            "text/plain": "(22, 3)"
          },
          "metadata": {}
        }
      ],
      "execution_count": null
    },
    {
      "cell_type": "code",
      "source": [
        "# for fewer classes either we can directrly create dictionary and use classes\n",
        "\n",
        "\n",
        "fewer_class_dictionary = dict()\n",
        "for idx,row in fewer_df.iterrows():\n",
        "\n",
        "    fewer_class_dictionary[row[0]] = [row[1],row[2]]\n",
        "\n",
        "fewer_class_dictionary"
      ],
      "metadata": {
        "trusted": true,
        "execution": {
          "iopub.status.busy": "2024-12-01T20:50:07.657572Z",
          "iopub.execute_input": "2024-12-01T20:50:07.65795Z",
          "iopub.status.idle": "2024-12-01T20:50:07.675377Z",
          "shell.execute_reply.started": "2024-12-01T20:50:07.657917Z",
          "shell.execute_reply": "2024-12-01T20:50:07.674259Z"
        },
        "id": "vOLJXQhiBW6i",
        "outputId": "dc12c3f4-776a-423b-87ff-a3b71091a9c8"
      },
      "outputs": [
        {
          "execution_count": 28,
          "output_type": "execute_result",
          "data": {
            "text/plain": "{'THE CALLER STATES THAT THE BUILDER CALLED AND STATED THE ITEMS    FROM THE PROPERTY THAT WERE BEING USED TO BUILD THE HOME WERE     STOLEN AND POLICE REPORT WAS CREATED.': ['BR',\n  'Burglary, Robbery, Theft - Property'],\n 'OIL DISCOVERED IN MONITORING TANKS': ['EI', 'Fuel'],\n \"EEOC CHARGE OF DISCRIMINATION FILED BY CURRENT ST. JOHN'S         UNIVERSITY EMPLOYEE CHARLES FORTMANN\": ['EB',\n  'Alleged Discrimination'],\n 'ALLEGATIONS OF VIOLATION OF WAGE AND HOUR VIOLATIONS; LIMITED     ASSIGNMENT FOR PAYMENT OF LEGAL FEES.': ['EB',\n  'Alleged Negligent Act'],\n 'GRAFFITI PAINTED ON WALL.': ['RQ', 'Other - comprehensive'],\n 'SEWAGE RELEASE': ['EI', 'Backup Sewer, Seepage'],\n 'CYBER BREACH': ['FF', 'Not Otherwise Classified'],\n 'CLAIMANT SUFFERED DEFAMATION AND LOSS OF BUSINESS': ['LS',\n  'Loss of Use, Business Interruption'],\n 'PROPERTY THEFT AND DAMAGE': ['BR', 'Burglary, Robbery, Theft - Property'],\n 'TOOLS WERE STOLEN FROM A JOB SITE AT FRANCIS HOWELL NORTH': ['BR',\n  'Burglary, Robbery, Theft - Property'],\n 'EARTHQUAKE': ['RQ', 'Rain'],\n 'CLAIMANT SUFFERED FROM ABUSE AND ATTACK.': ['LS', 'Assault and/or abuse'],\n 'CLAIMANT IS ALLEGING THEFT AND ASSETS. NO INJURIES.': ['FF',\n  'Burglary, theft - no forced entry'],\n 'NEOSHO SCHOOL DSITRICT CIVIL CASE SUMMONS FOR EMPLOYEE LIFE       INSURANCE BENEFITS': ['EB',\n  'Administrative Decision'],\n 'BURST PIPE IN THE PRODUCTION AREA': ['RQ',\n  'Sprinkler Leakage - Pipe or Head Failure'],\n 'SLIDER DOORS STOLEN FROM JOB SITE.': ['BR',\n  'Burglary, Robbery, Theft - Property'],\n 'WINDS LIFTED A SECTION OF THE ROOF ON THE HICKORY CO FEMA BUILDING': ['BR',\n  'Windstorm'],\n 'THE CALLER REPORTED THAT A DOOR WAS BROKEN INTO AND INSTALLED     APPLIANCES AND TOOLS WERE STOLEN.': ['BR',\n  'Burglary, Robbery, Theft - Property'],\n \"LEAK FROM AN ICE MACHINE CAUSED DAMAGE TO TENANT'S RETAIL SPACE BELOW.\": ['PC',\n  'Building services, NOC'],\n 'CLAIMANT HAD FINANCIAL LOSS.': ['FF', 'Alleged Negligent Act'],\n \"ALLEGED DEFORMATION AND CLAIMANT'S DEFAMATION CLAIMANT SUFFERED   STRESS, ANXIETY.\": ['LS',\n  'Libel, slander - defamation'],\n 'MORGAN COUNTY R-II SCHOOL DISTRICT - DISTRICT DETERMINED IN AN    AUDIT THAT THEY FAILED TO PAY EMPLOYEE CONTRIBUTIONS.  MUSIC HAS  AGREED TO PAY FOR THE FORENSIC AUDIT.': ['EB',\n  'Alleged Negligent Act']}"
          },
          "metadata": {}
        }
      ],
      "execution_count": null
    },
    {
      "cell_type": "code",
      "source": [
        "medium_df=df[df['Coverage Code'].isin(medium_classes)]\n",
        "medium_df.head(2)"
      ],
      "metadata": {
        "trusted": true,
        "execution": {
          "iopub.status.busy": "2024-12-01T20:50:07.676793Z",
          "iopub.execute_input": "2024-12-01T20:50:07.67719Z",
          "iopub.status.idle": "2024-12-01T20:50:07.704159Z",
          "shell.execute_reply.started": "2024-12-01T20:50:07.677154Z",
          "shell.execute_reply": "2024-12-01T20:50:07.703037Z"
        },
        "id": "mKBw1mu3BW6i",
        "outputId": "101fac89-fa3e-494c-945d-60fffe4b2529"
      },
      "outputs": [
        {
          "execution_count": 29,
          "output_type": "execute_result",
          "data": {
            "text/plain": "                                   Claim Description Coverage Code  \\\n0  THE IV WAS MAKING A LEFT TURN ON A GREEN ARROW...            AN   \n9  CLAIMANT SUFFERED BODILY INJURY DUE TO PICKED ...            EL   \n\n              Accident Source  \n0  Struck pedestrian, bicycle  \n9          Fall - other falls  ",
            "text/html": "<div>\n<style scoped>\n    .dataframe tbody tr th:only-of-type {\n        vertical-align: middle;\n    }\n\n    .dataframe tbody tr th {\n        vertical-align: top;\n    }\n\n    .dataframe thead th {\n        text-align: right;\n    }\n</style>\n<table border=\"1\" class=\"dataframe\">\n  <thead>\n    <tr style=\"text-align: right;\">\n      <th></th>\n      <th>Claim Description</th>\n      <th>Coverage Code</th>\n      <th>Accident Source</th>\n    </tr>\n  </thead>\n  <tbody>\n    <tr>\n      <th>0</th>\n      <td>THE IV WAS MAKING A LEFT TURN ON A GREEN ARROW...</td>\n      <td>AN</td>\n      <td>Struck pedestrian, bicycle</td>\n    </tr>\n    <tr>\n      <th>9</th>\n      <td>CLAIMANT SUFFERED BODILY INJURY DUE TO PICKED ...</td>\n      <td>EL</td>\n      <td>Fall - other falls</td>\n    </tr>\n  </tbody>\n</table>\n</div>"
          },
          "metadata": {}
        }
      ],
      "execution_count": null
    },
    {
      "cell_type": "code",
      "source": [
        "# Filter out rows that are in fewer_df\n",
        "final_df = df[~df['Coverage Code'].isin(few_classes)]\n"
      ],
      "metadata": {
        "trusted": true,
        "execution": {
          "iopub.status.busy": "2024-12-01T20:50:07.705717Z",
          "iopub.execute_input": "2024-12-01T20:50:07.706201Z",
          "iopub.status.idle": "2024-12-01T20:50:07.730288Z",
          "shell.execute_reply.started": "2024-12-01T20:50:07.706151Z",
          "shell.execute_reply": "2024-12-01T20:50:07.729145Z"
        },
        "id": "dqcWNaIHBW6i"
      },
      "outputs": [],
      "execution_count": null
    },
    {
      "cell_type": "code",
      "source": [
        "final_df.shape"
      ],
      "metadata": {
        "trusted": true,
        "execution": {
          "iopub.status.busy": "2024-12-01T20:50:07.731841Z",
          "iopub.execute_input": "2024-12-01T20:50:07.73262Z",
          "iopub.status.idle": "2024-12-01T20:50:07.739706Z",
          "shell.execute_reply.started": "2024-12-01T20:50:07.732572Z",
          "shell.execute_reply": "2024-12-01T20:50:07.738538Z"
        },
        "id": "_7_sWXYGBW6i",
        "outputId": "43013d27-5538-4992-9400-9afeca7d90d7"
      },
      "outputs": [
        {
          "execution_count": 31,
          "output_type": "execute_result",
          "data": {
            "text/plain": "(163968, 3)"
          },
          "metadata": {}
        }
      ],
      "execution_count": null
    },
    {
      "cell_type": "code",
      "source": [
        "df_2 = final_df.copy()\n",
        "\n",
        "def convert_class(feature):\n",
        "    if feature in medium_classes:\n",
        "        return 'med'\n",
        "    else:\n",
        "        return feature\n",
        "\n",
        "final_df['Coverage Code'] = final_df['Coverage Code'].apply(convert_class)"
      ],
      "metadata": {
        "trusted": true,
        "execution": {
          "iopub.status.busy": "2024-12-01T20:50:07.74614Z",
          "iopub.execute_input": "2024-12-01T20:50:07.74647Z",
          "iopub.status.idle": "2024-12-01T20:50:07.883771Z",
          "shell.execute_reply.started": "2024-12-01T20:50:07.746439Z",
          "shell.execute_reply": "2024-12-01T20:50:07.88258Z"
        },
        "id": "FO3s7BURBW6i"
      },
      "outputs": [],
      "execution_count": null
    },
    {
      "cell_type": "code",
      "source": [
        "final_df['Coverage Code'].value_counts()"
      ],
      "metadata": {
        "trusted": true,
        "execution": {
          "iopub.status.busy": "2024-12-01T20:50:07.885011Z",
          "iopub.execute_input": "2024-12-01T20:50:07.885321Z",
          "iopub.status.idle": "2024-12-01T20:50:07.90376Z",
          "shell.execute_reply.started": "2024-12-01T20:50:07.885291Z",
          "shell.execute_reply": "2024-12-01T20:50:07.902524Z"
        },
        "id": "3HRWQR-BBW6j",
        "outputId": "ccc9d979-150f-4a72-d460-d331c04288d2"
      },
      "outputs": [
        {
          "execution_count": 33,
          "output_type": "execute_result",
          "data": {
            "text/plain": "Coverage Code\nAD     43070\nGB     32193\nGD     22399\nAP     18894\nAL      9983\nAB      9397\nPA      8030\nmed     5431\nPB      5089\nRB      4553\nNS      2297\nPM      1359\nAU      1273\nName: count, dtype: int64"
          },
          "metadata": {}
        }
      ],
      "execution_count": null
    },
    {
      "cell_type": "markdown",
      "source": [
        "#### 2. Model - stage 1"
      ],
      "metadata": {
        "id": "7axUdOGEBW6j"
      }
    },
    {
      "cell_type": "code",
      "source": [
        "# create features and class label\n",
        "\n",
        "X = final_df['Claim Description']\n",
        "\n",
        "y = final_df['Coverage Code']"
      ],
      "metadata": {
        "trusted": true,
        "execution": {
          "iopub.status.busy": "2024-12-01T20:50:07.905269Z",
          "iopub.execute_input": "2024-12-01T20:50:07.905723Z",
          "iopub.status.idle": "2024-12-01T20:50:07.914291Z",
          "shell.execute_reply.started": "2024-12-01T20:50:07.905674Z",
          "shell.execute_reply": "2024-12-01T20:50:07.912982Z"
        },
        "id": "NoPaL7pyBW6j"
      },
      "outputs": [],
      "execution_count": null
    },
    {
      "cell_type": "code",
      "source": [
        "X_train, X_test, y_train, y_test = train_test_split(X, y, test_size=0.20)"
      ],
      "metadata": {
        "trusted": true,
        "execution": {
          "iopub.status.busy": "2024-12-01T20:50:07.915636Z",
          "iopub.execute_input": "2024-12-01T20:50:07.916061Z",
          "iopub.status.idle": "2024-12-01T20:50:07.957324Z",
          "shell.execute_reply.started": "2024-12-01T20:50:07.916021Z",
          "shell.execute_reply": "2024-12-01T20:50:07.955961Z"
        },
        "id": "jsBuSE20BW6j"
      },
      "outputs": [],
      "execution_count": null
    },
    {
      "cell_type": "code",
      "source": [
        "count_vector_step_1 = CountVectorizer()\n",
        "\n",
        "X_train = count_vector_step_1.fit_transform(X_train)\n",
        "X_test = count_vector_step_1.transform(X_test)"
      ],
      "metadata": {
        "trusted": true,
        "execution": {
          "iopub.status.busy": "2024-12-01T20:50:07.958744Z",
          "iopub.execute_input": "2024-12-01T20:50:07.959109Z",
          "iopub.status.idle": "2024-12-01T20:50:12.23966Z",
          "shell.execute_reply.started": "2024-12-01T20:50:07.959074Z",
          "shell.execute_reply": "2024-12-01T20:50:12.238085Z"
        },
        "id": "9CiGjK8zBW6k"
      },
      "outputs": [],
      "execution_count": null
    },
    {
      "cell_type": "code",
      "source": [
        "model_1 = LogisticRegression(random_state=42)\n",
        "model_1.fit(X_train, y_train)\n",
        "y_pred = model_1.predict(X_test)\n"
      ],
      "metadata": {
        "trusted": true,
        "execution": {
          "iopub.status.busy": "2024-12-01T20:50:12.241012Z",
          "iopub.execute_input": "2024-12-01T20:50:12.241341Z",
          "iopub.status.idle": "2024-12-01T20:50:57.31326Z",
          "shell.execute_reply.started": "2024-12-01T20:50:12.241308Z",
          "shell.execute_reply": "2024-12-01T20:50:57.312191Z"
        },
        "id": "NQkx3tVoBW6k"
      },
      "outputs": [],
      "execution_count": null
    },
    {
      "cell_type": "code",
      "source": [
        "print(\"Confusion Matrix:\")\n",
        "print(confusion_matrix(y_test, y_pred))\n",
        "\n",
        "print(\"\\nClassification Report:\")\n",
        "print(classification_report(y_test, y_pred))\n",
        "\n",
        "print(\"\\nAccuracy Score:\")\n",
        "print(accuracy_score(y_test, y_pred))\n"
      ],
      "metadata": {
        "trusted": true,
        "execution": {
          "iopub.status.busy": "2024-12-01T20:50:57.314564Z",
          "iopub.execute_input": "2024-12-01T20:50:57.315419Z",
          "iopub.status.idle": "2024-12-01T20:50:58.561106Z",
          "shell.execute_reply.started": "2024-12-01T20:50:57.315372Z",
          "shell.execute_reply": "2024-12-01T20:50:58.559823Z"
        },
        "id": "5zpCGbh8BW6k",
        "outputId": "e4e0dea3-7928-4390-b69c-ad8cf4e62ba8"
      },
      "outputs": [
        {
          "name": "stdout",
          "text": "Confusion Matrix:\n[[ 584  937    6  167    9  114   19    5    2    0    0    2   36]\n [ 305 6916  120  844   57   60  239    3    1   12    0   42   62]\n [   1  131 1884   22    0    1   11    0    0    1    0    1    7]\n [  64 1541   15 1818    6   27  155    7    0    1    0   28   27]\n [  18  109    0   24   85    4    4    3    0    0    0    0    2]\n [  42   60    0    9    2 5789  219   28  122   19   23   18   65]\n [   7  280   13   76    2  315 3490    4   12  140    1   97   63]\n [   4   16    0   12    0   96    4  352    5    0    0    0   10]\n [   1    5    0    0    0  189   17    5 1332   40    0    0    3]\n [   1    9    0    3    0   29  159    0   41  754    0   20   11]\n [   1    4    0    0    0  207    8    0   13    0   32    0    0]\n [   0   84    4   35    0   31  170    0    0   25    1  536   13]\n [  45  166   13   86    1  230  153   12   10    8    0   50  303]]\n\nClassification Report:\n              precision    recall  f1-score   support\n\n          AB       0.54      0.31      0.40      1881\n          AD       0.67      0.80      0.73      8661\n          AL       0.92      0.92      0.92      2059\n          AP       0.59      0.49      0.54      3689\n          AU       0.52      0.34      0.41       249\n          GB       0.82      0.91      0.86      6396\n          GD       0.75      0.78      0.76      4500\n          NS       0.84      0.71      0.77       499\n          PA       0.87      0.84      0.85      1592\n          PB       0.75      0.73      0.74      1027\n          PM       0.56      0.12      0.20       265\n          RB       0.68      0.60      0.63       899\n         med       0.50      0.28      0.36      1077\n\n    accuracy                           0.73     32794\n   macro avg       0.69      0.60      0.63     32794\nweighted avg       0.72      0.73      0.72     32794\n\n\nAccuracy Score:\n0.7280295175946819\n",
          "output_type": "stream"
        }
      ],
      "execution_count": null
    },
    {
      "cell_type": "code",
      "source": [
        "target_names = model_1.classes_\n",
        "print(classification_report(y_test, y_pred, target_names=target_names))"
      ],
      "metadata": {
        "trusted": true,
        "execution": {
          "iopub.status.busy": "2024-12-01T20:50:58.562519Z",
          "iopub.execute_input": "2024-12-01T20:50:58.562971Z",
          "iopub.status.idle": "2024-12-01T20:50:59.646536Z",
          "shell.execute_reply.started": "2024-12-01T20:50:58.562935Z",
          "shell.execute_reply": "2024-12-01T20:50:59.645325Z"
        },
        "id": "Q0vIDiHIBW6k",
        "outputId": "596dc7f8-a2fd-4cf1-b56b-238300b9059d"
      },
      "outputs": [
        {
          "name": "stdout",
          "text": "              precision    recall  f1-score   support\n\n          AB       0.54      0.31      0.40      1881\n          AD       0.67      0.80      0.73      8661\n          AL       0.92      0.92      0.92      2059\n          AP       0.59      0.49      0.54      3689\n          AU       0.52      0.34      0.41       249\n          GB       0.82      0.91      0.86      6396\n          GD       0.75      0.78      0.76      4500\n          NS       0.84      0.71      0.77       499\n          PA       0.87      0.84      0.85      1592\n          PB       0.75      0.73      0.74      1027\n          PM       0.56      0.12      0.20       265\n          RB       0.68      0.60      0.63       899\n         med       0.50      0.28      0.36      1077\n\n    accuracy                           0.73     32794\n   macro avg       0.69      0.60      0.63     32794\nweighted avg       0.72      0.73      0.72     32794\n\n",
          "output_type": "stream"
        }
      ],
      "execution_count": null
    },
    {
      "cell_type": "code",
      "source": [
        "# save model\n",
        "path = \"/kaggle/working/logistic_regression_cc_1st_stg.pickle\"\n",
        "pickle.dump(model_1, open(path, \"wb\"))\n",
        "print(\"Model saved to\", path)\n"
      ],
      "metadata": {
        "trusted": true,
        "execution": {
          "iopub.status.busy": "2024-12-01T20:50:59.647518Z",
          "iopub.execute_input": "2024-12-01T20:50:59.647848Z",
          "iopub.status.idle": "2024-12-01T20:50:59.668191Z",
          "shell.execute_reply.started": "2024-12-01T20:50:59.647816Z",
          "shell.execute_reply": "2024-12-01T20:50:59.666932Z"
        },
        "id": "YIuOtPJwBW6k",
        "outputId": "4420509b-38e3-44cf-e34b-6bba24b88b1f"
      },
      "outputs": [
        {
          "name": "stdout",
          "text": "Model saved to /kaggle/working/logistic_regression_cc_1st_stg.pickle\n",
          "output_type": "stream"
        }
      ],
      "execution_count": null
    },
    {
      "cell_type": "markdown",
      "source": [
        "#### Model - stage 2"
      ],
      "metadata": {
        "id": "aUUNaNAYBW6k"
      }
    },
    {
      "cell_type": "code",
      "source": [
        "med_df = df_2[df_2['Coverage Code'].isin(medium_classes[:-5])]\n",
        "\n",
        "med_df.head(2)"
      ],
      "metadata": {
        "trusted": true,
        "execution": {
          "iopub.status.busy": "2024-12-01T20:50:59.66968Z",
          "iopub.execute_input": "2024-12-01T20:50:59.670059Z",
          "iopub.status.idle": "2024-12-01T20:50:59.691529Z",
          "shell.execute_reply.started": "2024-12-01T20:50:59.670025Z",
          "shell.execute_reply": "2024-12-01T20:50:59.690448Z"
        },
        "id": "kSFFeN1nBW6k",
        "outputId": "fa9a2779-3ad9-49a8-f4e8-59e78456ab76"
      },
      "outputs": [
        {
          "execution_count": 41,
          "output_type": "execute_result",
          "data": {
            "text/plain": "                                   Claim Description Coverage Code  \\\n0  THE IV WAS MAKING A LEFT TURN ON A GREEN ARROW...            AN   \n9  CLAIMANT SUFFERED BODILY INJURY DUE TO PICKED ...            EL   \n\n              Accident Source  \n0  Struck pedestrian, bicycle  \n9          Fall - other falls  ",
            "text/html": "<div>\n<style scoped>\n    .dataframe tbody tr th:only-of-type {\n        vertical-align: middle;\n    }\n\n    .dataframe tbody tr th {\n        vertical-align: top;\n    }\n\n    .dataframe thead th {\n        text-align: right;\n    }\n</style>\n<table border=\"1\" class=\"dataframe\">\n  <thead>\n    <tr style=\"text-align: right;\">\n      <th></th>\n      <th>Claim Description</th>\n      <th>Coverage Code</th>\n      <th>Accident Source</th>\n    </tr>\n  </thead>\n  <tbody>\n    <tr>\n      <th>0</th>\n      <td>THE IV WAS MAKING A LEFT TURN ON A GREEN ARROW...</td>\n      <td>AN</td>\n      <td>Struck pedestrian, bicycle</td>\n    </tr>\n    <tr>\n      <th>9</th>\n      <td>CLAIMANT SUFFERED BODILY INJURY DUE TO PICKED ...</td>\n      <td>EL</td>\n      <td>Fall - other falls</td>\n    </tr>\n  </tbody>\n</table>\n</div>"
          },
          "metadata": {}
        }
      ],
      "execution_count": null
    },
    {
      "cell_type": "code",
      "source": [
        "med_df.shape"
      ],
      "metadata": {
        "trusted": true,
        "execution": {
          "iopub.status.busy": "2024-12-01T20:50:59.692954Z",
          "iopub.execute_input": "2024-12-01T20:50:59.693336Z",
          "iopub.status.idle": "2024-12-01T20:50:59.700815Z",
          "shell.execute_reply.started": "2024-12-01T20:50:59.693303Z",
          "shell.execute_reply": "2024-12-01T20:50:59.699553Z"
        },
        "id": "MyXgjbYMBW6l",
        "outputId": "09538773-1970-4568-f11d-ea2ad4fe3bcd"
      },
      "outputs": [
        {
          "execution_count": 42,
          "output_type": "execute_result",
          "data": {
            "text/plain": "(5431, 3)"
          },
          "metadata": {}
        }
      ],
      "execution_count": null
    },
    {
      "cell_type": "code",
      "source": [
        "med_df['Coverage Code'].value_counts()"
      ],
      "metadata": {
        "trusted": true,
        "execution": {
          "iopub.status.busy": "2024-12-01T20:50:59.702421Z",
          "iopub.execute_input": "2024-12-01T20:50:59.702849Z",
          "iopub.status.idle": "2024-12-01T20:50:59.718052Z",
          "shell.execute_reply.started": "2024-12-01T20:50:59.702803Z",
          "shell.execute_reply": "2024-12-01T20:50:59.716933Z"
        },
        "id": "W_4qKKiJBW6l",
        "outputId": "ec3e57ba-b880-4c8f-fe68-3d38797e35e5"
      },
      "outputs": [
        {
          "execution_count": 43,
          "output_type": "execute_result",
          "data": {
            "text/plain": "Coverage Code\nEL    855\nGK    632\nAN    558\nRC    514\nPI    384\nGO    337\nPL    317\nDC    261\nGL    237\nAM    224\nEP    184\nIK    183\nOM    138\nEO    137\nPP    112\nTE     85\nBM     66\nLL     57\nIM     40\nBL     36\nCM     30\nFB     18\nOI     14\nRF     12\nName: count, dtype: int64"
          },
          "metadata": {}
        }
      ],
      "execution_count": null
    },
    {
      "cell_type": "code",
      "source": [
        "# create features and class label\n",
        "\n",
        "X = med_df['Claim Description']\n",
        "\n",
        "y = med_df['Coverage Code']"
      ],
      "metadata": {
        "trusted": true,
        "execution": {
          "iopub.status.busy": "2024-12-01T20:50:59.719333Z",
          "iopub.execute_input": "2024-12-01T20:50:59.720397Z",
          "iopub.status.idle": "2024-12-01T20:50:59.730467Z",
          "shell.execute_reply.started": "2024-12-01T20:50:59.720359Z",
          "shell.execute_reply": "2024-12-01T20:50:59.728805Z"
        },
        "id": "h0QWjUXLBW6l"
      },
      "outputs": [],
      "execution_count": null
    },
    {
      "cell_type": "code",
      "source": [
        "X_train, X_test, y_train, y_test = train_test_split(X, y, test_size=0.20,stratify = y)"
      ],
      "metadata": {
        "trusted": true,
        "execution": {
          "iopub.status.busy": "2024-12-01T20:50:59.732524Z",
          "iopub.execute_input": "2024-12-01T20:50:59.733012Z",
          "iopub.status.idle": "2024-12-01T20:50:59.75356Z",
          "shell.execute_reply.started": "2024-12-01T20:50:59.732976Z",
          "shell.execute_reply": "2024-12-01T20:50:59.752157Z"
        },
        "id": "l_b9UsZoBW6l"
      },
      "outputs": [],
      "execution_count": null
    },
    {
      "cell_type": "code",
      "source": [
        "count_vector_step_2 = CountVectorizer()\n",
        "\n",
        "X_train = count_vector_step_2.fit_transform(X_train)\n",
        "X_test = count_vector_step_2.transform(X_test)"
      ],
      "metadata": {
        "trusted": true,
        "execution": {
          "iopub.status.busy": "2024-12-01T20:50:59.755127Z",
          "iopub.execute_input": "2024-12-01T20:50:59.755558Z",
          "iopub.status.idle": "2024-12-01T20:50:59.905957Z",
          "shell.execute_reply.started": "2024-12-01T20:50:59.755509Z",
          "shell.execute_reply": "2024-12-01T20:50:59.904713Z"
        },
        "id": "87Jh1EcmBW6l"
      },
      "outputs": [],
      "execution_count": null
    },
    {
      "cell_type": "code",
      "source": [
        "model_2 = LogisticRegression(random_state=42)\n",
        "model_2.fit(X_train, y_train)\n",
        "y_pred = model_2.predict(X_test)\n"
      ],
      "metadata": {
        "trusted": true,
        "execution": {
          "iopub.status.busy": "2024-12-01T20:50:59.907539Z",
          "iopub.execute_input": "2024-12-01T20:50:59.908046Z",
          "iopub.status.idle": "2024-12-01T20:51:11.129616Z",
          "shell.execute_reply.started": "2024-12-01T20:50:59.907994Z",
          "shell.execute_reply": "2024-12-01T20:51:11.12803Z"
        },
        "id": "ZmY_PkMYBW6l"
      },
      "outputs": [],
      "execution_count": null
    },
    {
      "cell_type": "code",
      "source": [
        "print(\"Confusion Matrix:\")\n",
        "print(confusion_matrix(y_test, y_pred))\n",
        "\n",
        "print(\"\\nClassification Report:\")\n",
        "print(classification_report(y_test, y_pred))\n",
        "\n",
        "print(\"\\nAccuracy Score:\")\n",
        "print(accuracy_score(y_test, y_pred))"
      ],
      "metadata": {
        "trusted": true,
        "execution": {
          "iopub.status.busy": "2024-12-01T20:51:11.131444Z",
          "iopub.execute_input": "2024-12-01T20:51:11.135166Z",
          "iopub.status.idle": "2024-12-01T20:51:11.251083Z",
          "shell.execute_reply.started": "2024-12-01T20:51:11.135073Z",
          "shell.execute_reply": "2024-12-01T20:51:11.249981Z"
        },
        "id": "9h7TU37mBW6l",
        "outputId": "7b2dc7c1-11e6-4997-af1f-d5ef70669f59"
      },
      "outputs": [
        {
          "name": "stdout",
          "text": "Confusion Matrix:\n[[ 22  14   0   0   0   1   4   0   0   0   0   0   0   0   0   1   0   0\n    0   1   0   2   0   0]\n [ 16  84   0   0   0   2   3   0   0   0   4   0   0   0   0   0   0   0\n    0   2   0   1   0   0]\n [  0   1   0   0   0   0   0   1   0   0   2   0   1   0   0   0   0   0\n    0   0   0   2   0   0]\n [  0   0   0   0   0   0   1   0   0   0   0   0   0   0   0   0   0   0\n    0   1   0  11   0   0]\n [  0   0   0   0   0   0   1   1   0   0   0   0   0   0   0   0   0   0\n    0   0   0   4   0   0]\n [  3   5   0   0   0  38   0   0   0   0   4   1   0   0   0   0   0   0\n    0   1   0   0   0   0]\n [  0   5   0   0   0   0 159   0   0   0   0   0   1   0   0   0   0   0\n    1   1   0   4   0   0]\n [  0   0   0   0   0   0   0  13   7   0   0   0   0   0   0   0   0   1\n    1   5   0   0   0   0]\n [  0   0   0   0   0   0   1   2  27   0   0   0   1   0   0   0   0   0\n    5   1   0   0   0   0]\n [  0   0   0   0   0   0   0   0   0   0   0   0   0   0   0   0   0   0\n    0   0   0   4   0   0]\n [  0   2   1   0   0   0   3   0   0   0 100   1   7   1   0   1   0   1\n    2   3   0   5   0   0]\n [  0   0   0   0   0   0   0   2   1   0   0  35   1   0   0   0   0   1\n    3   2   0   2   0   0]\n [  1   2   0   0   0   1   1   0   0   0  15   0  42   0   0   0   0   1\n    1   3   0   1   0   0]\n [  0   0   0   0   0   0   0   0   0   0   0   0   0  36   0   0   0   0\n    1   0   0   0   0   0]\n [  0   2   1   0   0   0   0   0   0   1   1   0   0   0   0   0   0   0\n    0   0   0   3   0   0]\n [  1   0   0   0   0   0   1   0   0   0   0   1   1   0   0   3   0   0\n    2   2   0   0   0   0]\n [  0   0   0   0   0   0   1   0   0   0   0   0   0   0   0   0   1   0\n    0   1   0   0   0   0]\n [  0   1   0   0   0   0   4   0   0   0   2   1   1   0   0   0   0  15\n    1   1   0   2   0   0]\n [  0   1   0   0   0   0   1   1   4   0   2   0   1   1   0   0   0   1\n   59   4   0   2   0   0]\n [  0   0   0   0   0   0   2   1   2   0   0   0   1   0   0   0   0   0\n    7  48   1   1   0   0]\n [  0   1   0   0   0   0   0   1   0   0   0   0   0   1   0   0   0   0\n    2   0  17   0   0   0]\n [  0   3   0   2   1   0   3   1   0   0   3   0   0   0   0   0   0   0\n    2   0   0  84   0   4]\n [  0   0   0   0   0   0   0   0   0   0   0   0   0   0   0   0   0   0\n    0   0   0   1   0   1]\n [  0   1   0   0   0   0   0   0   0   0   0   0   0   0   0   0   0   0\n    0   3   0   9   0   4]]\n\nClassification Report:\n              precision    recall  f1-score   support\n\n          AM       0.51      0.49      0.50        45\n          AN       0.69      0.75      0.72       112\n          BL       0.00      0.00      0.00         7\n          BM       0.00      0.00      0.00        13\n          CM       0.00      0.00      0.00         6\n          DC       0.90      0.73      0.81        52\n          EL       0.86      0.93      0.89       171\n          EO       0.57      0.48      0.52        27\n          EP       0.66      0.73      0.69        37\n          FB       0.00      0.00      0.00         4\n          GK       0.75      0.79      0.77       127\n          GL       0.90      0.74      0.81        47\n          GO       0.74      0.62      0.67        68\n          IK       0.92      0.97      0.95        37\n          IM       0.00      0.00      0.00         8\n          LL       0.60      0.27      0.37        11\n          OI       1.00      0.33      0.50         3\n          OM       0.75      0.54      0.63        28\n          PI       0.68      0.77      0.72        77\n          PL       0.61      0.76      0.68        63\n          PP       0.94      0.77      0.85        22\n          RC       0.61      0.82      0.70       103\n          RF       0.00      0.00      0.00         2\n          TE       0.44      0.24      0.31        17\n\n    accuracy                           0.72      1087\n   macro avg       0.55      0.49      0.50      1087\nweighted avg       0.71      0.72      0.71      1087\n\n\nAccuracy Score:\n0.7240110395584176\n",
          "output_type": "stream"
        }
      ],
      "execution_count": null
    },
    {
      "cell_type": "code",
      "source": [
        "target_names = model_2.classes_\n",
        "print(classification_report(y_test, y_pred, target_names=target_names))"
      ],
      "metadata": {
        "trusted": true,
        "execution": {
          "iopub.status.busy": "2024-12-01T20:51:11.252586Z",
          "iopub.execute_input": "2024-12-01T20:51:11.25337Z",
          "iopub.status.idle": "2024-12-01T20:51:11.302065Z",
          "shell.execute_reply.started": "2024-12-01T20:51:11.253313Z",
          "shell.execute_reply": "2024-12-01T20:51:11.300915Z"
        },
        "id": "q1RC0ZLqBW6m",
        "outputId": "9997fb98-6c9a-42c4-fc68-dd326daa2c31"
      },
      "outputs": [
        {
          "name": "stdout",
          "text": "              precision    recall  f1-score   support\n\n          AM       0.51      0.49      0.50        45\n          AN       0.69      0.75      0.72       112\n          BL       0.00      0.00      0.00         7\n          BM       0.00      0.00      0.00        13\n          CM       0.00      0.00      0.00         6\n          DC       0.90      0.73      0.81        52\n          EL       0.86      0.93      0.89       171\n          EO       0.57      0.48      0.52        27\n          EP       0.66      0.73      0.69        37\n          FB       0.00      0.00      0.00         4\n          GK       0.75      0.79      0.77       127\n          GL       0.90      0.74      0.81        47\n          GO       0.74      0.62      0.67        68\n          IK       0.92      0.97      0.95        37\n          IM       0.00      0.00      0.00         8\n          LL       0.60      0.27      0.37        11\n          OI       1.00      0.33      0.50         3\n          OM       0.75      0.54      0.63        28\n          PI       0.68      0.77      0.72        77\n          PL       0.61      0.76      0.68        63\n          PP       0.94      0.77      0.85        22\n          RC       0.61      0.82      0.70       103\n          RF       0.00      0.00      0.00         2\n          TE       0.44      0.24      0.31        17\n\n    accuracy                           0.72      1087\n   macro avg       0.55      0.49      0.50      1087\nweighted avg       0.71      0.72      0.71      1087\n\n",
          "output_type": "stream"
        }
      ],
      "execution_count": null
    },
    {
      "cell_type": "code",
      "source": [
        "# save model\n",
        "path = \"/kaggle/working/logistic_regression_cc_2nd_stg.pickle\"\n",
        "pickle.dump(model_2, open(path, \"wb\"))\n",
        "print(\"Model saved to\", path)\n"
      ],
      "metadata": {
        "trusted": true,
        "execution": {
          "iopub.status.busy": "2024-12-01T20:51:11.303425Z",
          "iopub.execute_input": "2024-12-01T20:51:11.304694Z",
          "iopub.status.idle": "2024-12-01T20:51:11.314063Z",
          "shell.execute_reply.started": "2024-12-01T20:51:11.304625Z",
          "shell.execute_reply": "2024-12-01T20:51:11.312716Z"
        },
        "id": "w9ETonmqBW6m",
        "outputId": "6be695fb-56f8-4ca5-89a5-5fd786a5e6b1"
      },
      "outputs": [
        {
          "name": "stdout",
          "text": "Model saved to /kaggle/working/logistic_regression_cc_2nd_stg.pickle\n",
          "output_type": "stream"
        }
      ],
      "execution_count": null
    },
    {
      "cell_type": "markdown",
      "source": [
        "#### Prediction"
      ],
      "metadata": {
        "id": "f48uUR8TBW6m"
      }
    },
    {
      "cell_type": "code",
      "source": [
        "# load the different models from path\n",
        "\n",
        "step_1_model_path = \"/kaggle/working/logistic_regression_cc_1st_stg.pickle\"\n",
        "step_2_model_path = \"/kaggle/working/logistic_regression_cc_2nd_stg.pickle\"\n",
        "\n",
        "step_1_model = pickle.load(open(step_1_model_path, 'rb'))\n",
        "step_2_model = pickle.load(open(step_2_model_path, 'rb'))\n",
        ""
      ],
      "metadata": {
        "trusted": true,
        "execution": {
          "iopub.status.busy": "2024-12-01T20:51:11.315396Z",
          "iopub.execute_input": "2024-12-01T20:51:11.315775Z",
          "iopub.status.idle": "2024-12-01T20:51:11.327382Z",
          "shell.execute_reply.started": "2024-12-01T20:51:11.315742Z",
          "shell.execute_reply": "2024-12-01T20:51:11.326214Z"
        },
        "id": "d9dYbeVBBW6m"
      },
      "outputs": [],
      "execution_count": null
    },
    {
      "cell_type": "code",
      "source": [
        "# create predict function for predicting class label\n",
        "\n",
        "def predict(model_1,model_2,final_dict,query):\n",
        "    # predict\n",
        "\n",
        "    test_1 =  count_vector_step_1.transform([query])\n",
        "    y_pred = model_1.predict(test_1)\n",
        "    if y_pred == 'med':\n",
        "        test_2 =  count_vector_step_2.transform([query])\n",
        "        y_pred = model_2.predict(test_2)\n",
        "    else:\n",
        "        y_pred = y_pred\n",
        "\n",
        "    if query in final_dict.keys():\n",
        "        y_pred = final_dict[query]\n",
        "    else:\n",
        "        y_pred = y_pred\n",
        "\n",
        "    return y_pred[0]"
      ],
      "metadata": {
        "trusted": true,
        "execution": {
          "iopub.status.busy": "2024-12-01T20:51:11.328962Z",
          "iopub.execute_input": "2024-12-01T20:51:11.330392Z",
          "iopub.status.idle": "2024-12-01T20:51:11.345719Z",
          "shell.execute_reply.started": "2024-12-01T20:51:11.330338Z",
          "shell.execute_reply": "2024-12-01T20:51:11.344448Z"
        },
        "id": "67BLtiblBW6m"
      },
      "outputs": [],
      "execution_count": null
    },
    {
      "cell_type": "code",
      "source": [
        "# check predictions\n",
        "\n",
        "final_result= []\n",
        "\n",
        "test = df.sample(150)\n",
        "test['Claim Description'].apply(preprocess)\n",
        "x_test = test['Claim Description']\n",
        "for query in x_test:\n",
        "\n",
        "    result = predict(step_1_model,step_2_model,fewer_class_dictionary,query)\n",
        "    final_result.append(result)"
      ],
      "metadata": {
        "trusted": true,
        "execution": {
          "iopub.status.busy": "2024-12-01T20:51:11.347251Z",
          "iopub.execute_input": "2024-12-01T20:51:11.347661Z",
          "iopub.status.idle": "2024-12-01T20:51:11.72835Z",
          "shell.execute_reply.started": "2024-12-01T20:51:11.347622Z",
          "shell.execute_reply": "2024-12-01T20:51:11.727231Z"
        },
        "id": "_qIV5ApPBW6m"
      },
      "outputs": [],
      "execution_count": null
    },
    {
      "cell_type": "code",
      "source": [
        "# check the accuracy and other metrics\n",
        "\n",
        "y_test_ = test['Coverage Code'].tolist()\n",
        "\n",
        "accuracy = accuracy_score(y_test, y_pred)\n",
        "print('Accuracy for logistic regression :',np.round(accuracy,2))\n",
        "\n",
        "print(\"*\"*100)\n",
        "\n",
        "\n",
        "print(classification_report(y_test_, final_result))\n",
        "print('*'*100)"
      ],
      "metadata": {
        "trusted": true,
        "execution": {
          "iopub.status.busy": "2024-12-01T20:51:11.729709Z",
          "iopub.execute_input": "2024-12-01T20:51:11.730154Z",
          "iopub.status.idle": "2024-12-01T20:51:11.749283Z",
          "shell.execute_reply.started": "2024-12-01T20:51:11.730109Z",
          "shell.execute_reply": "2024-12-01T20:51:11.74808Z"
        },
        "id": "e3DewHSlBW6n",
        "outputId": "415dc89a-a999-435e-9854-3889b8971736"
      },
      "outputs": [
        {
          "name": "stdout",
          "text": "Accuracy for logistic regression : 0.72\n****************************************************************************************************\n              precision    recall  f1-score   support\n\n          AB       0.80      0.57      0.67         7\n          AD       0.62      0.78      0.69        32\n          AL       1.00      0.90      0.95        10\n          AP       0.76      0.66      0.70        29\n          AU       1.00      1.00      1.00         1\n          GB       0.73      0.95      0.83        20\n          GD       0.64      0.70      0.67        20\n          GK       0.00      0.00      0.00         0\n          IK       0.00      0.00      0.00         1\n          LL       0.00      0.00      0.00         1\n          NS       1.00      0.67      0.80         3\n          PA       0.80      0.80      0.80        10\n          PB       1.00      0.80      0.89         5\n          PI       0.00      0.00      0.00         1\n          PL       0.00      0.00      0.00         1\n          PM       0.00      0.00      0.00         2\n          RB       0.60      0.50      0.55         6\n          RC       0.00      0.00      0.00         1\n\n    accuracy                           0.72       150\n   macro avg       0.50      0.46      0.47       150\nweighted avg       0.70      0.72      0.70       150\n\n****************************************************************************************************\n",
          "output_type": "stream"
        }
      ],
      "execution_count": null
    },
    {
      "cell_type": "markdown",
      "source": [
        "#### 2. Accident Source"
      ],
      "metadata": {
        "id": "n06mwl1GBW6n"
      }
    },
    {
      "cell_type": "code",
      "source": [
        "df['Accident Source'].nunique()"
      ],
      "metadata": {
        "trusted": true,
        "execution": {
          "iopub.status.busy": "2024-12-01T20:51:11.751013Z",
          "iopub.execute_input": "2024-12-01T20:51:11.751348Z",
          "iopub.status.idle": "2024-12-01T20:51:11.771468Z",
          "shell.execute_reply.started": "2024-12-01T20:51:11.751316Z",
          "shell.execute_reply": "2024-12-01T20:51:11.770317Z"
        },
        "id": "FwfDCbTSBW6n",
        "outputId": "9b8ce429-6202-4b95-c994-8ce1df28e966"
      },
      "outputs": [
        {
          "execution_count": 55,
          "output_type": "execute_result",
          "data": {
            "text/plain": "312"
          },
          "metadata": {}
        }
      ],
      "execution_count": null
    },
    {
      "cell_type": "code",
      "source": [
        "final_df['Accident Source'].value_counts()"
      ],
      "metadata": {
        "trusted": true,
        "execution": {
          "iopub.status.busy": "2024-12-01T20:51:11.772713Z",
          "iopub.execute_input": "2024-12-01T20:51:11.773004Z",
          "iopub.status.idle": "2024-12-01T20:51:11.792113Z",
          "shell.execute_reply.started": "2024-12-01T20:51:11.772977Z",
          "shell.execute_reply": "2024-12-01T20:51:11.791079Z"
        },
        "id": "Ooiih-UzBW6n",
        "outputId": "cb88db9d-b80a-44d4-e7d4-22474b4002a0"
      },
      "outputs": [
        {
          "execution_count": 56,
          "output_type": "execute_result",
          "data": {
            "text/plain": "Accident Source\nAlleged Negligent Act            20251\nSideswipe or lane change         15414\nStruck animal or object           7720\nStruck vehicle in rear            7400\nNot Otherwise Classified          7376\n                                 ...  \nMultiple Vehicle Collision          14\nMachine - point of operation        14\nVEHICLE                             13\nDefective Pipework                  11\nBoiler, pressure vessel, etc.       10\nName: count, Length: 312, dtype: int64"
          },
          "metadata": {}
        }
      ],
      "execution_count": null
    },
    {
      "cell_type": "code",
      "source": [
        "# check count of classes\n",
        "\n",
        "a_s_classes = pd.DataFrame(df_2['Accident Source'].value_counts())"
      ],
      "metadata": {
        "trusted": true,
        "execution": {
          "iopub.status.busy": "2024-12-01T20:51:11.793256Z",
          "iopub.execute_input": "2024-12-01T20:51:11.793585Z",
          "iopub.status.idle": "2024-12-01T20:51:11.812839Z",
          "shell.execute_reply.started": "2024-12-01T20:51:11.793554Z",
          "shell.execute_reply": "2024-12-01T20:51:11.811938Z"
        },
        "id": "QD9JI7FtBW6n"
      },
      "outputs": [],
      "execution_count": null
    },
    {
      "cell_type": "code",
      "source": [
        "a_s_classes"
      ],
      "metadata": {
        "trusted": true,
        "execution": {
          "iopub.status.busy": "2024-12-01T20:51:11.814115Z",
          "iopub.execute_input": "2024-12-01T20:51:11.814529Z",
          "iopub.status.idle": "2024-12-01T20:51:11.829774Z",
          "shell.execute_reply.started": "2024-12-01T20:51:11.814485Z",
          "shell.execute_reply": "2024-12-01T20:51:11.828748Z"
        },
        "id": "kU5iOVVPBW6n",
        "outputId": "8fbf4cc1-96be-43f6-d8ad-b452056edb84"
      },
      "outputs": [
        {
          "execution_count": 58,
          "output_type": "execute_result",
          "data": {
            "text/plain": "                               count\nAccident Source                     \nAlleged Negligent Act          20251\nSideswipe or lane change       15414\nStruck animal or object         7720\nStruck vehicle in rear          7400\nNot Otherwise Classified        7376\n...                              ...\nMultiple Vehicle Collision        14\nMachine - point of operation      14\nVEHICLE                           13\nDefective Pipework                11\nBoiler, pressure vessel, etc.     10\n\n[312 rows x 1 columns]",
            "text/html": "<div>\n<style scoped>\n    .dataframe tbody tr th:only-of-type {\n        vertical-align: middle;\n    }\n\n    .dataframe tbody tr th {\n        vertical-align: top;\n    }\n\n    .dataframe thead th {\n        text-align: right;\n    }\n</style>\n<table border=\"1\" class=\"dataframe\">\n  <thead>\n    <tr style=\"text-align: right;\">\n      <th></th>\n      <th>count</th>\n    </tr>\n    <tr>\n      <th>Accident Source</th>\n      <th></th>\n    </tr>\n  </thead>\n  <tbody>\n    <tr>\n      <th>Alleged Negligent Act</th>\n      <td>20251</td>\n    </tr>\n    <tr>\n      <th>Sideswipe or lane change</th>\n      <td>15414</td>\n    </tr>\n    <tr>\n      <th>Struck animal or object</th>\n      <td>7720</td>\n    </tr>\n    <tr>\n      <th>Struck vehicle in rear</th>\n      <td>7400</td>\n    </tr>\n    <tr>\n      <th>Not Otherwise Classified</th>\n      <td>7376</td>\n    </tr>\n    <tr>\n      <th>...</th>\n      <td>...</td>\n    </tr>\n    <tr>\n      <th>Multiple Vehicle Collision</th>\n      <td>14</td>\n    </tr>\n    <tr>\n      <th>Machine - point of operation</th>\n      <td>14</td>\n    </tr>\n    <tr>\n      <th>VEHICLE</th>\n      <td>13</td>\n    </tr>\n    <tr>\n      <th>Defective Pipework</th>\n      <td>11</td>\n    </tr>\n    <tr>\n      <th>Boiler, pressure vessel, etc.</th>\n      <td>10</td>\n    </tr>\n  </tbody>\n</table>\n<p>312 rows × 1 columns</p>\n</div>"
          },
          "metadata": {}
        }
      ],
      "execution_count": null
    },
    {
      "cell_type": "markdown",
      "source": [
        "#### Data imbalance"
      ],
      "metadata": {
        "id": "5xvRL-Q5BW6o"
      }
    },
    {
      "cell_type": "code",
      "source": [
        "few_classes_as = a_s_classes[a_s_classes['count'] < 20].index.to_list()\n",
        "medium_classes_as = a_s_classes[a_s_classes['count'] < 100].index.to_list()"
      ],
      "metadata": {
        "trusted": true,
        "execution": {
          "iopub.status.busy": "2024-12-01T20:51:11.830942Z",
          "iopub.execute_input": "2024-12-01T20:51:11.831266Z",
          "iopub.status.idle": "2024-12-01T20:51:11.845462Z",
          "shell.execute_reply.started": "2024-12-01T20:51:11.831237Z",
          "shell.execute_reply": "2024-12-01T20:51:11.844374Z"
        },
        "id": "RnjXo4jNBW6o"
      },
      "outputs": [],
      "execution_count": null
    },
    {
      "cell_type": "code",
      "source": [
        "# check the data with very few classes\n",
        "\n",
        "fewer_df_as = df_2[df_2['Accident Source'].isin(few_classes_as)]\n",
        "\n",
        "fewer_df_as.head(2)"
      ],
      "metadata": {
        "trusted": true,
        "execution": {
          "iopub.status.busy": "2024-12-01T20:51:11.846653Z",
          "iopub.execute_input": "2024-12-01T20:51:11.847072Z",
          "iopub.status.idle": "2024-12-01T20:51:11.874943Z",
          "shell.execute_reply.started": "2024-12-01T20:51:11.847038Z",
          "shell.execute_reply": "2024-12-01T20:51:11.873585Z"
        },
        "id": "kvO_zWYzBW6o",
        "outputId": "24838652-3e97-4af2-a213-b855f26d24e4"
      },
      "outputs": [
        {
          "execution_count": 60,
          "output_type": "execute_result",
          "data": {
            "text/plain": "                                     Claim Description Coverage Code  \\\n485    CLAIMANT SUFFER PROPERTY DAMAGE DUE TO LEAKAGE.            GD   \n545  A CUSTOMER WAS BUYING BLEACH AT ACO AROUND 4:0...            GD   \n\n                      Accident Source  \n485  Leak/Flood - Defective Materials  \n545         Container - Packaging Etc  ",
            "text/html": "<div>\n<style scoped>\n    .dataframe tbody tr th:only-of-type {\n        vertical-align: middle;\n    }\n\n    .dataframe tbody tr th {\n        vertical-align: top;\n    }\n\n    .dataframe thead th {\n        text-align: right;\n    }\n</style>\n<table border=\"1\" class=\"dataframe\">\n  <thead>\n    <tr style=\"text-align: right;\">\n      <th></th>\n      <th>Claim Description</th>\n      <th>Coverage Code</th>\n      <th>Accident Source</th>\n    </tr>\n  </thead>\n  <tbody>\n    <tr>\n      <th>485</th>\n      <td>CLAIMANT SUFFER PROPERTY DAMAGE DUE TO LEAKAGE.</td>\n      <td>GD</td>\n      <td>Leak/Flood - Defective Materials</td>\n    </tr>\n    <tr>\n      <th>545</th>\n      <td>A CUSTOMER WAS BUYING BLEACH AT ACO AROUND 4:0...</td>\n      <td>GD</td>\n      <td>Container - Packaging Etc</td>\n    </tr>\n  </tbody>\n</table>\n</div>"
          },
          "metadata": {}
        }
      ],
      "execution_count": null
    },
    {
      "cell_type": "code",
      "source": [
        "# for fewer classes either we can directrly create dictionary and use classes\n",
        "\n",
        "\n",
        "fewer_class_dictionary_as = dict()\n",
        "for idx,row in fewer_df_as.iterrows():\n",
        "\n",
        "    fewer_class_dictionary_as[row[0]] = [row[1],row[2]]\n",
        "\n",
        "fewer_class_dictionary_as"
      ],
      "metadata": {
        "trusted": true,
        "execution": {
          "iopub.status.busy": "2024-12-01T20:51:11.87653Z",
          "iopub.execute_input": "2024-12-01T20:51:11.877008Z",
          "iopub.status.idle": "2024-12-01T20:51:11.990257Z",
          "shell.execute_reply.started": "2024-12-01T20:51:11.876958Z",
          "shell.execute_reply": "2024-12-01T20:51:11.988919Z"
        },
        "id": "I1ZELqcoBW6o",
        "outputId": "2c19bd99-bec1-4b3f-cf29-9b63c741e6bf"
      },
      "outputs": [
        {
          "execution_count": 61,
          "output_type": "execute_result",
          "data": {
            "text/plain": "{'CLAIMANT SUFFER PROPERTY DAMAGE DUE TO LEAKAGE.': ['GD',\n  'Leak/Flood - Defective Materials'],\n \"A CUSTOMER WAS BUYING BLEACH AT ACO AROUND 4:00 PM, AND THE LID   WASN'T SEALED PROPERLY AND LEAKED ON HIS PANT WHILE HE WAS        SCANNING PRODUCTS.\": ['GD',\n  'Container - Packaging Etc'],\n 'CLAIMANT WAS DRIVING ON THE ROAD AND VEHICLE HIT THE SPEED BUMP   CAUSING VEHICLE DAMAGE.': ['GD',\n  'Speed bump'],\n 'CLAIMANT SUFFERED PROPERTY DAMAGE DUE TO FLOOD.': ['GD',\n  'Leak/Flood - Defective Workmanship'],\n \"DEVIL'S POOL HOT TUB - TRACEY GOT A RASH ON TORSO AND BACK ALONG  WITH CHILLS AND BODY ACHES, ANTIBIOTICS WERE REQUIRED\": ['GB',\n  'Infectious, parasitic agents, NOC - Liab.'],\n 'CLAIMANT SUFFERED PROPERTY DAMAGED DUE TO DAMPNESS.': ['GD',\n  'Leak/Flood - Defective Workmanship'],\n 'ACCIDENT ENTRE 2 VOITURE DERRI RE LE MAGASIN TROP GLISSANT, ALORS NE POUVAIS PAS FREINER.': ['AD',\n  'Frost/Ice/Snow'],\n 'CLAIMANT FALL DUE TO KERB AND SUFFER THE INJURIES': ['GB',\n  'Trip - kerb stone'],\n 'CLAIMANT SUFFERED PROPERTY DAMAGED DUE TO LEAKAGE': ['GD',\n  'Leak/Flood - Defective Materials'],\n 'CLAIMANT WALKING THE ROAD AND TRIPPED ON A DEFECTIVE KERB CAUSING INJURY.': ['GB',\n  'Trip - kerb stone'],\n 'CLAIMANT CYCLING ALONG PATH IN A WESTERLY DIRECTION WHEN HIS      BICYCLE WHEEL HIT A SUNKEN PART OF THE ROAD BY A SPEED BUMP.': ['GB',\n  'Speed bump'],\n 'CAUSED DAMAGE TO INSURED VEHICLE CIRCUMSTANCES UNKNOWN.': ['AP',\n  'EXACT CAUSE OF DAMAGE UNKNOWN'],\n 'GUEST STATED THAT ON SEPTEMBER 8 OR 9, HE WAS LEAVING THE PARKING LOT AND CLAIMED THAT HE HIT A POTHOLE. HE STATED THAT IT DAMAGED  THE DRIVER SIDE OF HIS JEEP. HE ALSO STATED THAT HE CALLED AND    INFORMED ABOUT THE POTHOLE TO GET FIX.': ['GD',\n  'Sink Hole'],\n \"UMBRELLA ALLEGEDLY FELL DUE TO WIND AND STRUCK GUEST'S WRIST.\": ['GB',\n  'Natural Hazard-Non Vegetation'],\n 'CUSTOMER PURCHASE A CAN OF SPRAY PAINT, PLACED IT INN THE BACK    SEAT OF HIS VEHICLE, CAN OF SPRAY PAINT WENT OFF SPRAYING THE     SEATS AND DOOR FRAME OF HIS CAR': ['GD',\n  'Container - Packaging Etc'],\n 'A CUSTOMER BY THE NAME OF RAINEY MILLER CALLED AND COMPLAINED     ABOUT ONE OF THE DELIVERY BIKER. SHE SAID SHE WAS WALKING WITH HERFRIEND ON WARREN ST. WHEN A DELIVERY BIKER CAME OUT OF NOWHERE ANDHIT HER WITH THEIR BIKE AND SHE FELL TO THE GROUND. SHE ALSO SAID THE BIKER WAS RIDING ON THE SIDEWALK AND DIDNT EVEN ACKNOWLEDGE   HER AND JUST CONTINUED TO RIDE AWAY. SHE HAD THE BIKE NUMBER WHICHWAS 952.': ['GB',\n  'Bicycle'],\n \"MEMBER'S KEY FOB WAS DAMAGED BY AN EMPLOYEE FROM THE TIRE CENTER\": ['GD',\n  'Employee'],\n 'THE IV WAS BEING TAKEN TO GET WASHED. THE IV WAS STRUCK BY THE OV AS IT WAS EXITING A DRIVEWAY, TURN': ['GK',\n  'Aircraft'],\n 'THIRD PARTY VEHICLE  HIT OUR VEHICLE IN THE REAR CAUSING OUR      VEHICLE TO HIT THE  OTHER TPV AHEAD .': ['AD',\n  'Multiple Vehicle Collision'],\n 'CLAIMANT WHILE WORKING IN ORGANIZATION SUFFERED FROM ASBESTOS     CAUSING INJURIES IN CHEST': ['EL',\n  'Asbestos'],\n 'GUEST ALLEGES SHE GOT RINGWORM FROM GUEST ROOM LINENS. GUEST      NOTIFIED HOTEL AFTER DEPARTURE.': ['PM',\n  'Infectious, parasitic agents, NOC - Liab.'],\n \"CLAIMANT'S PROPERTY DAMAGED DUE TO LEAKAGE.\": ['GD',\n  'Leak/Flood - Defective Materials'],\n 'CLAIMANT REVERSED HER CAR INTO THE TEMPORARY TRAFFIC LIGHT UNIT A.TMA OPERATIVE ALLEGEDLY LEFT THE BASE UNIT/GENERATOR ON THE ROAD  AND THEN WALKED OFF TO SET UP CONES ELSEWHERE': ['GD',\n  'Other'],\n 'CIRCUMSTANCES UNCLEAR - ROAD TRAFFIC COLLISION & SPILLAGE': ['AD',\n  'Multiple Vehicle Collision'],\n 'CLAIMANT TRIPPED AND FELL DUE TO A RAISED SECTION OF TARMAC WITHINTHE CONFINES OF THE BUS STOP.': ['GB',\n  'Tarmac Defect'],\n 'INSURED VEHICLE RAISING DOCK LEVELLER CAUGHT SHUTTER HANDLE       CAUSING VEHICLE DAMAGE TO INSURED': ['AP',\n  'Misc - Object Hit Vehicle'],\n 'ASBESTOS EXPOSURE': ['GB', 'Asbestos'],\n 'INSURED BENT OVER TO CONNECT A HOSE TO THE LOAD AND HIS BACK GAVE OUT. SUSTAINED PAIN TO HIS LOWER BACK.': ['NS',\n  'Hose'],\n 'THIRD PARTY VEHICLE COLLIDED WITH INSURED VEHICLE CAUSING LOSS ANDDAMAGE.': ['AB',\n  'Insured Turned Against TP Path'],\n 'CLAIMANT SUFFERED PROPERTY DAMAGE DUE TO BOILER LEAKAGE.': ['GD',\n  'Boiler, pressure vessel, etc.'],\n 'THE CLAIMANT HAS BEEN IN HIS KITCHEN AND HAS TRIPPED ON A RAISED  TILE. THE CLAIMANT HAS SUSTAINED INJURY AND LOSS.': ['GB',\n  'DEFECTIVE FLOOR'],\n 'THE CLAIMANT WAS WALKING TO THE DOOR ENTRANCE WHEN HE TRIPPED ON  THE SIDEWALK AND FELL ON HIS FACE.': ['GB',\n  'Natural Hazard-Non Vegetation'],\n 'SMALL PD.CLAIMANT ALLEGES, WHILE IV WAS BEING TOWED BY OV (3RD    PARTY), IV RAN OVER STONE STRUCTURE ON PROPERTY. NO INJURIES      REPORTED.': ['AD',\n  'Contract Hauler Accident/Temp Employee'],\n 'WATER DAMAGE CAUSED BY LEAKING DISHWASHER': ['PB',\n  'Leak/Flood - Defective Materials'],\n 'CLAIMANT SUFFERED PROPERTY DAMAGE DUE TO BURST PIPE.': ['GD',\n  'Defective Pipework'],\n 'MBR COMPLAINT, EE GOING THROUGH CART AND THE AUDITING OF HIS CART ITEM AT THE DOOR, STATED HE WAS CALLING HEAD OFFICE.': ['GB',\n  'Employee'],\n 'AT APPROX 7:10 PM I HAD REPORTS OF A POI GOING INTO THE WASHROOM  WITH A BACKPACK.  I ASKED SECURITY TO FOLLOW UP AS I WAS WITH A   CUSTOMER.  AT APPROX 7:20 PM, I MET WITH THE SECURITY GUARD NEAR  THE BACK RACE TRACK, AISLE 6 AND HE ADVISED THAT SHE WAS IN': ['PI',\n  'Employee'],\n 'CLAIMANT SUFFERED INJURY DUE TO CEILING COLLAPSED': ['GB',\n  'Ceiling Collapse'],\n 'CLAIMANT SUFFERED PROPERTY DAMAGE DUE TO WATER LEAKAGE.': ['GD',\n  'Leak/Flood - Defective Materials'],\n 'THE CX PURCHASED MULTIPLE CANS OF PAINT WHICH SHE HAD TINTED AT   OUR PAINT DESK. WHEN SHE ARRIVED HOME SHE FOUND ONE OF THE QUARTS OF CHALK PAINT HAD COME OPEN AND SPILLED ALL OVER HER TRUNK AND   GROCERIES.': ['GD',\n  'Container - Packaging Etc'],\n 'WE GOT OUR TRAILER CUSTOMIZED FROM LCS, AND DUE TO THE RECENT     SNOWFALL IN GTA, OUR NUMBER OF TRAILERS GOT COLLAPSED. LCS IS     NOT ACCEPTING THEIR RESPONSIBILITY.                               WE WILL BE CLAIMING FOR OUR TRAILERS. KINDLY SEND AN APPRAISER    ASAP.                                                             DOCUMENTATION TO FOLLOWS ONCE ADJUSTER IS ASSIGNED.': ['AP',\n  'Frost/Ice/Snow'],\n 'CLAIMANT FELL DUE TO DRAIN HOLE CAUSING INJURY.': ['GB',\n  'Fall - hole/drain cover - defect/missing'],\n \"CLAIMANT'S PROPERTY DAMAGED DUE TO DAMPNESS.\": ['GD',\n  'Leak/Flood - Defective Materials'],\n 'THE DOOR TO THE TRAILER STARTED GOING UP REALLY FAST AND INSURED  FINGERS GOT SLAMMED IN TRAILER DOOR': ['NS',\n  'Trailer - Door/Seal'],\n 'CLAIMANT STATES THAT WHILE THE FORKLIFT WAS LOADING HIS TRUCK WITHA PALLET OF MULCH, ONE OF THE PRONGS FROM THE FORKLIFT WENT       THROUGH THE DRIVER SIDE TAIL LIGHT.': ['GD',\n  'Machine - point of operation'],\n 'TRIPPED ON A KERB STONE WHICH WAS SIGNIFICANTLY RAISED AND        DANGEROUS.': ['GB',\n  'Trip - kerb stone'],\n 'PHV HIT TPV IN REAR - ANOTHER TPV HIT PHV IN REAR': ['AP',\n  'Multiple Vehicle Collision'],\n \"JOSEPHINE WRIGHT (105, SUN SET DRIVE LIONS BAY, 6049219370) WAS   WALKING WITH HER HUSBAND FROM THE PARKING LOT TOWARDS THE ENTRANCEOF THE STORE. SHE DIDN'T NOTICE THE SPEED BUMP AND TRIPPED OVER   AND INJURED HER RIGHT EYEBROW AND RIGHT CHICK.\": ['GB',\n  'Speed bump'],\n 'PHV HIT REAR OF TPV1 INTO TPV2': ['AD', 'Multiple Vehicle Collision'],\n 'IMPACT DAMAGE WHEN VEHICLE LOST CONTROL': ['RB', 'VEHICLE'],\n 'OUR CREW ARRIVED BACK AT THE DEPOT. AS THE MATE GOT OUT OF THE    PASSENGER DOOR THE WIND TOOK HOLD OF IT AND BENT THE DOOR BACK.': ['AP',\n  'Other'],\n 'INSURED VEHICLE ROLLED OVER ON NATIONAL HIGHWAYS CAUSING DAMAGED  TO BARRIER.': ['AD',\n  'Insured Lost Control'],\n 'UPN BALLAST CREWS DAMAGED NINETEEN (19) PARKED AND UNOCCUPIED     VEHICLES AT M.P. 29.03 - 1301 WESTERN AVE LAKE FOREST, IL.': ['GD',\n  'Machine - point of operation'],\n 'CLAIMANT SUFFERED DAMAGE TO COAT AS CAUGHT IN ESCALATORS': ['GD', 'Other'],\n 'CUSTOMERS SLIPPED ON SOAP THAT ANOTHER CUSTOMER SPILLED ON THE    FLOOR AND TWISTED HER LEFT ANKLE AND HIT HER RIGHT KNEE.': ['GB',\n  'Soap, detergent, cleaning compound'],\n 'CLAIMANT SUFFERED INJURY DUE TO CEILING FELL ON HER HEAD.': ['GB',\n  'Ceiling Collapse'],\n 'INSURED VEHICLE TRIED TO BRAKE BUT DUE TO THE MUDDY ROAD THE      INSURED VEHICLE SLID AND HIT THIRD PARTY VEHICLE': ['AD',\n  'Insured Lost Control'],\n 'CLAIMANT TRIPPED AND FELL DUE TO KERB CAUSING BODILY INJURY': ['GB',\n  'Trip - kerb stone'],\n 'CLAIMANT SUFFERED PROPERTY DAMAGE DUE TO ROOF HAD FALLEN.': ['GD',\n  'Ceiling Collapse'],\n 'THE CLAIMANT WAS RAN OVER BY A 5-TON ROLLER.': ['GB',\n  'Machine - point of operation'],\n 'AS JR DRIVER WAS LEAVING THE FUELLING STATION, THE NSR OF THE     TRAILER HAS MADE CONTACT WITH THE METAL CASING AROUND FUEL PUMP': ['AD',\n  'Misc - Object Hit Vehicle'],\n 'MY  FATHER, WHO IS NOT FLUENT IN ENGLISH, ATTEMPTED TO PAY AT THE CUSTOMER SERVICE DESK, HE WAS MET WITH AN EXTREMELY AGGRESSIVE    RESPONSE FROM ONE OF YOUR MANAGERS, SHAHNAZ. SHAHNAZ MADE         DISPARAGING  REMARKS TO MY FATHER SAYING ARE YOU BLIND ,STUPID...': ['PI',\n  'Employee'],\n 'ELIZABETH HARTMAN WHO WAS SEATED AT TABLE 75 WHEN THE LEG OF THE CHAIR BROKE CAUSING HER TO FALL DOWN. SHE IS NOT CLAIMING INJURY OR': ['GB',\n  'Office or Restaurant Furniture'],\n 'GRORCIES IN HER HAND BASKET, A BOTTLE OF MEAN GREEN               ANTI-BACTERICAL MULTI SURFACE CLEANER WAS OPEN AND SPILLED ONTO   HER GROCERIES AND HER PHONE. SHE WANTED REPORT FILED JUST IN CASE HER PHONE IS DAMAG': ['GD',\n  'Soap, detergent, cleaning compound'],\n 'EFFECTED MEMBER SAT DOWN IN A CHAIR IN THE MIDWAY CPD OFFICE AND  SAID CHAIR FLIPPED OVER END CAUSING MEMBER TO FALL TO THE GROUND  CAUSING PAIN TO HER BACK/HIP/KNEES AND TAILBONE. THE BACK OF THE  CHAIR FURTHER STRUCK THE MEMBER IN THE HEAD CAUSING DISCOMFORT.   MEMBER DECLINED TREATMENT AT THIS TIME.': ['NS',\n  'Office or Restaurant Furniture'],\n 'CLAIMANT FALL IN OPEN DRAIN CAUSING BODILY INJURY': ['GB',\n  'Fall - hole/drain cover - defect/missing'],\n 'LUMP OF ROCK ALLEGEDLY HIT INSURED VEHICLE CAUSED DAMAGE TO       VEHICLE.': ['GD',\n  'Other'],\n 'CLAIMANT FELL DUE TO RAISED KIRB STONE CAUSING INJURY': ['GB',\n  'Trip - kerb stone'],\n \"ON JULY 5. 2022, MS. TIDWELL WAS DRIVING HER VEHICLE ON BILL      GARDNER PARKWAY, APPROXIMATELY 30 FEET WEST OF ITS INTERSECTION   WITH STRONG ROCK PARKWAY IN THE CITY OF LOCUST GROVE, GEORGIA. AS SHE WAS DRIVING HER VEHICLE, A TREE ON THE SIDE OF BILL GARDNER   PARKWAY FELL ONTO MS. TIDWELL'S VEHICLE, CAUSING HER SERIOUS      INJURIES. SHE SUSTAINED INJURIES TO HER NECK BACK, HEAD, LEFT ARM AND LEFT LEG, ALONG WITH CONTINUING HEADACHES.\": ['GB',\n  'Natural Hazard-Vegetation'],\n 'HIRER LOST CONTROL & HIT TEMPORARY CONCRETE/METAL ROAD WORKS      BARRIER.': ['AD',\n  'Insured Lost Control'],\n 'SP DAMAGED RETAINING WALL WHICH CREATED A SINK HOLE AND ALSO LEFT TIRE MARKS IN DRIVEWAY. NO INJURY, NO POLICE, NO TOW': ['AD',\n  'Sink Hole'],\n 'CUSTOMER EMERGED FROM AISLE 11 WITH HIS RIGHT THUMB BLEEDING.     CUSTOMER WAS PROVIDED FIRST AID BY NATHAN W IN D21.  CUSTOMER     SPOKE LIMITED ENGLISH, BUT SAID HE CUT HIS FINGER ON A NAIL TRYINGTO COMPARE IT TO ONE AT HOME.  WE COULD NOT LOCATE THE ITEM.': ['GB',\n  'Sharp Object'],\n 'DAVID WAS STANDING ON THE SIDE OF THE CONVEYOR HELPING FEED THE   NEW CONVEYOR CHAIN INTO THE CONVEYOR CHUTE. THEY HAD ALREADY      PULLEDSEVERAL SECTIONS INTO THE CHUTE': ['GB',\n  'Machine - point of operation'],\n 'CLAIMANT WAS WALING OUTSIDE THE TRAIN STATION SHE TRIPPED AND FELLDUE TO COBBLE STONE CAUSING INJURY.': ['GB',\n  'Trip - kerb stone'],\n 'POSSIBLE ASBESTOS EXPOSURE WHILE COMPLETING RENOVATIONS.': ['NS',\n  'Asbestos'],\n 'FIRE STARTED ON STOVE IN KITCHEN AFTER SCHOOL HOURS CAUSING SMOKE DAMAGE TO BLDG': ['RB',\n  'Grease Fires - Kitchen'],\n 'MBR ALLEGES WH EMPLOYEE DAMAGED 2 TIRES DURING THE CHANGE OF      2022.09.28. HE CONTACTED WH ONLY ON 2022.10.24 TO REPORT INCIDENT': ['GD',\n  'Employee'],\n \"PAINT SPILL IN CUSTOMER'S VEHICLE , THEY WENT AROUND THE CORNER   AND BACK SEAT IS FULL OF PAINT, EGYPTIAN COTTON SHEET HAS PAINT , PAINT IS WATER SOLVABLE SKU 1000402560\": ['GD',\n  'Container - Packaging Etc'],\n 'GUEST WAS PROJECTILE VOMITING, COMPLAINING ABOUT BEING HOT AND    BLACKING OUT. PARAMEDICS ARRIVED AND REPEATEDLY ASKED GUEST IF SHEHAD TAKEN EDIBLES OR PILLS OR ANY OTHER DRUGS. THE GUEST SAID NO. THE PARAMEDICS STATED THAT SHE MUST BE ON SOMETHING TO BEING      ACTING THAT WAY THAT SHE WAS.': ['GB',\n  'Natural Hazard-Non Vegetation'],\n 'CUSTOMER RETURNED TO VEHICLE TO FIND A LARGE SCRATCH ON DRIVERS   SIDE REAR DOOR. CLAIMS IT WAS NOT THERE WHEN HE ENTERED STORE.': ['GD',\n  'EXACT CAUSE OF DAMAGE UNKNOWN'],\n 'MEMBER ALLEGES A CART PUSHER \"CAME AT HIM\" AND THAT  HIS ITEM WAS TOUCHED BY AN EMPLOYEE': ['GB',\n  'Employee'],\n 'CLAIMANT FELL ONTO UNEVEN ROAD SERVICE WITH SMALL \"SINK\" HOLES IN THE LANE CAUSING INJURY': ['GB',\n  'Sink Hole'],\n 'POTENTIAL EXPOSURE TO ASBESTOS IN THE FRANKLIN PARK MAINTENANCE OFWAY BUILDING': ['NS',\n  'Asbestos'],\n 'CLAIMANT RAN WOOD THROUGH A SAW BACKWARDS AND CUT HANDS.': ['GB',\n  'Machine - point of operation'],\n 'SALLY CRUVER WAS VISITING ANOTHER GUEST, FRANCIS REDMOND, IN HIS  ROOM 109 AND UPON GETTING OUT OF THE  CHAIR SHE SLIPPED AND FELL': ['GB',\n  'Office or Restaurant Furniture'],\n 'MARIES CO. R-II SCHOOL DISTRICT - DONNA WAS DELIVERING FLOWERS,   FELL ON ENTRY STEPS, BREAKING VASE AND CUTTING FINGERS ON LEFT    HAND AND HAS PAIN IN ELBOW': ['GB',\n  'Natural Hazard-Non Vegetation'],\n 'IN THE PERFORMANCE OF HIS DUTY, FF. LAINSKAS (LEADING OUT A HOSE  LINE), INJURED HIS RIGHT THUMB': ['NS',\n  'Hose'],\n 'CLAIMANT SUFFERED PROPERTY DAMAGE DUE TO DAMPNESS AND WATER       LEAKAGE.': ['GD',\n  'Leak/Flood - Defective Workmanship'],\n 'INSURED ENTERED THE ROUNDABOUT ACROSS PATH OF THIRD PARTY CAUSING VEHICLE DAMAGE': ['AD',\n  'Insured Turned Against TP Path'],\n 'CLMT ALLEGES FELL IN MANHOLE CAUSING DAMAGE TO KEY FOB & INJURY TO LEFT ANKLE & HIP. BG HAD NOT DONE WORK IN AREA OVER 6 MONTHS.': ['GB',\n  'Sink Hole'],\n 'THE CUSTOMER PURCHASED BEHR MASONRY, STUCCO AND BRICK PAINT AND   USED IT TO PAINT THE TILES INSIDE THEIR SHOWER.  THEY DISCOVERED  THAT THIS IS NOT THE CORRECT PRODUCT FOR THE JOB.  THEY HAVE      ADVISED THAT AN ASSOCIATE RECOMMENDED THE PRODUCT TO BE USED.': ['PB',\n  'Employee'],\n \"CLAIMANT'S PROPERTY DAMAGED DUE TO RADIATOR LEAKAGE.\": ['GD',\n  'Leak/Flood - Defective Materials'],\n 'CUSTOMER WENT TO USE THE HAND SANITIZER LOCATED AT THE EXPRESS    LANES. WHEN SHE PUSHED ON THE NOZZLE, INSTEAD OF THE LIQUID       SQUIRTING DOWN INTO HER HANDS IT SQUIRTED OUT INTO HER BOTH HER   LEFT AND RIGHT EYE. THE NOZZLE WAS CLOGGED.': ['GB',\n  'Soap, detergent, cleaning compound'],\n 'THE CLAIMANT STATED SHE WAS DX WITH E COLI 4 TIMES SINCE MAY 2022 AS A RESULT OF INGESTING TAP WATER IN HER APARTMENT.': ['GB',\n  'Infectious, parasitic agents, NOC - Liab.'],\n 'CLIENTE ENCEINTE ASSISE SUR LES SACS DE SEL EN CAISSE CENTRALE.EN SE LEVANT A COTE DE SON MARIE ELLE S EVANOUE. ELLE REPREND VITE   CONNAISSANCE ET REFUSE VITE LAPPEL 911 AVEC SON MARIE.': ['GB',\n  'EXACT CAUSE OF DAMAGE UNKNOWN'],\n 'CUSTOMER PURCHASED SOME GLIDDEN ESSENTIALS PAINT THAT WAS TINTED  AND SOME SPILLED ON HIS BACK FLOOR MAT AND HOODIE SLEEVE.': ['GD',\n  'Container - Packaging Etc'],\n 'MEMBER ALLEGEDLY CUT HIS FINGER REMOVING A NINJA BLENDER FROM THE BOX.': ['PA',\n  'Libel, slander - defamation'],\n 'CLAIMANT SUFFERED PROPERTY DAMAGE DUE TO THE CEILING FALLING AND  FLOODING .': ['GD',\n  'Ceiling Collapse'],\n 'I TRIPPED AND FELL ON  KICKING HUGE SINKHOLE ABOUT 6FT AWAY FROM  THE CURB.': ['GB',\n  'Fall - hole/drain cover - defect/missing'],\n 'MAINTENANCE MANAGER LUIS \"DANNY\" SANDOVAL WAS IN THE BACK OFFICE AND HIT HIS HEAD ON THE CABINET DOOR HE LEFT OPEN ABOVE  THE MAINTE': ['GB',\n  'Office or Restaurant Furniture'],\n 'MBR 9 YEARS OLD SON SLIPPED AND FELL AS HE WAS EXITING THEIR      VEHICLE. FELL ON BUTTOCKS AND HIT HIS BACK AGAINST TRUCK.': ['GB',\n  'Frost/Ice/Snow'],\n 'THE CUSTOMER ALLEGES THE EE CAUSED DAMAGE TO RUB RAILS TO THE TRAILER WHILE UNLOADING THE PALLETS.': ['GD',\n  'Aircraft'],\n 'THE DOOR TO THE TRAILER STARTED GOING UP AND SMASHED INSUREDS     FINGERS IN THE TRAILER DOOR': ['NS',\n  'Trailer - Door/Seal'],\n 'CUSTOMER INJURED HIMSELF ON THE FINGER AFTER HE LIFTED THE WHITE  SHELVING(WAS SHARP AROUND THE EDGES) WHICH WAS CUT TO THE LENGTH  THAT CUSTOMER REQUESTED, WAS BLEEDING BECAUSE OF THE CUT': ['GB',\n  'Sharp Object'],\n 'THE TEMP EMP WAS STEPPING OFF THE BACK OF THE TRUCK AND TWISTED   HIS RIGHT ANKLE. THE TEMP EMP THEN WALKED AWAY FROM THE LOCATION.': ['AB',\n  'Contract Hauler Accident/Temp Employee'],\n 'WHILE THE TRUCK WAS HEADING EAST THE TWO TRUCKS WERE GOING THE    OPPOSITE DIRECTION OF EACH OTHER WHEN A PIECE OF CONCRETE WENT    THROUGH THE WINDSHIELD AND STRUCK THE TEMP EMP . THE TEMP. EMP.   SUSTAINED SOME SCRAPES AND BLEEDING ON HIS BICEP.': ['AB',\n  'Contract Hauler Accident/Temp Employee'],\n 'INSURED VEHICLE GETS HIT IN REAR CAUSING TO MOVE AND HIT ANOTHER  THIRD PARTY VEHICLE CAUSING VEHICLE DAMAGE TO THIRD PARTY': ['AD',\n  'Multiple Vehicle Collision'],\n 'PERSONAL INJURY - CLAIMANT SUSTAINED INJURIES WHEN HE WAS         DISEMBARKING FLIGHT FROM PERTH TO TELFER.': ['GB',\n  'DEFECTIVE FLOOR'],\n \"CEVA CONTRACTED DRIVER DROPPED TRL 420066 ON TUES 12/6 AT AMAZON  AND WENT BACK ON 12/9 NOTICED THAT THE TRAILER SWING DOOR WAS     KNOCKED OFF THE HINGES. DRIVER DOES NOT KNOW WHO DAMAGED &        PROVIDED ERIKA WITH THE GUARD SHACK AT AMAZON'S # 523 320 0807.\": ['AP',\n  'Trailer - Door/Seal'],\n 'MBR WAS FILLING HIS VEHICLE AR THE GAS PUMP WHEN A PIECE OF ICE   FELL FROM THE CANOPY': ['GB',\n  'Frost/Ice/Snow'],\n 'CLAIMANTS TRAINER GOT CAUGHT IN THE HAZARD AND CLAIMANT FELL TO   THE GROUND .': ['GB',\n  'Other'],\n 'AN EMPLOYEE WAS TEST DRIVING THE IV WHEN THE OV MERGED AND STRUCK THE D/S IV, CAUSING THE D/S FRONT': ['GK',\n  'Aircraft'],\n 'A GUEST WAS GETTING OUT OF THEIR VEHICLE WHEN SHE FELL. AFTER     OBSERVING THE PARKING LOT THERE IS WHAT LOOKS TO BE TREE ROOTS    GROWING UNDER THE ASPHALT CAUSING IT TO LEAVE A HOLE ALONG WITH A RIPPLE IN THE PARKING LOT.': ['GB',\n  'Natural Hazard-Vegetation'],\n 'CLIENT HIT STATIONARY THIRD PARTY , CAUSES MULTIPLE COLLISION': ['AD',\n  'Multiple Vehicle Collision'],\n 'CLAIMANT LOST HIS FOOTING ON A DEFECTIVE UTILITY COVER, CAUSING   HIM TO FALL SUSTAIN INJURIES': ['GB',\n  'Fall - hole/drain cover - defect/missing'],\n 'AN EMPLOYEE WAS RIDING A CUSTOMER MOTORCYCLE, LOST CONTROL AND STRUCK ANOTHER CUSTOMER VEHICLE. THE': ['GK',\n  'Aircraft'],\n 'INSURED VEHICLE TURN FOR BACK LANE AND HIT THIRD PARTY VEHICLE    CAUSING VEHICLE DAMAGE': ['AD',\n  'Insured Turned Against TP Path'],\n 'ON SEPTEMBER 28, 2021, MR. TRAN WAS INVOLVED IN A MOTOR VEHICLE COLLISION CAUSED  BY A THIRD-PARTY T': ['GO',\n  'Aircraft'],\n 'ASBESTOS CLAIM': ['PA', 'Asbestos'],\n 'MBR SLIPPED AND FELL ON A PATCH OF ICE IN HANDICAPPED PARKING     SPACE': ['GB',\n  'Frost/Ice/Snow'],\n 'SMALL PD. WHILE THE IV WAS SERVICING A CUSTOMER, THE IV           EXPERIENCED MECHANICAL ISSUES, CAUSING THE IV TO LEAK ANTI FREEZE ONTO THE ASPHALT AND INTO THE SEWERS. THERE WAS NO DAMAGE TO THE  IV WITH NO REPORTED INJURIES.': ['AL',\n  'Leak/Flood - Defective Materials'],\n \"THIS MORNING, THE DRIVER HAD SOME ISSUE BECAUSE OF BAD WEATHER ANDICY ROAD. WHEN HE TRIED TO PARK HIS TRUCK IN THE CUSTOMER'S       ENTRANCE FOR PO 516237743, THE TRUCK SLID AND HIT THE NEIGHBOUR'S CARSHELTER.\": ['GD',\n  'Frost/Ice/Snow'],\n 'DAMAGE CAUSED TO INSURED VEHICLE CIRCUMSTANCES UNKNOWN.': ['AP',\n  'EXACT CAUSE OF DAMAGE UNKNOWN'],\n 'INSURED VEHICLE WAS PARKED, SOMEONE BASHED DOOR, CAUSED VEHICLE   DAMAGE.': ['AP',\n  'EXACT CAUSE OF DAMAGE UNKNOWN'],\n 'INSURED VEHICLE HIT THIRD PARTY VEHICLE CAUSING INJURY': ['AB',\n  'Insured Turned Against TP Path'],\n 'WHILE ADVANCING A HOSE LINE INTO THE BASEMENT OF A RESIDENTIAL    HOUSE FIRE, CAPT. HANSON CONDUCTED A PRIMARY SEARCH OF THE        BASEMENT LOOKING FOR VICTIMS. AS HE MADE HIS WAY BACK UP THE      STAIRS, HE STEPPED ON THE HOSE LINE AND FELL ON THE STAIRS        TWISTING HIS RIGHT ANKLE AND LEFT KNEE.': ['NS',\n  'Hose'],\n 'WHILE PARTICIPATING IN THE CHICAGO POLICE DEPARTMENT 40 HOUR      BICYCLE CERTIFICATION AND CROWN CONTROL COURSE, P.P.O. VIRAMONTES #15173 WAS OPERATING HIS CPD ISSUED BICYCLE AND WAS PERFORMING A  HALF-DISMOUNT (REQUIRED MANEUVER) WHEN HE FELL OFF HIS BICYCLE    STRIKING HIS RIGHT LEG ON THE FLOOR. P.P.O. VIRAMONTES IMMEDIATELYFELT PAIN AND OBSERVED MINOR BRUISING HIS RIGHT LEG.': ['NS',\n  'Bicycle'],\n 'IV DRIVER WAS TRAVELING EASTBOUND, WHEN HE LOST CONTROL OF THE    VEHICLE AND THE IV LANDED ON THE SIDE OF A ROAD, IN A DITCH. NO   INJURIES WERE REPORTED.': ['AP',\n  'Insured Lost Control'],\n \"HANDLE AREA OF KNIFE HAS SCRATCHES ON IT FROM KNIFE SHARPENER I'M SURE THE LASER WAS ON THE BEVELED EDGE ON KNIFE BECAUSE I ASKED   THE CUSTOMER TO STEP ASIDE SO I COULD SEE TO LINE IT UP.\": ['GD',\n  'Machine - point of operation'],\n 'CLAIMANT DROVE OVER SPEED BUMP CAUSING VEHICLE DAMAGE.': ['GD',\n  'Speed bump'],\n 'WHILE PERFORMING HIS DUTIES AT A 2 11, LT. WOODS FELT HIS RIGHT   RING FINGER BEING BENT BACKWARDS WHILE ADVANCING A HOSELINE.': ['NS',\n  'Hose'],\n 'CLAIMANT VEHICLE DAMAGE DUE TO A SINK HOLE': ['GD', 'Sink Hole'],\n 'DRIVER OPENED CAB DOOR FELT A SHARP CUT TO RIGHT THUMB            BUS REG :    BL53EDF': ['EL',\n  'Sharp Object'],\n 'PERSONAL INJURY - CLAIMANT RIGHT FOOT CAUGHT THE EDGE OF THE      DOORWAY INTO THE DONGA, AND SHE TRIPPED AND FELL FORWARD INSIDE   THE DONGA.': ['GB',\n  'DEFECTIVE FLOOR'],\n 'CUSTOMER CAME OUTSIDE TO THE PARKING LOT AND NOTICED THAT HIS CAR HAD BEEN HIT. THERE WAS DAMAGE TO THE BACK LEFT BUMPER OF HIS     VEHICLE.  WHILE COLLECTING THE CUSTOMERS INFORMATION FOR THE      CLAIM, THE CUSTOMER DECLINED TO SHARE HIS INSURANCE INFORMATION.': ['GD',\n  'EXACT CAUSE OF DAMAGE UNKNOWN'],\n 'DRIVER WENT OVER BUMP WHEN HE GOT OF FROM BUS FELT PAIN IN BACK.  BUS REG :    SN15LHO': ['EL',\n  'Speed bump'],\n 'CLAIMANT SUFFERED PROPERTY DAMAGE DUE WATER INGRESS.': ['GD',\n  'Leak/Flood - Defective Workmanship'],\n 'FALLING STONES FROM THIRD PARTY VEHICLE HIT INSURED VEHICLE       CAUSING INSURED VEHICLE DAMAGE': ['AP',\n  'Misc - Object Hit Vehicle'],\n 'EAR STARTED CLOGGING ON THE FLIGHT TO ROMANIA. WORKED TO SCOTLAND,ONTO NEW HAMSHIRE. I CALLED SCHEDULING AND ADVISED I WAS SICK AND WOULD NEED TO BE REMOVED. I HAD A FAMILY MEMBER PICK ME UP IN BWI.I WENT TO URGENT CARE, SAW AN AME. HAD A FOLLOW UP A WEEK LATER,  FOLLOWING WEEK WENT TO MY DOCTOR. I WAS ADVISED SHOULD SEE AN     OTOLARYNGOLOGIST. IT IS POSSIBLE ACCORDING TO THE DOCTORS; I FLEW SICK MAKING IT A DEEP INNER EAR CLOG': ['NS',\n  'Aircraft'],\n 'WHILE ON TGA BOULEVARD SERVICING A CUSTOMER, THE TEMP EMP DROPPED A BOTTLE, REACHED TO GET THE BOTTLE AND LEFT HIS HAND ON THE      HOPPER.THE HOPPER PRESSED DOWN ON THE TEMP EMP HAND AND HE        SUSTAINED A LACERATION WHICH REQUIRED 3 STITCHES TO HIS LEFT HAND.': ['AB',\n  'Contract Hauler Accident/Temp Employee'],\n 'HEAVY RAINS RESULTED IN THE FLOODING OF 40 50 IV.': ['AP',\n  'Natural Hazard-Non Vegetation'],\n 'CLAIMANT FELL INTO THE INSPECTION PIT SUFFERED INJURIES.': ['EL',\n  'DEFECTIVE FLOOR'],\n 'CLAIMANT TRIPPED WALKING ON UNEVEN TARMAC PATH CAUSING BODILY     INJURY': ['GB',\n  'Tarmac Defect'],\n 'CLAIMANT EXPOSURE TO ASBESTOS OCCURRED IN THE COURSE OF HIS       EMPLOYMENT': ['EL',\n  'Asbestos'],\n 'CLAIMANT SUFFERED DAMAGE TO PROPERTY DUE TO WATER LEAK .': ['GD',\n  'Leak/Flood - Defective Materials'],\n 'CLAIMANT SUFFERED INJURY DUE TO MOTORCYCLE FALL': ['GB',\n  'Road Conditions/Weather'],\n 'PURCHASE CARRIER SAID SWITCHER SIGNALED GOOD TO GO AND PURCHASE   CARRIER PULLED TRAILER OFF DOOR BUT PACKAGE HANDLER WAS INSIDE. NOINJURY, NO TOW, NO POLICE': ['AD',\n  'Trailer - Door/Seal'],\n 'CLAIMANT SUFFERED PROPERTY DAMAGED DUE TO SPEED HUMPS': ['GD', 'Speed bump'],\n 'MBR GOT OUT OF HIS VEHICLE, TOOK A FEW STEPS SLIPPED & FELL. HE   ALLEGES HE HIT HIS HEAD. CCTV WOULD SHOW HE DID NOT FALL.': ['GB',\n  'Frost/Ice/Snow'],\n 'CLAIMANT SUFFERED PROPERTY DAMAGE DUE TO BLOCKAGE.': ['GD',\n  'Defective Pipework'],\n 'POSSIBLE EXPOSURE TO ASBESTOS TILE': ['NS', 'Asbestos'],\n 'ALLEGED DAMAGE TO MOTOR VEHICLE.': ['GD', 'Other'],\n 'INSURED COLLIDED WITH THIRD PARTY VEHICLE CAUSED INJURY.': ['AB',\n  'Insured Turned Against TP Path'],\n 'VISITOR WAS WALKING IN GRASS BY THE LAUNDRY FACILITY. SHE SLIPPED AND FELL': ['GB',\n  'Natural Hazard-Vegetation'],\n 'STAFF MEMBER WHILE DOING FREEZER TEMP PUT PROBE IN BUTTER POT. IT WENT RIGHT THROUGH AND STABBED HER IN THE HAND': ['EL',\n  'Sharp Object'],\n 'CUSTOMER REPORTED THAT SHE WAS LOADING HER CAR AND NOTICED THE    BOTTLE OF CLOROX BLEACH WAS SPRAYING AND SPRAYED ALL OVER HER     SHIRT AND SHOES. THE BLEACH SOAKED THROUGH HER SHIRT AND WENT ONTOHER SKIN WHICH CAUSED SKIN IRRITATION.': ['PA',\n  'Container - Packaging Etc'],\n 'CLAIMANT DAUGHTER SUFFERED INJURY DUE TO DEFECTIVE FLOORING': ['GB',\n  'DEFECTIVE FLOOR'],\n \"DURING A STORM, MEMBER'S TREE WAS UPROOTED AND FELL ONTO THEIR OWNFENCE, THE ROOF OF THE NEIGHBOR'S HOUSE AND THE NEIGHBOR'S FENCE.\": ['GD',\n  'Natural Hazard-Vegetation'],\n 'WHILE PARTICIPATING IN THE CHICAGO POLICE DEPARTMENT 40 HOUR      BICYCLE CERTIFICATION AND CROWN CONTROL COURSE, OFFICER           HERNANDEZ-HERRERA FELL TO THE GROUND WHILE ATTEMPTING TO MOUNT HISBICYCLE STRIKING HIS LEFT KNEE ON THE FLOOR.  OFFICER             HERNANDEZ-HERRERA IMMEDIATELY FELT PAIN AND SORENESS TO HIS LEFT  KNEE. OFFICER HERNANDEZ-HERRERA REFUSED MEDICAL TREATMENT AT TIME OF INJURY': ['NS',\n  'Bicycle'],\n 'CLAIMANT FALL OVER DRAIN CAUSING BODILY INJURY.': ['GB',\n  'Fall - hole/drain cover - defect/missing'],\n 'GUEST RIDING RESORT BICYCLE AND FELL': ['GB', 'Bicycle'],\n 'CLAIMANT SUFFERED PROPERTY DAMAGE DUE TO LEAKAGE FROM BOILER': ['GD',\n  'Boiler, pressure vessel, etc.'],\n 'CLAIMANT STEPPED IN A HOLE CAUSING INJURY.': ['EL',\n  'Fall - hole/drain cover - defect/missing'],\n 'HUSBAND REACHING FOR ANOTHER PRODUCT THAT WAS OUT OF REACH LOCATEDFURTHER BACK OF THE SHELF, AND HE KNOCKED OVER A BOTTLE ON THE    FLOOR AND CONTENTS SPLASHING ON MY FACE AND MY EYES (BOTH).': ['GB',\n  'Container - Packaging Etc'],\n 'CLAIMANT SUFFERED BODILY INJURY DUE TO TRIPPED ONTO RAISED COBBLES': ['GB',\n  'Trip - kerb stone'],\n 'KATHERINE CALLED AND SAID SHE PURCHASED 2 GALLONS OF PAINT.  SHE  CLAIMED 1 CAN WAS NOT CLOSED PROPERLY AND SPILLED IN THE BACK OF  HER CAR.  IT SPILLED ONTO CLOTHING AND UPHOLSTERY OF HER VEHICLE.': ['GD',\n  'Container - Packaging Etc'],\n \"MICHEL THERRIEN( ARTISANS LOC THERRIEN &AMP; FILS) |C'ETAIT UNE   NOUVELLE ROUTE PUIS LE CHAUFFEUR A DU D&EACUTE;PLACER LE CONTENEURPLUS LOIN DANS LA COURS. LA COURS &EACUTE;TAIT TRES GLISSANTE(    VOIR PHOTO) |EN RECULANT LE CAMION A GLISS&EACUTE; ET LE PNEU     ARRI&EGRAVE;RE A &EACUTE;T&EACUTE; DIRECTEMENT SUR LE PARE CHOC   ARRI&EGRAVE;RE DU TIERS. CONSTAT FAIT(VOIR PHOTO DANS PREUVE), PASDE BLESSER, CAMION AUCUN DOMMAGE, V&EACUTE;HICULE DU TIER         ENDOMMAG&EACUTE;( VOIR PHOTO DANS PRE\": ['AD',\n  'Road Conditions/Weather'],\n 'CLAIMANT SUFFERED PROPERTY DAMAGE DUE TO PIPE BURST AND CAUSED    CEILING TO COLLAPSE.': ['GD',\n  'Ceiling Collapse'],\n 'TENANT WAS COOKING AND GREASE FIRE STARTED IN KITCHEN.  LOSS      OCCURRED AT 206 WEST MARTIN LUTHER KING STREET, SWAINSBORO, GA    30401.': ['RB',\n  'Grease Fires - Kitchen'],\n 'AS CLAIMANTS VEHICLE WENT OVER DEVICE , LOUD NOISE WITH PLASTIC   SHOUT AND CABLE WAS WARP AROUND UNDERCARRIAGE OF CAR': ['GD',\n  'Other'],\n 'POSSIBLE ASBESTOS EXPOSURE WHILE ON REHAB PROJECT': ['NS', 'Asbestos'],\n 'DELIVERY OF PALLETS TO ADVANCE AUTO PARTS STORE. AFTER DELIVERY, IWAS PULLING THE TRAILER DOOR IN OTHER TO CLOSE PROPERLY , SHARP   PAIN AT UPPER BACK OF MY NECK BACK AND LEFT SIDE.': ['NS',\n  'Trailer - Door/Seal'],\n \"CLAIMANT'S PROPERTY DAMAGE DUE TO LEAKAGE.\": ['GD',\n  'Leak/Flood - Defective Materials'],\n 'PERSONAL INJURY - PLAINTIFF SUSTAINED PERSONAL INJURIES WHILE     CARRYING OUT HIS EMPLOYMENT.': ['GB',\n  'DEFECTIVE FLOOR'],\n 'CLAIMANT FELL OVER A DRAIN/GRATE BROKEN HER LEFT ELBOW, CLAIMANT  SUFFERED INJURY.': ['GB',\n  'Fall - hole/drain cover - defect/missing'],\n 'CUSTOMER ON WRONG SIDE OF ROAD AND HIT THIRD PARTY VEHICLE CAUSINGVEHICLE DAMAGE': ['AD',\n  'Insured Turned Against TP Path'],\n 'WHILE CUSTOMER WAS ATTEMPTING INSTALLATION (WITHOUT GLOVES OR PPE)HE HAD DROPPED A SCREW, AND WHEN ATTEMPTING TO RETRIEVE THE SCREW THE RANGE HOOD SLIPPED AND LACERATED THE BACK OF HIS RIGHT HAND,  SEVERING TENDONS AND NERVES.': ['PA',\n  'Sharp Object'],\n 'DUE TO HEAVY WINDS AND STORMS, WHILE LOANER VEHICLE WAS PARKED ANDUNOCCUPIED, A TREE BRANCH FELL ON THE DRIVERS SIDE TOP OF THE ROOFCLOSE TO THE DOOR OF THE VEHICLE CAUSING DAMAGE.': ['AP',\n  'Natural Hazard-Vegetation'],\n 'STRUCTURAL AND SINKING ISSUES': ['RB', 'Sink Hole'],\n 'CLAIMANT TRIPPED AT A DRAIN COVER CAUSING BODILY INJURY': ['GB',\n  'Fall - hole/drain cover - defect/missing'],\n 'CLAIMANT WHILE WALKING TRIPPED ON A RAISED KERB STONE AND SUSTAIN INJURY.': ['GB',\n  'Trip - kerb stone'],\n 'RESIDENT ALLEGEDLY TRIPPED OVER AN EXPOSED ROOT AND BROKE HER     ANKLE': ['GB',\n  'Natural Hazard-Vegetation'],\n 'CLAIMANT SUFFERED PROPERTY DAMAGE DUE TO DEFECTIVE PIPE WORK,': ['GD',\n  'Defective Pipework'],\n 'CLAIMANT SUFFERED PROPERTY DAMAGE DUE TO CEILING LEAK.': ['GD',\n  'Leak/Flood - Defective Workmanship'],\n 'POSSIBLE EXPOSURE TO ASBESTOS': ['NS', 'Asbestos'],\n 'RESIDENT TRIPPED AND FELL.': ['GB', 'Natural Hazard-Vegetation'],\n 'GUEST SLIPPED ON THE WET FLOOR AND FELL. HE WAS HOLDING A BEER BOTTLE IN ONE HAND AND IT BROKE WHEN HE FELL AND CUT HIS HAND, ELBOW,': ['GB',\n  'Soap, detergent, cleaning compound'],\n 'THIRD PARTY STRUCK TO INSURED VEHICLE WHICH CAUSES , INSURED HIT  ANOTHER THIRD PARTY VEHICLE': ['AD',\n  'Multiple Vehicle Collision'],\n 'INSURED NAMED IN SUMMONS CLAIMANT ALLEGES MESOTHELIOMA AND        ASBESTOS RELATED HEATH CONDITIONS DUE TO EXPOSURE OF ASBESTOS     CONTAMINATED PRODUCT.': ['GB',\n  'Asbestos'],\n \"PLAINTIFF WAS EXPOSED TO ASBESTOS DUST FROM ASBESTOS CONTAINING   PRODUCTS THAT WERE PRESENT UTILIZED ON DEFENDENT'S PREMISES.\": ['GB',\n  'Asbestos'],\n \"CLAIMANT REPORTS THAT A ROCK FELL FROM THE UNION PACIFIC DIVERSEY ST BRIDGE AND CRACKED HIS VEHICLE'S WINDSHIELD.\": ['GD',\n  'Natural Hazard-Non Vegetation'],\n 'CLAIMANT DROVE OVER UNEVEN ROAD, CAUSING VEHICLE DAMAGE, CLAIMANT SUFFERED PROPERTY DAMAGE.': ['GD',\n  'Road Conditions/Weather'],\n 'WHILE AT THE SCENE OF A WORKING FIRE LT KELLY WAS ASSISTING       COMPANIES MOVE 4\" HOSE WHEN HE FELT SOMETHING PULL IN HIS ABDOMEN,LT KELLY WAS TRANSPORTED BY AMBULANCE TO BE EVALUATED.': ['NS',\n  'Hose'],\n 'INSURED VEHICLE DAMAGE DUE TO FALLEN OBJECT BY THIRD PARTY        VEHICLE.': ['AU',\n  'Misc - Object Hit Vehicle'],\n \"CLAIMANT'S PROPERTY DAMAGED DUE TO MOULD AND ASBESTOSES.\": ['GD',\n  'Asbestos'],\n 'INSURED FOUND DAMAGE TO VEHICLE WHILE PARKED IN YARD.': ['AP',\n  'EXACT CAUSE OF DAMAGE UNKNOWN'],\n 'MULITPLE COLLISION & SPILLAGE': ['AD', 'Multiple Vehicle Collision'],\n 'GUEST (MEMBER OF HEALTH CLUB) WAS SPLASHED WITH DISINFECTANT WHILECLEANING HER BIKE.': ['PM',\n  'Soap, detergent, cleaning compound'],\n 'CLAIMANT VEHICLE DAMAGE DUE TO ROAD DEFECT': ['GD',\n  'Road Conditions/Weather'],\n 'SUR SUB CONTRACTOR CREW MEMBER WORKING WITH INDUS EMPLOYEES       PUMPING CONCRETE.  EMPLOYEES WERE CLEARING A CLOGGED HOSE. HOSE   JUMPED UPWARD AND HIT SUR EMPLOYEE FACE/HEAD.': ['GB',\n  'Hose'],\n 'OUR CLIENT STEPPED IN A HOLE IN THE GROUND, TRIPPED AND FELL': ['GB',\n  'Natural Hazard-Non Vegetation'],\n 'PER SUPERVISOR, EE INHALED CHEMICALS AFTER MIXING TOILET BOWL     CLEANER WITH BLEACH.': ['NS',\n  'Soap, detergent, cleaning compound'],\n 'OUR DRIVER SWAPPED LANES AND HIT THIRD PARTY VEHICLE CAUSING      DAMAGED': ['AD',\n  'Insured Turned Against TP Path'],\n 'THE CONTRACTED VEHICLE WAS BACKING TO THE COMPACTOR,              WHEN ITS REAR DOOR STRUCK THE CONTROL ROOM. THERE WERE NO INJURIESREPORTED. THERE WAS MINOR DAMAGE TO THE CONTROL ROOM.': ['AD',\n  'Contract Hauler Accident/Temp Employee'],\n 'INSURED VEHICLE MIRROR POPPED OUT WITHOUT HITTING ANYTHING,       INSURED DRIVING ALONG A ROUGH TRACK': ['AP',\n  'Road Conditions/Weather'],\n 'IMPACT DAMAGE UNKNOWN PARTY': ['RB', 'VEHICLE'],\n 'CLAIMANT ALLEGES TO HAVE TESTED POSITIVE FOR COVID 19.IT IS       UNKNOWN HOW IT WAS CONTRACTED. CLAIMANT IS AN EMPLOYEE.': ['GB',\n  'Infectious, parasitic agents, NOC - Liab.'],\n 'UNKNOWN PERSONNEL PUT SOME LIQUID ON TOP OF THE ROUTER                BOX THAT WAS LEAKING AND CAUSED DAMAGE INTO THE ROUTER. NO    INJURIES. NO                                                          VEHICLES INVOLVE.': ['GD',\n  'Machine - point of operation'],\n 'FELA - CONNECTING CAR AIR HOSE TO ENGINE AIR HOSE PULLED BACK TO  KINK HOSE AND FELT A POP IN RIGHT ARM': ['NS',\n  'Hose'],\n 'CLAIMANT SUFFERED ASBESTOSIS DURING THE COURSE OF EMPLOYMENT.': ['EL',\n  'Asbestos'],\n 'CLAIMANT SUFFERED PROPERTY DAMAGE DUE TO BOILER DAMAGE.': ['GD',\n  'Leak/Flood - Defective Workmanship'],\n 'ENCLOSED IS A SUMMONS, COVER SHEET, AND COMPLAINT (COLLECTIVELY THE    LAWSUIT   ), WHICH WERE   PERSONALLY SERVED ON LANDLORD ON MA': ['GB',\n  'Office or Restaurant Furniture'],\n 'ON A RAINY DAY, MBR SLIPPED AND FELL AS HE PLACED HIS FOOT ON THE TOP OF A SPEED BUMP': ['GB',\n  'Speed bump'],\n 'CLAIMANT SUFFERED PROPERTY DAMAGE DUE TO LEAKAGE FROM WATER TANK.': ['GD',\n  'Leak/Flood - Defective Workmanship'],\n 'ALLEGED INTERNAL DAMAGE DUE TO WATER LEAKING DOWN THE WALL FROM   THE DOWN PIPE BEING MOVED DURING OUR WORKS': ['GD',\n  'Other'],\n \"A JED DRIVER WAS REACHING FOR THE STRAP ON THE TRAILER            DOOR, NOT NOTICING THE RECEIVER WAS ALREADY BRINGING DOWN         THE TRAILER DOOR, CAUSING THE DOOR TO CLOSE ON THE                DRIVER'S LEFT HAND\": ['GB',\n  'Trailer - Door/Seal'],\n 'MBR TRIPPED AND FELL ON A SPEED BUMP DELIMITING AREA WHERE CARTS  ARE STORED OUTSIDE WH. ( NOT A CART CORRAL IN PARKING)': ['GB',\n  'Speed bump'],\n 'CIRCUMSTANCES ARE NOT SPECIFIED.': ['AP', 'EXACT CAUSE OF DAMAGE UNKNOWN'],\n 'SMALL PDA THIRD PARTY WAS HAULING A IV TRANSFER TRAILER TO THE    RECYCLE AMERICA LOCATION, AND THE DRIVER NOTICED THAT A WHEEL HAD CAME OFF THE TRANSFER TRAILER.': ['RB',\n  'Contract Hauler Accident/Temp Employee'],\n 'OFFICER VIRAMOTES WAS A PARTICIPANT IN THE CHICAGO POLICE 4O HOUR BICYCLE & CROWD CONTROL COURSE . OFFICER VIRAMONTES WAS RIDING ON A CHICAGO POLICE ISSUED BICYCLE DURING TRAINING . DURING THE      TRAINING OFFICER VIRAMOTES WAS COMPLETING THE SLALOM BICYCLE DRILLAND WAS ATTEMPTING TO DISMOUNT HIS BICYCLE WHEN HE LOST HIS       FOOTING AND FELL TO THE FLOOR INJURING HIS LEFT KNEE AND HIS LEFT HAND (RING FINGER & BABY FINGER. OFFICER VIRAMOTES WAS ASKED BY   OFFICER SPEARS IF HE NEEDED': ['NS',\n  'Bicycle'],\n \"2 EE'S HELPING LOAD PATIO SET INTO MBR VEH AND PUSHED PROD INTO   BED OF TRUCK, CAUSED STRUTS SUPPORTING TONNEAU COVER TO BREAK.\": ['GD',\n  'Misc - Object Hit Vehicle'],\n 'UNKNOWN PERSONNEL PUT SOME LIQUID ON TOP OF THE ROUTER BOX THAT   WAS LEAKING AND CAUSED DAMAGE INTO THE ROUTER. NO INJURIES. NO    VEHICLES INVOLVE.': ['AD',\n  'Machine - point of operation'],\n 'CLAIMANT ALLEGES THAT HE HIT A LARGE BLACK ROCK BY THE EXCAVATION WITH HIS TYRE CAUSING TYRE TO POP': ['GD',\n  'Other'],\n 'INSURED VEHICLE TURNED ACROSS PATH HIT THIRD PARTY CAUSING VEHICLEDAMAGE.': ['AD',\n  'Insured Turned Against TP Path'],\n 'CLAIMANT FALL DUE TO UNEVEN FLOOR CAUSING DAMAGE.': ['GB',\n  'DEFECTIVE FLOOR'],\n 'CLAIMANT SUFFERED PROPERTY DAMAGE DUE TO CEILING COLLAPSE': ['GD',\n  'Ceiling Collapse'],\n 'DEAD TREE LIMB FELL ON GUEST VEHICLE': ['GD', 'Natural Hazard-Vegetation'],\n 'DRIVER HAD FALLEN OVER ICE CAUSES INJURIES TO RIGHT SHOULDER.': ['EL',\n  'Frost/Ice/Snow'],\n 'CUSTOMER SPRAYED WITH CLEANER ON HAND AND PUT FINGER IN MOUTH AND HAD SOME IN HIS EYES': ['GB',\n  'Soap, detergent, cleaning compound'],\n 'THERE WAS A FIRE IN THE KITCHEN OF THE INSURED LOCATION. THERE    WERE NO INJURIES. STOVE, LEFT , CENTER AND RIGHT UPPER CABINET,   VENT PIPES, RANGE HOOD, COUNTER TOP AND BACKSPLASH, AND SHEET ROCKALL NEED TO BE REPLACED.': ['RB',\n  'Grease Fires - Kitchen'],\n 'CLAIMANT TRIPPED AND FELL ON A RAISED AREA OF TARMAC BESIDE A TREECAUSING INJURY.': ['GB',\n  'Tarmac Defect'],\n 'CLAIMANT WHILE CYCLING FELL DUE TO BROKEN TARMAC ON THE SURFACE OFROAD SUSTAINING BODY INJURY.': ['GB',\n  'Tarmac Defect'],\n 'CLAIMANT HAD AN ALLERGIC REACTION UPON USING THE PRODUCT.': ['PA',\n  'Soap, detergent, cleaning compound'],\n 'TWO EMPLOYEES WERE IN THE PROCESS OF MOVING A PALLET THAT HAD A   T-BAR UNDERNEATH IT. THE T-BAR FELL AND HIT A MEMBER IN THE HEAD.': ['GB',\n  'Employee'],\n 'INSURED VEHICLE STATIONARY AT TRAFFIC LIGHT WHEN A ROAD WORKS SIGNWAS BLOWN ONTO SIDE OF INSURED VEHICLE  .': ['AP',\n  'Misc - Object Hit Vehicle'],\n 'CLAIMANT SUFFER BODILY INJURY DUE TO DELAY IN RECEIVING PART OF   BOILER.': ['GB',\n  'Boiler, pressure vessel, etc.'],\n 'MULTIPLE COLLISION  PHV STATIONARY SHUNTED INTO REAR OF TPV3': ['AD',\n  'Multiple Vehicle Collision'],\n 'THE RESIDENT IN APT. 307B WAS COOKING WHEN THE STOVE CAUGHT FIRE. NO INJURIES WERE REPORTED.': ['RB',\n  'Grease Fires - Kitchen'],\n 'CUSTOMER STATED THEY SLIPPED ON LIQUID THAT WAS ON FLOOR': ['GB',\n  'Soap, detergent, cleaning compound'],\n 'SUBROGATED CLAIM. ALLEGED IMPROPERLY CLOSED PAINT CAN SPILLED IN  THE TRUNK': ['GD',\n  'Container - Packaging Etc'],\n 'CLAIMANT DURING THE COURSE OF EMPLOYMENT WASHING HIS LORRY USING  SOAP PROVIDED WHEN HIS HAND SUDDENLY STARTED TO BURN SUFFERED     BODILY INJURY.': ['EL',\n  'Soap, detergent, cleaning compound'],\n 'CLAIMANT WAS CROSSING THE ROAD WHEN HER FOOT WENT INTO A BROKEN   DRAIN COVER, CLAIMANT SUSTAIN INJURY.': ['GB',\n  'Fall - hole/drain cover - defect/missing'],\n 'THE CLAIMANT WAS ASKED TO TAP A NEW ALE BARREL AND WHEN HE STOOD  UP HE HIT HIS HEAD ON THE CEILING CAUSING INJURY.': ['EL',\n  'Ceiling Collapse'],\n \"CANADA CARTAGE DELIVERY DRIVER CUT HIS LEFT LEG ABOVE THE ANKLE ONA PIECE OF REBAR THAT BLENDED IN INTO THE ASPHALT.  IT WAS A      STAGED ORDER TO GO OUT ON A PALLET, REBAR WASN'T FLAGGED.\": ['GB',\n  'Sharp Object'],\n 'CUSTOMER PURCHASED PAINT IN STORE AND WHEN THEY ARRIVED HOME IT   HAD SPILLED IN THEIR TRUNK CAUSING DAMAGE.': ['GD',\n  'Container - Packaging Etc'],\n 'ROLLER SHUTTERS DAMAGED BY VEHICLE': ['RB', 'VEHICLE'],\n 'AN EMPTY BOX FELL OFF A FLATBED BEING PUSHED BY AN EE AND STRUCK  THE MEMBER IN THE HEAD.': ['GB',\n  'Employee'],\n 'THE DRIVER HAS BACKED INTO THE WALL ON HIS RIGHT. FRAME DAMAGE TO THE WINDOW': ['AD',\n  'Employee'],\n 'LAUNDRY DETERGENT SPILL ON FLOOR': ['GB',\n  'Soap, detergent, cleaning compound'],\n 'KITCHEN FIRE': ['RB', 'Grease Fires - Kitchen'],\n 'CLAIMANT SUFFERED PROPERTY DAMAGE DUE TO FLOOR FLOODED.': ['GD',\n  'Leak/Flood - Defective Workmanship'],\n 'CLAIMANT SUFFERED INJURIES DUE TO CEILING COLLAPSED ON HER.': ['GB',\n  'Ceiling Collapse'],\n 'THE LATCH CAME LOOSE ON THE TRAILER AND THE DOOR CAME OPEN. SOME  PACKAGES WERE LOST. HE LOST LESS THAT A 1/4 OF HIS LOAD': ['AD',\n  'Trailer - Door/Seal'],\n 'MEMBER CLAIMS THAT TAILGATE WAS BENT WHEN HE HAD A COUCH LOADED   INTO HIS TRUCK.': ['GD',\n  'Misc - Object Hit Vehicle'],\n 'INSURED WAS MOVING INTO THE LEFT HAND LANE AND A MOTORCYCILST     HAS CRASHED INTO THEM CAUSED DAMAGE.': ['AD',\n  'Insured Turned Against TP Path'],\n 'CLAIMANT VEHICLE DROVE OVER SPEED BUMP CAUSING DAMAGED TO CLAIMANTVEHICLE': ['GD',\n  'Speed bump'],\n 'JAY FURBAY WHO IS A MEMBER OF THE RESORT CHECKED OUT A RENTAL BIKEAND WENT ALONG 16TH ROAD WHEN HE FELL OFF BIKE': ['PM',\n  'Bicycle'],\n 'CLAIMANT WHILE CYCLING THE GEARS FAILED, WHICH JAMMED THE WHEEL,  CAUSING THE CLAIMANT TO FALL OFF': ['EL',\n  'Bicycle'],\n 'TEMP EMP SUSTAINED A LACERATION TO HIS RIGHT LOWER LEG REQUIRING  STITCHES DUE TO BEING STRUCK BY THE PORCELAIN TOILET LID THAT     RICOCHETED OUT OF THE HOPPER DUE TO HIM THROWING IT INTO THE      HOPPER.': ['AB',\n  'Contract Hauler Accident/Temp Employee'],\n 'CLAIMANT ALLEGES WHILE IN THE STALL SHE INJURED THE RIGHT LITTLE  FINGER ON THE DOOR.': ['GB',\n  'Trailer - Door/Seal'],\n 'CLAIMANT SUFFERED PROPERTY DAMAGE DUE TO LEAKING PIPE AND HOLE IN CEILING WATER POURED OUT.': ['GD',\n  'Defective Pipework'],\n 'CLAMANT SUFFERED PROPERTY DAMAGE DUE TO DEFECTIVE WORKMANSHIP     CAUSED WATER DAMAGE.': ['GD',\n  'Leak/Flood - Defective Workmanship'],\n 'PROPERTY OWNER STATED THE DUMPSTER SHE USES TO DISPOSE OF GREASE  IN HAD IT`S LID BLOW OFF TODAY AND IT STRUCK THE SIDE OF HER      VEHICLE WHICH WAS PARKED NEXT TO IT IN THE PARKING LOT.': ['GD',\n  'Natural Hazard-Non Vegetation'],\n 'CLAIMANT DROVE OVER SPEED BUMP CAUSING VEHIC;LE DAMAGE.': ['GD',\n  'Speed bump'],\n 'MEMBER PURCHASED BIKE AND SUFFERED A DANGEROUS INCIDENT BEING     KNOCKED OUT TEMPORARILY DUE TO INCORRECT INSTALLATION OF BIKE': ['GB',\n  'Bicycle'],\n 'WE GOT OUR TRAILER CUSTOMIZED FROM LCS, AND DUE TO THE RECENT     SNOWFALL IN GTA, OUR NUMBER OF TRAILERS GOT COLLAPSED. LCS IS NOT ACCEPTING THEIR RESPONSIBILITY. WE WILL BE CLAIMING FOR OUR       TRAILERS. KINDLY SEND AN APPRAISER ASAP. DOCUMENTATION TO FOLLOWS ONCE ADJUSTER IS ASSIGNED.': ['AP',\n  'Frost/Ice/Snow'],\n 'EXACT CAUSE OF DAMAGE UNKNOWN. CAUSED BY SUB CONTRACTOR WHEN      CARRYING OUT WORKS IN PROPERTY, CLAIMANT SUFFERED PROPERTY DAMAGE.': ['GD',\n  'EXACT CAUSE OF DAMAGE UNKNOWN'],\n 'CLAIMANT FALL OVER A DEFECTIVE KERB STONE CAUSING BODILY INJURY.': ['GB',\n  'Trip - kerb stone'],\n 'CLAIMANT SUFFER PROPERTY DAMAGE DUE TO LEAK.': ['GD',\n  'Leak/Flood - Defective Materials'],\n \"WHILE ON DUTY AND RIDING A DEPARTMENT ISSUED BICYCLE, THE         CLAIMANT'S LEFT FOOT SLIPPED OFF OF THE PEDAL AND SHE TWISTED HER LEFT ANKLE WHEN SHE PLANTED HER FOOT ON THE GROUND.\": ['NS',\n  'Bicycle'],\n 'CLAIMANT SUFFERED PROPERTY DAMAGE DUE TO WATER DRIPPING FROM THE  FAULTY TANK.': ['GD',\n  'Leak/Flood - Defective Materials'],\n 'CLAIMANT IS ALLEGING HE INJURED KNEE ON SUSHI DISPLAY CASE': ['PA',\n  'Office or Restaurant Furniture'],\n 'AT ABOUT 10AM THIS MORNING I WAS UNLOADING A SHIPMENT FROM BESSIER CITY ON A HOT SHOT TRAILER, FLAT': ['GD',\n  'Aircraft'],\n 'CLAIMANT DROVE OVER DEFECTIVE TARMAC CAUSED VEHICLE DAMAGE.': ['GD',\n  'Tarmac Defect'],\n 'THE CLAIMANT ALLEGES THAT THEY SUSTAINED AN INJURY.': ['GB',\n  'Libel, slander - defamation'],\n 'CLAIMANT S FOOT SLIPPED ON A SLIPPERY SUBSTANCE ON THE FLOOR      CAUSING DAMAGED': ['OM',\n  'DEFECTIVE FLOOR'],\n 'FALL IN HANDICAPPED STALL,POSSIBLE SEIZURE AS REPORTED BY FAMILY. FALL AS GUEST TRANSFERRED FROM TOLIET TO WHEELCHAIR': ['GB',\n  'Natural Hazard-Non Vegetation'],\n 'MR. HIGGINS KNOWINGLY DEFAMED MR. VON DER SCHMIDT WITH UNSOLICITED OUTREACH TO MR. VON DER   SCHMIDT   S FAMILY MEMBERS, ACCUSING HI': ['GB',\n  'Libel, slander - defamation'],\n 'RAM RAID CAUSING STRUCTURAL DAMAGE TO WALL': ['RB', 'VEHICLE'],\n 'CLAIMANT STEPPED IN DRAIN COVER SUFFERED INJURY.': ['EL',\n  'Fall - hole/drain cover - defect/missing'],\n 'CLAIMANT TRIPPED FALLING FORWARD OVER RAISED DRAIN COVER AND      SUNKEN ROAD SURFACE CAUSING INJURY.': ['GB',\n  'Fall - hole/drain cover - defect/missing'],\n 'CLAIMANT SUFFERED PROPERTY DAMAGE AS JACKET CAUGHT IN SHARP CORNERCAUSING IT TO RIPPED OFF.': ['GD',\n  'Sharp Object'],\n 'GUEST LEFT THE HENRY AND WAS WALKING ON SIDEWALK AND STEPPED INTO TREE OPENING, FELL AND WAS INJURED. INJURY NOT SPECIFIED BUT GUESTWENT TO THE EMERGENCY ROOM TO BE TREATED. NO CAMERAS THAT BELONG  TO THE BUILDING CAPTURE THE AREA WHERE INCIDENT HAPPENED, HOWEVER,THE HENRY HAS A CAMERA THAT POINTS AT THE EXACT LOCATION AND MAY  HAVE CAPTURED THE INCIDENT. THIS HAPPENED ON PUBLIC PROPERTY.': ['GB',\n  'Natural Hazard-Vegetation'],\n 'ZEON CHEMICALS THREE MANUFACTURING FACILITIES EXPERIENCED DAMAGES RESULTING FROM THE EXTENDED FREEZE PERIOD THAT OCCURRED IN DECEMBE': ['BM',\n  'Boiler, pressure vessel, etc.'],\n 'CHILD OUTSIDE SMASHED SALOON WINDOW ON NEARSIDE.                  BUS REG:     BX09PCF': ['AB',\n  'Sharp Object'],\n 'CUSTOMER PICKED UP A 2 LITRE OF CEILING PAINT FROM THE PAINT DESK AND IT FELL ON HIM, PAINT ASSOCIATE CHECKED THE CAN OVER ALL      SEEMED TO BE GOOD. CUSTOMER CAME BACK TO THE PAINT DEPARTMENT WITHPAINT ON HIS JACKET, HE SAID IT CAME FROM THE CONTAINER.': ['GD',\n  'Container - Packaging Etc'],\n 'CLAIMANT SUFFER WITH EPILEPSY AND THIS LEAK AND SITUATION HAVE    AFFECTED  CLAIMANT HEALTH, DUE TO LEAKAGE OF CEILING': ['GB',\n  'Leak/Flood - Defective Materials'],\n 'DAMAGE TO CAR INVOLVING PIPE WORK THAT LEFT IN THE DRIVE, CAUSED  PROPERTY DAMAGE.': ['GD',\n  'Other'],\n 'CUSTOMER CLAIMS THAT THERE WAS SOMETHING SHARP IN THE SOAP SHE    PURCHASED AND SCRATCHED HER ARM': ['PA',\n  'Sharp Object'],\n 'DRIVER OF FORKLIFT CRASHED INTO WALL': ['RB', 'VEHICLE'],\n \"PAINT CAN SPILLED ON THE CUSTOMER'S WALLET AND THE BOTTOM PORTION OF THE JACKET\": ['GD',\n  'Container - Packaging Etc'],\n 'ENGR THOMAS SKOWRONSKI , WHILE ON THE SCENE OF A FIRE. WAS        ATTEMPTING TO RELOCATE LARGE DIAMETER HOSE LINE, INJURED HIS LEFT ARM. AMBO 24 TRANSPORTED HIM TO LITTLE COMPANY OF MARY HOSPITAL.': ['NS',\n  'Hose'],\n 'CLAIMANT SUFFERED PROPERTY DAMAGE DUE TO FLOODING CAUSED WATER    DAMAGE.': ['GD',\n  'Defective Pipework'],\n \"DAMAGE TO CLAIMANT'S VEHICLE DUE TO DEFECT ON THE HIGHWAY .\": ['GD',\n  'Road Conditions/Weather'],\n 'CUSTOMER CAME TO STORE AROUND NOON TIME PURCHASED SOME HARDWOOD   FLOORING. ARTICLE #1001105512, WHEN HE GOT TO HIS CAR, HE FOUND   ONE OF THE BOX WAS BROKEN. HE CAME BACK TO THE STORE AND TOLD THE RETURNS ASSOCIATE, HE NEEDS TO GO BACK TO FLOORING DEPT TO': ['PI',\n  'Libel, slander - defamation'],\n 'CLAIMANT WHILE WALKING SLIPPED DUE TO PAVING STONE AND FELL DOWN  CAUSIGN PERSONAL INJURIES': ['GB',\n  'Trip - kerb stone'],\n 'CLAIMANT SLIPPED OVER BLACK ICE CAUSES BODILY INJURIES.': ['EL',\n  'Frost/Ice/Snow'],\n 'CUSTOMER CLAIMS SHE WAS WALKING FROM HER CAR TOWARDS OUR STORE.   WHEN SHE GOT TO OUR SIDEWALK SHE SLIPPED AND LANDED ON HER HANDS  AND KNEES.': ['GB',\n  'Soap, detergent, cleaning compound'],\n 'CLAIMANT TRIPPED AND FELL OVER ERODED TARMAC CAUSING BODILY       INJURY.': ['GB',\n  'Tarmac Defect'],\n 'CUSTOMER CLAIMS ASSOCIATE SPOKE AGGRESSIVELY AND MADE RACE BASED  COMMENTS, TOLD THE CUSTOMER \"IN THIS COUNTRY I AM CONSIDERED AS   BLACK\"WHICH PROJECTED EVEN MORE PREJUDICE TOWARDS THE CUSTOMER BY PROJECTING SOME OF (ALLEN\\'S) OWN FRUSTRATION': ['PI',\n  'Employee'],\n 'CLAIMANT SUFFERED INJURY DUE TO THE SAME ROAD.': ['GB',\n  'Road Conditions/Weather'],\n 'WHILE TOWING INSURED CAUSE DAMAGE TO THIRD PARTY VEHICLE CAUSING  VEHICLE DAMAGE.': ['AD',\n  'Insured Turned Against TP Path'],\n 'INSURED VEHICLE TURNED ACROSS PATH HIT THIRD PARTY CAUSING BODILY INJURY.': ['AB',\n  'Insured Turned Against TP Path'],\n \"EE OPENED GARAGE DOOR TO TAKE THE MEMBER'S CAR OUT BUT IT CAME    BACK DOWN, RIPPING OFF ANTENNA AS HE BACKED OUT\": ['GK',\n  'Employee'],\n 'CTS HIRED THIRD PARTY CARRIER, LANDSTAR PULLING RV7161. DRIVER    FELL ASLEEP IN TRANSIT THROUGH BC, CANADA AND LOST CONTROL OF     TRACTOR.': ['AP',\n  'Insured Lost Control'],\n 'GUEST CLAIMS THE TEAM MEMBER RAN INTO THE SUBURBAN DOOR WITH THE  FORK LIFT MASK': ['GD',\n  'Machine - point of operation'],\n 'A CHILD (APPROXIMATELY 5 YEAR OLD GIRL) TRIED TO DISPENSE HAND    SANITIZER WHEN IT SQUIRTED IN HER EYE. PARENTS TOOK HER TO THE    WASHROOM AND WASHED HER EYE WITH WATER.': ['GB',\n  'Soap, detergent, cleaning compound'],\n 'MIGUEL MUNOZ STEPPED INTO A HOLE WHILE VISITING HIS BROTHER IN    LAWS GRAVE IN WHICH IT CAUSED HIM TO FALL.': ['GB',\n  'Natural Hazard-Vegetation'],\n 'CLAIMANT WALKING , THE PATH WAS COVERED WITH MOSS AND TWIGS,      CAUSING HIM TO SLIP AND FALL, SUSTAINING INJURIES': ['GB',\n  'Other'],\n 'CLAIMANT ALLEGES WHILE LAYING DOWN FRIES AT THE FRYERS, SHE WAS   BURNED BY THE GREASE. THE EE SUSTAINED A FIRST DEGREE BURN ON HER RIGHT HAND.': ['NS',\n  'Grease Fires - Kitchen'],\n 'CLMNT (MINOR) GOT UP FROM BED TO RETRIEVE WATER FROM FRIDGE, WHEN RETURNING TO BED SHE HIT TABLE TOPPLE OVER STRIKING LEFT FOOT': ['GB',\n  'Office or Restaurant Furniture'],\n 'CLMT ALLEGES TO HAVE BECOME ILL AFTER CONSUMING RAW OVEN ROASTED  CHICKEN. ALLEGES CHICKEN WAS NOT COOKED THOROUGHLY AND CAUSED FOODPOISONING.': ['GB',\n  'Infectious, parasitic agents, NOC - Liab.'],\n 'APPROX @ 10:50 PM GAIL WAS STUCK ON ELEVATOR 4 AND DID NOT HAVE ACCESS TO THE FIRE  SPEAKER DURING HER INCIDENT BANGED ON THE ELEVAT': ['GB',\n  'Machine - point of operation'],\n 'INSURED VEHICLE TURNED ACROSS PATH OF THIRD PARTY CAUSING DAMAGE  AND LOSS': ['AU',\n  'Insured Turned Against TP Path'],\n 'SUBCONTRACTOR DRIVER NEGLECTED TO SECURE THE KINGPIN CAUSING THE  TANKER TO FALL ON THE GROUND. THIS RESULTED IN MINOR DAMAGE TO THETRUCK. NO INJURIES.': ['AD',\n  'Contract Hauler Accident/Temp Employee'],\n 'RECORD ONLY-  FIRE SPRINKLERS IN THE KITCHEN OF APT#301 WENT OFF DUE TO GREASE FIRE CAUSING FLOODING INTO TWO OTHER UNITS IN THE SAM': ['GD',\n  'Grease Fires - Kitchen'],\n 'CLAIMANT TRIP ON A BROKEN BIT OF TARMAC, CLAIMANT SUSTAIN INJURY.': ['GB',\n  'Tarmac Defect'],\n 'SEVERAL DROPS OF BLOOD WERE FOUND AT THE END OF AISLE 19+ BY AN   ASSOCIATE NO CUSTOMERS WERE NEAR BY AND NOTHING HAD BEEN REPORTED BY A CUSTOMER.  3E  WAS CALLED FOR CLEAN UP INSTRUCTIONS REFERENCENUMBER1614775': ['GB',\n  'EXACT CAUSE OF DAMAGE UNKNOWN'],\n 'CEILING  CAME SOWN CAUSES PROPERTY DAMAGE.': ['GD',\n  'Leak/Flood - Defective Workmanship'],\n 'THIS IS PER RESIDENT IN UNIT 834:MY NAME IS DEANNA DEMMONS AND I LIVE IN APT. 834. THIS EMAIL IS TO INFORM YOU THAT THIS IS  THE SEC': ['GB',\n  'Libel, slander - defamation'],\n 'PIPE FAILED CAUSING A SINKHOLE': ['RB', 'Sink Hole'],\n 'IMPACT DAMAGE BY VEHICLE TO BUILDING': ['RB', 'VEHICLE'],\n 'TSP DRIVER WAS ON HWY 75 GOING N/B WHEN THE REAR TRAILER DOOR CAMEOPEN. SEVERAL PACKAGES WERE LOST.': ['AD',\n  'Trailer - Door/Seal'],\n 'CLAIMANT SUFFERED VEHICLE DAMAGE DUE TO DEFECTIVE TARMAC.': ['GD',\n  'Tarmac Defect'],\n 'CLAMANT FELL FROM LADDER DUE TO DEFECTIVE FLOOR CAUSING INJURY.': ['GB',\n  'DEFECTIVE FLOOR'],\n 'EE STATES MAKING DELIVERY/PULLED OUT TRAILER RAMP/MISSED RAMP     HOOK/SMASHED R THUMB WITH RAMP/CAUSED PAIN/CUT/BLEEDING/SWELLING': ['NS',\n  'Trailer - Door/Seal'],\n 'THE TEMPORARY EMPLOYEE WAS IN THE PROCESS OF COLLECTIONS AT A     RESIDENTIAL SITE, AND WHILE THROWING A PIECE OF TRASH INTO THE    REAR LOADER OF THE WASTE MANAGEMENT EQUIPMENT, THE TEMPORARY      EMPLOYEE WAS STRUCK BY THE PIECE OF TRASH.THIS CAUSED A LACERATIONON HIS ARM.': ['AB',\n  'Contract Hauler Accident/Temp Employee'],\n 'TEMP. EE WAS SERVICING CUSTOMER LOCATION ON STREET, WHEN STRUCK   OVER THE HEAD WITH A TRASH CAN WHILE HANDLING IT. HE SUSTAINED A  CONTUSION.': ['AB',\n  'Contract Hauler Accident/Temp Employee'],\n 'CLAIMANT VEHICLE WAS DAMAGED DUE TO ROAD CONDITIONS.': ['GD',\n  'Road Conditions/Weather'],\n 'WHILE THE BROASTER WAS BEING USED IN THE KITCHEN, IT CAUGHT ON    FIRE. THERE WERE NO INJURIES REPORTED.': ['RB',\n  'Grease Fires - Kitchen'],\n 'ROLLER SHUTTERS DAMAGED BY VEH': ['RB', 'VEHICLE'],\n 'IV DRIVER WAS ON A TEST DRIVER IN A CUSTOMERS VEHICLE.  IV WAS STRUCK ON THE P/S OF OV.  OV DRIVER W': ['GK',\n  'Aircraft'],\n 'SEE ATTACHED CLAIMANTS ATTORNEY LETTER ALLEGING GENDER            DISCRIMINATION, RETALIATORY CONDUCT, AND EMPLOYMENT RELATED       DEFAMATION': ['EP',\n  'Libel, slander - defamation'],\n 'MEMBER ALLEGES AN EMPLOYEE TOUCHED HIS WIFE': ['GB', 'Employee'],\n 'INSURED VEHICLE COLLIDED MULTIPLE PARKED VEHICLE CAUSING VEHICLE  DAMAGE.': ['AD',\n  'Multiple Vehicle Collision'],\n 'CLAIMANT SLIPPED ON DEFECTIVE FLOOR CAUSING BODILY INJURY.': ['GB',\n  'DEFECTIVE FLOOR'],\n 'ONE GALLON OF BEHR PAINT BURST IN CUSTOMERS TRUNK AND SEAT DUE TO FAILURE OF PAINT CANS LID': ['GD',\n  'Container - Packaging Etc'],\n 'PAINT CAN NOT SECURED/ CLOSED PROPERLY  OPENED AND SPILLED ON     CUSTOMERS PANTS, JEANS AND SHOES': ['GD',\n  'Container - Packaging Etc'],\n 'CLAIMANT SUFFER PROPERTY DAMAGE DUE TO WATER LEAKAGE.': ['GD',\n  'Leak/Flood - Defective Materials'],\n \"REPORT PURPOSES ONLY. WYNDHAM CHICAGO O'HARE LOC #128. CLMT: PETER LARSON CLAIMS TO HAVE FELL ON STAIRS BETWEEN 3RD AND  2ND FLOOR.\": ['GB',\n  'Soap, detergent, cleaning compound'],\n 'CLAIMANT DROVE OVER BAD ROAD CAUSING VEHICLE DAMAGE.': ['GD',\n  'Road Conditions/Weather'],\n 'CLAIMANT SUFFERED INJURY DUE TO KERB STONE': ['GB', 'Trip - kerb stone'],\n 'SHE CAUGHT HER FOOT IN AN UNEVEN PART OF THE TARMAC AND FELL      BACKWARDS .': ['GB',\n  'Tarmac Defect'],\n 'CLAIMANT SUFFERED INJURY DUE TO CEILING TILE FELL FROM THE CEILINGCAUSING BODILY INJURY': ['EL',\n  'Ceiling Collapse'],\n 'CORP EMPLOYEE TESTED POSITIVE FOR COVID-19. EMPLOYEE WAS LAST IN THE OFFICE ON 12/15/22. DEEP CLEANING OF OFFICE NOT NECESSARY AFTER': ['GB',\n  'Infectious, parasitic agents, NOC - Liab.'],\n \"A HEAVY STORM CAUSED MEMBER'S TREE TO FALL ON THE NEIGHBOR'S (THE ENGLISH CONSULATE)WROUGHT IRON FENCE.\": ['GD',\n  'Natural Hazard-Vegetation'],\n 'EE WAS USING A PRESSURE WASHER WHEN THE HOSE THAT                 CONNECTS TO THE NOZZLE BROKE OFF, CAUSING THE WATER AND           ACID MIXTURE TO SPRAY INTO HIS RIGHT EYE': ['GB',\n  'Hose'],\n 'THE EE WAS PICKING UP A GAS HOSE IN THE BOAT SERVICE AREA WHEN HE STARTED FEELING PAIN IN THE MID BACK AREA.': ['NS',\n  'Hose'],\n 'DRIVER CUT HAND WHILE MOVING AXLE STAND CAUSING INJURY            BUS REG:   BX58SYT': ['EL',\n  'Sharp Object'],\n 'CLAIMANT SHOE CAUGHT TN A BROKEN FOOR TILE WH ICH CAUSED HE TO    TRIP AND FALL CAUSING INJURY BRUISING TO HER LEGS, A SPRAINED KNEE': ['GB',\n  'DEFECTIVE FLOOR'],\n 'CLAIMANT PROPERTY DAMAGE DUE TO LEAK WHEN FLUSHING A RADIATOR AND THE PIPE CAME OFF': ['GD',\n  'Defective Pipework'],\n 'POSSIBLE ASBESTOS EXPOSURE.': ['NS', 'Asbestos'],\n 'CLAIMANT HAVING CYCLED OVER THE SINKHOLE AND LANDING ON THE       CARRIAGEWAY CAUSING BODILY INJURY.': ['GB',\n  'Sink Hole'],\n 'CLAIMANT SUFFERED PROPERTY DAMAGE DUE TO BOILER.': ['GD',\n  'Boiler, pressure vessel, etc.'],\n 'THE EE WAS INVOLVED IN A VEHICLE ROLLOVER AND SUSTAINED A         LACERATION TO HIS LEFT LITTLE FINGER.': ['AP',\n  'Machine - point of operation'],\n 'THE KITCHEN CAUGHT ON FIRE. THE LOCATION HAS FIRE AND SMOKE       DAMAGE.': ['RB',\n  'Grease Fires - Kitchen'],\n 'HOME FIRE DUE TO COOKING. MAJOR FIRE DAMAGE. NO INJURIES WERE     REPORTED. LOSS OCCURRED AT 106 VILLAGE CIRCLE, BROOKSIDE, AL      35036.': ['RB',\n  'Grease Fires - Kitchen'],\n 'CLAIMANT COMING OUT OF HIS APARTMENT TRIPPED AS A RESULT OF A     MISSING DRAIN COVER ON THE GROUND, CLAIMANT SUSTAIN INJURY.': ['GB',\n  'Fall - hole/drain cover - defect/missing'],\n 'CLAIMANT WALKED INTO TARMAC DEFECT SUFFERED INJURIES.': ['GB',\n  'Tarmac Defect'],\n 'INSUREDS RADIATOR HOSE BLEW AND INSURED TRIED TO FIX IT AND ENDED UP CUTTING HIS LEFT HAND OPEN': ['NS',\n  'Hose'],\n 'TENDER DEMAND FROM DF CHASE TO NITTERHOUSE REGARDING LITIGATION   INVOLVING FATALITY TO NITTERHOUSE EMPLOYEE': ['GB',\n  'Machine - point of operation'],\n 'IV TRIED TO GO AROUND HOLE IN THE PARKING LOT AND BACK END OF THE TRAILER CAUGHT IT. CRACKED FRAME': ['AP',\n  'Sink Hole'],\n 'SWA EMPLOYEE OPENED THE VEGETATION GATE FOR THE CLAIMANT TO ENTER TO DUMP HIS LOAD. THERE WAS ANOTHER TRACTOR TRAILER BEING LOADED  WHILE THE CLAIMANT DROVE BY AND A LOG ROLLED FROM THE PILE OF     VEGETATION AND STRUCK THE DRIVER SIDE DOOR OF THE CLAIMANT?S TRUCKCAUSING DAMAGE': ['GD',\n  'Natural Hazard-Vegetation'],\n 'PHV LOST CONTROL IN HEAVY RAIN HIT HARD SHOULDER': ['AD',\n  'Insured Lost Control'],\n 'OUR CLIENT TRIPPED ON RAISED IRREGULAR COBBLESTONES , CAUSES      INJURIES.': ['GB',\n  'Trip - kerb stone'],\n \"A CUSTOMER''S GATE LATCH WAS HIT BY A FORKLIFT PROBE, CAUSING A BUSTED WELD TO THE GATE LATCH. THERE\": ['GD',\n  'Aircraft'],\n 'CLIENT LOST CONTROL HIT BARRIER': ['AD', 'Insured Lost Control'],\n 'RAINING AND DARK IV COULD NOT SEE POT HOLES AND STRUCK ONE.       COOLANT AND OIL ARE LEAKING, OIL PAN IN DAMAGED': ['AP',\n  'Sink Hole'],\n 'CUSTOMER WAS LOOKING AT AN AREA RUG WHEN SHE TRIPPED FALLING ON   HER SIDE AND LEFT WRIST/SHOULDER': ['PM',\n  'Natural Hazard-Non Vegetation'],\n \"LE CLIENT MAGASINAIT DANS L'ALL E 30 LORSQU'IL EST RETOURN    C T DE LA BAIE 21 POUR CHERCHER SON PRODUIT. IL A ALORS PI TIN  UN    MORCEAU DE BOIS AVEC DEUX CLOUS SORTANT VERS LE HAUT, BLESSANT SONPIED DROIT\": ['GB',\n  'Sharp Object'],\n 'INSURED VEHICLE LOST CONTROL AND WENT INTO THE ROUNDABOUT.': ['AD',\n  'Insured Lost Control'],\n 'PLEASE NOTE, THIS CX IS A SUSPICIOUS ONE THAT THIS SAME CHAT HAS  BEEN HAPPENING SEVERAL TIMES. THE CX TOOK SEVERAL TRIES TO PROVIDETHE CORRECT NAME ON THE ORDER. CX PROVIDED PHOTO OF BURNS ON      HANDS.': ['GB',\n  'EXACT CAUSE OF DAMAGE UNKNOWN'],\n 'CLAIMANT PROPERTY DAMAGE DUE TO CEILING COLLAPSED': ['GD',\n  'Ceiling Collapse'],\n 'INSURED VEHICLE LOST CONTROL AND COLLIDED WITH THIRD PARTY        PREMISES CAUSING DAMAGE TO PROPERTY.': ['AD',\n  'Insured Lost Control'],\n 'CLAIMANT WAS UNLOADING A TRUCK OF BINS AND HE WAS PUSHING A BIN   WHEN IT STOPPED SUDDENLY DUE TO THE RAISED TARMAC, CAUSING THE    SUSTAIN INJURIES.': ['EL',\n  'Tarmac Defect'],\n 'CLAIMANT FALL DOWN ON FLOOR AND SUFFERED FROM INJURIES': ['GB',\n  'DEFECTIVE FLOOR'],\n 'ON THURSDAY MARCH 23, 2023 AT APPROXIMATELY 1445 HOURS I (SECURITYSHIFT MANAGEREDWIN LAWRENCE) WAS NOTIFIED VIA TELEPHONE           COMMUNICATION FROM HOTEL MANAGER MASSIELVIERA TO REPORT TO THE    HOTEL FRONT DESK FOR A GUEST COMPLAINT, I CONFIRMED THE           INFORMATION, NOOTHER PERSONNEL RESPONDED OR WERE NEEDED TO ASSIST AT THIS TIME. SURVEILLANCE WAS NOTIFIEDOF THE INCIDENT': ['GB',\n  'Infectious, parasitic agents, NOC - Liab.'],\n 'CALLED IN SAYING THEY ATE AT OUR PLACE AT 3PM AND HAD OUR FRENCH  ONION SOUP AND NOW PERSON AFFECTED IS AT THE HOSPITAL WITH        DIARRHEA AND VOMITING.': ['PA',\n  'Infectious, parasitic agents, NOC - Liab.'],\n \"GUEST, WHO IS IN A WHEELCHAIR, BRUSHED HIS LEG UNDERNEATH A TABLE IN THE DINING ROOM AND THE CORNER OF THE UNDERSIDE OF THE TABLE   CUT THE GUEST'S LEG. GUEST SHOWED THAT HE DID HAVE A CUT AND THEREWAS A SMALL AMOUNT OF BLOOD DRAWN. BANDAGES WERE PROVIDED TO THE  GUEST. THE GUEST AND HIS WIFE PROCEEDED TO STAY AND EAT DINNER.   THEIR ENTIRE MEAL WAS COMPD.\": ['GB',\n  'Office or Restaurant Furniture'],\n 'MEMBER WAS LOADING A PIKE & MAIN CABINET INTO THEIR VEHICLE WITH  THE ASSISTANCE OF A LOT ATTENDANT.': ['GD',\n  'Employee'],\n \"THE EMPLOYEE WAS DRIVING A FORKLIFT AND DAMAGED THE TRAILER AT THELOADING DOCK. THE CUSTOMER'S TRAILER HAD A HOLE IN THE ROOF. NO   INJURIES WERE REPORTED.\": ['GD',\n  'Machine - point of operation'],\n 'CLAIMANT FELL FROM BICYCLE DUE TO MISSING DRAIN COVER CAUSING     BODILY INJURY': ['GB',\n  'Fall - hole/drain cover - defect/missing'],\n 'INSURED VEHICLE SUFFERED DAMAGE. REASON UNKNOWN.': ['AP',\n  'EXACT CAUSE OF DAMAGE UNKNOWN'],\n 'LADY CUT HER LEFT RING FINGER ON A WINE BOX.': ['GB', 'Sharp Object'],\n 'CLAIMANT VEHICLE DAMAGE DUE TO SPEED BUMP': ['GD', 'Speed bump'],\n \"EE WAS RIDING ON THE RIDER STEP OF A REAR LOADER ON 7708 SKYVIEW  DRIVE. EE'S RIGHT ARM STRUCK A LIGHT POLE. EE SUSTAINED A         CONTUSION TO HIS RIGHT ARM. EE WAS TRANSPORTED TO THE HOSPITAL BY AMBULANCE/\": ['AB',\n  'Contract Hauler Accident/Temp Employee'],\n \"MBR ALLEGEDLY TRIPPED AND FELL DUE TO A DEFECT  OF THE FLOOR AT   THE CASH REGISTERS. CLAIM REPORTED WITH ATTORNEY'S DEMAND LETTER.\": ['GB',\n  'DEFECTIVE FLOOR'],\n 'ACCORDING TO THE TENANT SHE WAS MAKING FRIED SCALLOPS WHEN THE OILBEGAN TO SMOKE AND THEN INSTANTLY IGNITED INTO A FIRE BALL.ALARMS & SPRINKLERS WENT OFF AND SHE CALLED 911.FIRE DEPARTMENT ARRIVED  AND EXTINGUISHED FIRE.MIKE FROM EXPERT SYSTEMS ARRIVED AND SHUT   OFF SPRINKLERS.CORY DIAS, MAINTENANCE SUPER ARRIVED AND ASSESSED  DAMAGE, TOOK PICTURES & CONTACTED SERVICE MASTER.SERVICE MASTER   CLEANED UP WATER AND PUT OUT BLOWERS, DEHUMIDIFIERS & ODOR CONTROLMACHINES.': ['RB',\n  'Grease Fires - Kitchen'],\n \"IV'S DRIVER WAS HEADED NORTH ON HWY 2 AND STRUCK BLACK ICE CAUSINGA MULTI VEHICLE PILE UP. THERE IS DAMAGE TO IV. NO INJURIES       REPORTED\": ['AD',\n  'Road Conditions/Weather'],\n 'CLAIMANT ALLEGES WHILE SHE WAS IN THE DUMPSTER AREA PICKING UP,   THE CORRAL DOOR WAS BLOWN OFF ITS HINGES BY HIGH WINDS DURING A   STORM. THE EE EXPERIENCED PAIN TO HER LOWER BACK.': ['NS',\n  'Trailer - Door/Seal'],\n 'THE CLAIMANT WAS OUTSIDE WALKING WHEN HE SLIPPED AND FELL AND     STRUCK HIS HEAD. THE CLAIMANT SUSTAINED HEAD INJURIES.': ['GB',\n  'Natural Hazard-Non Vegetation'],\n 'CLAIMANT SUFFERED PROPERTY DAMAGE DUE TO POOR WORKMANSHIP': ['GD',\n  'Leak/Flood - Defective Workmanship'],\n 'KITCHEN FIRE DUE TO GREASE ON THE STOVE CAUSING IGNITION. THIS IS A TWO STORY BUILDING AND THERE IS FIRE DAMAGE TO THE STOVE, RANGE HOOD, CABINETS, AND SOME DRYWALL IN THE KITCHEN.  SMOKE DAMAGE    THROUGHOUT.': ['RB',\n  'Grease Fires - Kitchen'],\n \"THE BACK OF THE MEMBER'S CHAIR FELL OFF WHILE SHE WAS SITTING IN IT AND THE MEMBER FELL ON THE FLOOR INJURING HER LOWER BACK.\": ['GB',\n  'Office or Restaurant Furniture'],\n 'IV STRUCK A PEDESTRIAN. THE PEDESTRIAN SUSTAINED INJURY TO  HER HEAD': ['GB',\n  'Aircraft'],\n 'SP GOING WEST MAKING RIGHT LOOKED TO RIGHT DIDNT SEE ANYTHING     LOOKED LEFT STARTED TO GO AND STRUCK BICYCLIST COMING FROM THE    RIGHT. INJURED, POLICE, NO TOW': ['AB',\n  'Bicycle'],\n 'CUSTOMER STATED HE WAS WALKING ALONG THE FRONT OF THE STORE WHEN APIECE OF ICE FELL OFF THE ROOF.  HE STOPPED AND ANOTHER PIECE FELLSTRIKING HIM ON THE RIGHT SIDE OF HIS HEAD.  HE SKED FOR CAMERA   FOOTAGE AND ALSO ASKED IF HE SHOULD CONTACT A LAWYER.': ['GB',\n  'Frost/Ice/Snow'],\n 'CUSTOMER SLIPPED ON WET SPOT ON THE FLOOR': ['GB',\n  'Soap, detergent, cleaning compound'],\n 'CLAIMANT TRIPPED AND FELL DUE TO RAISED SLAB CAUSING BODILY INJURY': ['GB',\n  'DEFECTIVE FLOOR'],\n 'PHV HIT REAR OF TPV1 INTO TPV2 CAUSING INJURY': ['AB',\n  'Multiple Vehicle Collision'],\n 'CLMT STRUCK HER HEAD ON A TRAY LINE RACK CAUSING THE REMOVAL OF   HER GLASSES ON HER FACE.  CLMT ALSO STRUCK HER LEFT HAND. CLMT    EXPERIENCED A THROBBING SENSATION TO HER HEAD.  CLMT LEFT HAND IS SORE TO THE TOUCH': ['GB',\n  'Office or Restaurant Furniture'],\n 'MEMBER WAS TURNING AROUND FROM GRABBING WATER AND TRIPPED ON      SHRINK WRAP FROM A SKID THAT WAS MOVED': ['GB',\n  'Container - Packaging Etc'],\n 'A CUSTOMER WAS OUTSIDE THE FRONT DOORS, STEPPING DOWN TO GO INTO  THE PARKING LOT WHEN SHE SLIPPED ON SNOW AND FELL. THE CUSTOMER   EXPERIENCED EXCRUCIATING PAIN IN HER LEG.': ['GB',\n  'Natural Hazard-Non Vegetation'],\n 'THE TENANT IN 9D, MR. YOUNG, FELL ASLEEP WITH FOOD ON THE STOVE.  THE POT THEN CAUGHT FIRE AND CREATED SMOKE WHICH SET OFF THE      SPRINKLER SYSTEM. THE WATER FROM THE SPRINKLERS THEN FLOODED THE  APARTMENT AND PUBLIC AREAS, ALL THE WAY DOWN TO THE FIRST FLOOR   LOBBY.  THE FLOODING FROM THE SPRINKLERS CAUSED DAMAGE ONE        ELEVATOR TO BE DAMAGED': ['RB',\n  'Grease Fires - Kitchen'],\n 'MEMBER TRYING A DEMO PRODUCT. DARK CHOCOLATE COVERED STRAWBERRIES.THE MEMBER BIT INTO THE ITEM AND HIS FRONT TOOTH BROKE OFF.': ['PA',\n  'Libel, slander - defamation'],\n 'CLAIMANT WAS IN THE LIVING ROOM WHEN THE LIVING ROOM CEILING      COLLAPSED ON HER CAUSING INJURY.': ['GB',\n  'Ceiling Collapse'],\n 'CLAIMANT SUFFERED PROPERTY DAMAGE DUE TO FLOOD .': ['GD',\n  'Leak/Flood - Defective Workmanship'],\n 'TEMP EMP. WAS PICKING UP TRASH ON THE LANDFILL WHEN HE TWISTED HISLEFT KNEE. TEMP EMP. SUSTAINED INFLAMMATION TO THE LEFT KNEE AND  HE ALSO HAD A NOTICEABLE LIMP.': ['GB',\n  'Natural Hazard-Vegetation'],\n 'A CUSTOMER NAME AL GALVEZ CAME AROUND 4PM TODAY TO REQUEST OUR    PARKING LOT CCTV FOOTAGE, HIS CAR LEFT FRONT HAD DENT AND HE      THOUGHT IT WAS HIT BY OUR RENTAL TRAILER.': ['GD',\n  'EXACT CAUSE OF DAMAGE UNKNOWN'],\n 'CLAIMANT FALL DUE TO DEFECT CAUSING INJURY.': ['GB', 'DEFECTIVE FLOOR'],\n 'THE CUSTOMER WAS PUMPING GAS AT PUMP 8 WHEN SOMETHING SHARP       LACERATED THE TOP OF HER HAND.': ['GB',\n  'Hose'],\n 'CLAIMANT FELL DUE TO UNEVEN FLOOR CAUSING BODILY INJURY.': ['GB',\n  'DEFECTIVE FLOOR'],\n 'CLAIMANT FELL DUE TO RAISED PAVING STONE CAUSING  INJURY': ['GB',\n  'Trip - kerb stone'],\n 'OFFICER WAS ON A CITIZEN ASSIST WHEN CITIZEN MOVED BOOKCASE THAT  FELL ON OFFICERS RIGHT FOOT CAUSING PAIN. OFFICER REFUSED TO GO TOHOSPITAL': ['NS',\n  'Office or Restaurant Furniture'],\n 'IV STRUCK A POLE AND DAMAGED THE FRONT AND PASSENGER SIDE OF IV': ['AP',\n  'Sink Hole'],\n 'MR. FREELAND AND 2 FEMALES STAYED IN ROOM 215. MR. FREELAND CLAIMSAFTER HE WENT HOME HE HAS BED BUG BITE. 1 FEMALE IDENTIFIED ONLY  AS WIFE OTHER FEMALE REFUSED TO GIVE NAME. NEITHER FEMALES LISTED ON REGISTRATION. ROOM CHECKED BY 3RD PARTY VENDOR AND FOUND TO    HAVE ACTIVE BED BUGS.': ['GB',\n  'Infectious, parasitic agents, NOC - Liab.'],\n 'INTIMIDATION': ['PI', 'Libel, slander - defamation'],\n 'CLAIMANT FALL DOWN DUE TO WALKING ON GRID AND SUFFERED FROM       INJURIES.': ['GB',\n  'Road Conditions/Weather'],\n 'PERSONAL INJURY CLAIM FALSE ACCUSATIONS.': ['PI',\n  'Libel, slander - defamation'],\n 'CANOPY FASCIA BLEW DOWN IN WINDSTORM AND STRUCK A CUSTOMER AND    VEHICLE. CUSTOMER CUT FINGER AND VEHICLE WAS ALLEGEDLY SCRATCHED': ['GB',\n  'Natural Hazard-Non Vegetation'],\n \"WHILE THE IV WAS GOING UP THE ROAD, AN OBJECT FLEW UP FROM THE    IV'S REAR TIRE AND STRUCK A CV'S DRIVER SIDE WINDSHIELD CAUSING A CRACK ON CV'S WINDSHIELD.\": ['AD',\n  'Contract Hauler Accident/Temp Employee'],\n 'AS EMPLOYEE WAS ATTEMPTING TO SIT DOWN IN A CHAIR, HE LEANED ON   THE ARMREST WHICH GAVE WAY AND BROKE.  EMPLOYEE ATTEMPTED TO STOP HIMSELF FROM FALLING AT WHICH POINT HIS LEFT KNEE HIT THE         UNDERSIDE OF A DESK AND HIS LEFT SHOULDER HIT THE WALL.  EMPLOYEE THEN HAD PAIN IN BOTH THE KNEE AREA AND HIS SHOULDER AREA AND WAS UNABLE TO STRAIGHTEN HIS LEFT LEG OUT.': ['NS',\n  'Office or Restaurant Furniture'],\n 'ON 7/5/2022, CLAIMANT ALLEGES THAT SHE RECEIVED A PEDICURE WITH OUR TENANT THE NAILERY WHICH LED TO AN INFECTION.  UNAWARE THIS OCCU': ['GB',\n  'Infectious, parasitic agents, NOC - Liab.'],\n 'INSURED VEHICLE HIT THIRD PARTY VEHICLE IN TRAFFIC AND THIRD PARTYVEHICLE HIT ANOTHER VEHICLE.': ['AD',\n  'Multiple Vehicle Collision'],\n 'CUSTOMER GRABBED PAINT CAN AND WHEN WAS LOADING THE PRODUCT ONTO  THE CASH COUNTER CUSTOMER REALIZED THAT SHE HAD PAINT ALL OVER HERCLOTHING, SHOES AND PURSE AS THE LID OF THE PAINT WAS NOT ON      PROPERLY.': ['GD',\n  'Container - Packaging Etc'],\n 'CLAIMANT SUFFERED PROPERTY DAMAGE DUE TO LEAKAGE CAUSING WATER    DAMAGE.': ['GD',\n  'Leak/Flood - Defective Workmanship'],\n 'CLAIMANT SUFFERED PROPERTY DAMAGED DUE TO LEAKAGE .': ['GD',\n  'Leak/Flood - Defective Materials'],\n 'MRS. POWELL WAS AT  GRAVE AND HER RIGHT FOOT WENT INTO A HOLE THATGAVE AWAY WITH HER WEIGHT AND VERY WET GROUND.': ['GB',\n  'Sink Hole'],\n 'CLAIMANT SUFFER PROPERTY DAMAGE DUE TO DAMAGE A SERVICES PIPE.': ['GD',\n  'Defective Pipework'],\n 'THE PLAINTIFF PURCHASED A CAR FROM THE DEFENDANT. AT THE TIME OF PURCHASE, THE DEFENDANT AGREED TO M': ['GO',\n  'Aircraft'],\n 'THE IV DRIVER WAS DRIVING DOWN HIGHWAY 1 NORTH, WHEN THE OV WAS   DRIVING DOWN THE MIDDLE OF A SNOW PACKED ROAD. THE IV DRIVER      VEERED RIGHT TO AVOID THE OV, WHEN THE SNOW SUCKED THE IV DRIVER  IN. THE IV HAD MINOR DAMAGE BUT HAS TO BE PULLED OUT OF THE SNOW. THE IV AND THE OV MADE NO CONTACT. NO INJURIES WERE REPORTED.': ['AP',\n  'Insured Lost Control'],\n 'HAIL STORM DAMAGED COMPANY VEHICLE THAT I DRIVE': ['AP',\n  'Natural Hazard-Non Vegetation'],\n 'DRIVER WAS DOING HIS WALK AROUND CHECK AND SLIPPED ON ICE NEAR THENEARSIDE REAR WHEEL': ['EL',\n  'Frost/Ice/Snow'],\n 'CLAIMANT TRIPPED AND FELL IN SUNKEN TARMAC CAUSING BODILY INJURY': ['GB',\n  'Tarmac Defect'],\n 'CLAIMANT SUFFERED PROPERTY DAMAGED DUE TO CEILING CEILING IS      EXTENSIVE AND IN ORDER TO PAINT BOTH BATHROOM AND CORRIDOR': ['GD',\n  'Ceiling Collapse'],\n 'STONE CAME OUT OF INSURED VEHICLE AND SMASHED WINDSCREEN OF THIRD PARTY VEHICLE CAUSED VEHICLE DAMAGE.': ['AD',\n  'Misc - Object Hit Vehicle'],\n 'THE TEMP EMP. WAS ON A STOP AT CUSTOMER RESIDENCE AND WHILE       PICKING UP A TRASH BAG HE TURNED AND BAG ROLLED ACROSS HIS LEFT   THIGH AND A BROKEN MIRROR THAT WAS IN BAG LACERATED HIS THIGH.THE TEMP EMP WAS TRANSPORTED FROM THE SCENE VIA AN AMBULANCE.': ['AB',\n  'Contract Hauler Accident/Temp Employee'],\n 'CONFLICT WITH EMPLOYEE CAUSED MEMBER DISTRESS': ['GB', 'Employee'],\n 'CLAIMANT SUFFERED PROPERTY DAMAGED DUE TO TO PERSONAL             POSSESSIONS/FURNISHINGS/DECORATION WITHIN HOME': ['OI',\n  'Boiler, pressure vessel, etc.'],\n 'CLAIMANT SUFFERED PREOPERTY DAMAGE AS CEILING COLLAPSED DUE TO    LEAKAGE.': ['GD',\n  'Ceiling Collapse'],\n 'A RESIDENT LEFT A GREASE ON THE STOVE CAUSING A GREASE FIRE. THE  CABINET, AND WALLS WERE BURNT. THE UNIT FLOODED DUE TO THE WATER  SPRINKLERS.': ['RB',\n  'Grease Fires - Kitchen'],\n 'DISCOVERED THIS MORNING, 1 11 2023 A HUGE SINK HOLE IN OURPARISH  GARDEN/PARK DUE TO HEAVY RAIN.': ['RB',\n  'Sink Hole'],\n 'CLAIMANT REPAIRS HOT WATER PIPE BY THE COUNCIL IN CARRYING OUT THEREPAIRS DEFENDANT HAS CUT THROUGH PIPE CAUSING INJURY.': ['GB',\n  'Defective Pipework'],\n 'CLAIMANT FALL DUE TO DEFECTIVE ROAD CAUSING INJURY': ['GB',\n  'Road Conditions/Weather'],\n 'A POT WAS LEFT ON THE STOVE IN THE KITCHEN, WHILE THE STOVE WAS ONCAUSING, THE KITCHEN TO CATCH FIRE. THE KITCHEN IS A TOTAL LOSS,  AND THE REST OF THE UNIT HAS SMOKE DAMAGE. THE FIRE DEPARTMENT DIDKNOCK A HOLE INTO APARTMENT 467 TO MAKE SURE THERE WAS NOT A FIRE IN THE WALL.': ['RB',\n  'Grease Fires - Kitchen'],\n 'DRIVER CUT HIS UPPER LIP WHILE CHANGING THE VANDAL SCREEN         BUS REG :     BX09PGY': ['EL',\n  'Sharp Object'],\n 'THE CUSTOMER WAS TRYING TO OPEN THE BARBECUE SAUCE WHEN IT BROKE, CAUSING THE CUSTOMER TO LACERATE HER FINGER.': ['PA',\n  'Libel, slander - defamation'],\n 'CLAIMANT TOOK BOTTLES OUT OF BOX AND THEY WERE LEFT ON THE STAIRS,WHEN THE CLAIMANT MOVED THE BOTTLE THEY SAW THAT THEY HAD LEAKED ACAUSED DAMAGE TO THE FLOORING.': ['PB',\n  'Soap, detergent, cleaning compound'],\n 'PASSENGER LEG HAS BEEN CUT FROM A SHARP OBJECT.                   BUS REG :    BX12DFC      TP REG :     UNKNOWN': ['AB',\n  'Sharp Object'],\n 'IMPACT DAMAGE BY TP TO WALL': ['RB', 'VEHICLE'],\n 'LISTED MEMBER, WHILE ATTEMPTING TO SIT BACK DOWN ON THE CHAIR WITHWHEELS, THE CHAIR  SLID OUT FROM UNDER HIM.MEMBER FELL ON THE     FLOOR                                                             LANDING ON THE LEFT SIDE. MEMBER FELT STRAIN IN THE MIDDLE OF HIS BACK/ THROBBING PAIN AND PAIN IN LEFT HIP.': ['NS',\n  'Office or Restaurant Furniture'],\n 'DAMAGE TO VEHICLE DUE TO GULLY REINSTATEMENT BREAKING UP .': ['GD',\n  'Road Conditions/Weather'],\n 'ASBESTOS COMPLAINT': ['GB', 'Asbestos'],\n 'CLAIMANT SEEMS TO HAVE ALREADY REPLACED THE BOILER BEFORE CHECKINGTO SEE IF THERE WAS AN ISSUE WITH THE SUPPLY. ONCE INSTALLED IT   WAS IDENTIFIED THAT THERE WAS WATER IN THE PIPES.': ['GD',\n  'Other'],\n 'POSSIBLE EXPOSURE TO ASBESTOS WHILE COMPLETING RENOVATIONS.': ['NS',\n  'Asbestos'],\n 'OBJECT FROM INSURED VEHICLE STRUCK THIRD PARTY VEHICLE CAUSING    VEHICLE DAMAGE': ['AD',\n  'Misc - Object Hit Vehicle'],\n 'RESIDENT RENTED BIKE AND A BLOCK AWAY FROM LOCATION, FELL AND CUT LEG ON GROUND.': ['GB',\n  'Bicycle'],\n 'CLAIMANT WHILE STREAMING THE GRASS TOOK A STEP BACK AND HIS FOOT  WENT DOWN A HOLE SUSTAINING BODY INJURY.': ['EL',\n  'Fall - hole/drain cover - defect/missing'],\n 'MS WRONGFUL TERMINATION CLAIM. CLAIMANT ALLEGES HIS DISMISSAL WAS DUE TO WHISTLE BLOWING OVER LENDING PRACTICE CONCERNS IN AN EMAIL.': ['PI',\n  'Libel, slander - defamation'],\n 'CLAIMANT ALLEGES SHE WAS IN THE OFFICE WHEN SHE STOOD UP FROM A   CHAIR AND STRUCK HER HEAD AGAINST AN OPEN CABINET DOOR, RESULTING IN A BUMP ON HER HEAD.': ['NS',\n  'Office or Restaurant Furniture'],\n 'INSURED WAS OPENING A BACK DOOR TO CONTAINED THAT WAS RUSTED AND  LOST HIS BALANCE. SUSTAINED PAIN TO RIGHT SHOULDER.': ['NS',\n  'Trailer - Door/Seal'],\n 'CLAIMANT FELL DUE TO UNEVEN TARMAC CAUSING INJURY.': ['GB', 'Tarmac Defect'],\n 'MEMBER WAS OPENING THE FILE CABINET LOCATED ON THE WALL BY HER    DESK WHEN THE CABINET BROKE.THE CABINET DOOR CAME APART AND STRUCKTHE MEMBER IN THE RIGHT HAND CAUSING BRUISING, SORENESS, AND      NUMBNESS.': ['NS',\n  'Office or Restaurant Furniture'],\n 'EE LOCKING HAY BALE TRAILER/PUSHED DOOR/HANDLE FLEW UP/HIT        MOUTH/CAUSED FRONT L UPPER TOOTH BROKEN & LOW LIP                 CUT/BLEEDING/SWELLING.': ['NS',\n  'Trailer - Door/Seal'],\n 'STOVE CAUGHT FIRE AND DAMAGED CABINETRY': ['TE', 'Grease Fires - Kitchen'],\n 'EE STATES IN KITCHEN FRYING CHICKEN, TOES CAUGHT HOSE ON FLOOR,   TRIPPED LANDED ON L FOOT, L KNEE TWISTED, CAUSING SWELLING.': ['NS',\n  'Hose'],\n 'CLAIMANT SUFFERED INJURIES DUE TO CEILING COLLAPSE': ['GB',\n  'Ceiling Collapse'],\n 'OV DRIVER ALLEGES WHILE THE IV WAS BEING TOWEDON ROUTE 24 NORTH   MILE MARKER 3.8 DEBRIS FELL OFF THE IV AND STRUCK THEIR VEHICLE ONTHE FRONT BUMPER AND GRILL. THERE WERE NO INJURIES REPORTED. NOT  SPD CLAIM': ['AD',\n  'Contract Hauler Accident/Temp Employee'],\n 'INSURED LOST CONTROL & HIT THIRD PARTY1 VEHICLE WHICH PUSHED THIRDPARTY VEHICLE TO HIT THIRD PARTY2 FENCE': ['AD',\n  'Insured Lost Control'],\n 'CLAIMANT SUFFERED INJURY DUE TO BIN TO PUT RUBBISH SKIP THE BROKENCERAMIC DISH CUT CLAIMANT': ['EL',\n  'Sharp Object'],\n 'MR. SYRENGELAS REPORTED THAT A TREE BRANCH FELL ON TOP OF HIS     TRUNK AND DAMAGED HIS GMC BLACK SUV': ['GD',\n  'Natural Hazard-Vegetation'],\n 'CLAIMANT SUFFERED INJURY DUE TO  BICYCLE TIRE COLLIDED WITH       CONCRETE ON THE ROAD': ['GB',\n  'Road Conditions/Weather'],\n 'TM SEEDY WAS GOING DOWN THE ESCALATOR WITH THE WET VACUUM IN HAND AND THE HOSE HIT CUSTOMER IN BACK OF LEG': ['GB',\n  'Hose'],\n 'TREE HAS FALLEN ON TO THE INSURED VEHICLE CAUSING DAMAGE AND LOSS.': ['AU',\n  'Misc - Object Hit Vehicle'],\n 'MADISON COUNTY - ASBESTOS EXPOSURE': ['GB', 'Asbestos'],\n 'CIRCUMSTANCES UNCLEAR - ROAD TRAFFIC COLLISION & SPILLAGE, CAUSES INJURIES TO CLAIMANT .': ['AB',\n  'Multiple Vehicle Collision'],\n 'INSURED LOST CONTROL OF THEIR VEHICLE AND IMPACTED INTO THE       PROPERTY OF THIRD PARTY CAUSING DAMAGED': ['AD',\n  'Insured Lost Control'],\n 'TRIPPED ON DEFECTIVE PAVING': ['GB', 'Trip - kerb stone'],\n 'A RESIDENT WAS COOKING WITH THEIR AIR FRYER WHEN IT CAUGHT ON FIRE.  IT CAUSED SIGNIFICANT DAMAGE.': ['RB',\n  'Grease Fires - Kitchen'],\n 'INSURED WAS OPENING THE TRAILER DOOR WHEN IT FELL ON HIM. INSURED TRIED HOLDING THE DOOR BUT DROPPED IT. PAIN TO LOWER BACK.': ['NS',\n  'Trailer - Door/Seal'],\n 'REPORT PURPOSES ONLY. WANNAB INN MANASOTA, FL. LOC #632. CLMT: JUDY FREDBECK CLAIMS TO HAVE FALLEN OFF A BICYCLE. THE   BICYCLE IS C': ['GB',\n  'Bicycle'],\n 'CLAIMANT SUFFERED PROPERTY DAMAGE DUE TO WATER PIPE BURST.': ['GD',\n  'Defective Pipework'],\n 'INSURED WAS INSIDE HOUSE WHEN CAME OUT, SIDE WING MIRROR HAD BEEN HIT, GLASS IS CRAKED, CAUSED VEHICLE DAMAGE, CAUSE UNKNOWN.': ['AP',\n  'EXACT CAUSE OF DAMAGE UNKNOWN'],\n 'JANET TRIPPED ON THE WALK WAY WHEN TAKING THE BROOM BACK TO THE   EXTERNAL CLEANING CUPBOARD ON THE GROUND FLOOR': ['EL',\n  'Other'],\n 'CLAIMANT BECAME LIGHT HEADED AND LOW BLOOD PRESSURE WHILE AT      RESTAURANT. NO INJURY SUSTAINED.': ['GB',\n  'Natural Hazard-Non Vegetation'],\n 'CUSTOMER RECEIVED A FLOOR MODEL SAMSUNG DOUBLE OVEN WITH INDUCTIONTOP RANGE WITH A DENT IN THE LOWER DRAWER.  WHEN THE ASSOCIATE    WRAPPED THE RANGE, SHE INSPECTED AND CLEANED IT AND THERE WHERE NODAMAGES TO THE UNIT.': ['PB',\n  'EXACT CAUSE OF DAMAGE UNKNOWN'],\n 'CLAIMANTS VEHICLE WAS HIT WHILST PARKED': ['GD', 'Other'],\n 'CLAIMANT FALL FROM VEHICLE DUE TO DRAIN, AND SUFFERED FROM        MULTIPLE INJURIES IN BODY PARTS.': ['GB',\n  'Fall - hole/drain cover - defect/missing'],\n 'MBR ALLEGES ONE MONTH AFTER OIL CHANGE, HER MECHANIC ADVISED HER, THERE IS NO OIL IN HER CAR.': ['GD',\n  'Employee'],\n 'MBR SLIPPED AND FELL IN PARKING LOT. SHE CANNOT EXPLAIN HER FALL': ['GB',\n  'Frost/Ice/Snow'],\n 'CUSTOMER LEANED OVED AND BANGED HIS RIGH EYE LID ON A FLOOR BOARD STICKING OUT OF AISLE#27 BAY#24': ['GB',\n  'DEFECTIVE FLOOR'],\n 'THE DEFENDANT COLLIDED HEAD ON WITH THE CLAIMANT S PROCEEDING     VEHICLE.': ['AB',\n  'Multiple Vehicle Collision'],\n 'GUEST IS A YOUNG CHILD WHO WAS WALKING ON THE BOOTH AND FOOT      SLIPPED AND SHE FELL AND HER MOUTH HIT THE BOTTOM OF THE WINDOW   PANE.': ['GB',\n  'Office or Restaurant Furniture'],\n 'CUSTOMER STATED HE OVERHEARD TWO ASSOCIATES SPEAKING ABOUT HIM.   CUSTOMER STATED THAT HE HEARD ONE ASSOCIATE MENTION TO ANOTHER    THAT WARRANTY INFORMATION IS PRINTED ON BOX AND HE COULD HAVE READIT.  CUSTOMER STATED HE IS ILLITERATE AND WAS EMOTIONALLY': ['PI',\n  'Employee'],\n \"YARD INCIDENT: FXG EMPLOYEE WAS CLIMBING DOWN FROM A TOWER. ON THELAST STEP THE FXG EMPLOYEE SLIPPED AND SHE FELL TO THE GROUND. FXGEMPLOYEE'S KNEE WAS HURT AND COULD NOT WALK. FXG EMPLOYEE WAS HURTAND TAKEN VIA HOSPITAL. NO TOW. NO POLICE.\": ['GB',\n  'Natural Hazard-Non Vegetation'],\n 'CLAIMANT DISTURBING AND DAMAGING LACK OF SLEEP, ADDITIONAL PAIN,  AND DISTRESSFUL DUE TO DEFECTIVE WORKMANSHIP.': ['GB',\n  'Leak/Flood - Defective Workmanship'],\n '5, JULIAN WAS A PARTICIPANT IN THE CHICAGO POLICE 40 HOUR BICYCLE CERTIFICATION AND CROWD CONTROL COURSE AT MCCORMICK PLACE .       P.P.O.NUNNALLY#15735 WAS RIDING ON A CHICAGO POLICE ISSUED BICYCLEDURING THE TRAINING. P.P.O.NUNNALLY#15735 WAS ATTEMPTING RIDE ON  THE SLAIOM (BICYCLE COURSE) WHEN THE BICYCLE SLID FROM UNDERNEATH HIM AS TURNED TO GO': ['NS',\n  'Bicycle'],\n 'ALLEGED DAMAGE TO CAR DURING GAS WORKS .': ['GD', 'Other'],\n 'CLAIMANT TRIP OVER A KERB STONE IN THE MIDDLE OF CAR PARK HAS     DAMAGED HER TEETH': ['GB',\n  'Trip - kerb stone'],\n 'WHILE TEMP EMP WAS LOADING TRASH INTO THE HOPPER, SOMETHING STRUCKHIS CHEST, RESULTING IN A LACERATION.': ['AB',\n  'Contract Hauler Accident/Temp Employee'],\n 'THE IV DRIVER WAS DRIVING DOWN A STREET AND WHILE ATTEMPTING TO CHANGES LANES THE D/S REAR END OF TH': ['GK',\n  'Aircraft'],\n 'CLAIMANT TRIP DUE TO KERB CAUSING BODILY INJURY': ['GB',\n  'Trip - kerb stone'],\n 'IMPACT DAMAGE TO ROLLER SHUTTERS BY TP': ['RB', 'VEHICLE'],\n 'INSURED TURNED ACROSS PATH OF THIRD PARTY CAUSING DAMAGED': ['AD',\n  'Insured Turned Against TP Path'],\n 'VEH1 WAS HEADING TO THE INTERSECTION TO A STOP SIGN ON OCEAN BLVD & HIGEL ST IN SARASOTA, FL, THERE WAS A VEHICLE STOPPED IN FRONT  OF VEH1 AND A VEHICLE BEHIND VEH1. A WOMAN ON A BICYCLE CAME FROM THE LEFT ON HIGEL STREET. THE WOMAN ON THE BICYCLE MADE A RIGHT   FROM HIGEL STREET ONTO OCEAN BLVD AND CROSSED THE STREET AND MADE CONTACT WITH VEH1 CAUSING DAMAGE TO VEH1. VEH1-MARY KAY INC.': ['AN',\n  'Bicycle'],\n 'INSURED HAS TURNED INTO A ROAD & COLLIDED INTO THIRD PARTY VEHICLECAUSING DAMAGE.': ['AD',\n  'Insured Turned Against TP Path'],\n 'CLAIMANT WHILE WALKING SLIPPED AND FALL DUE TO METAL POLES        STICKING UP ON THE TARMAC CAUSING INJURY.': ['GB',\n  'Tarmac Defect'],\n 'PASSENGER FELL D0WN DUE TO SPEED BUMP.                            BUS REG :      BX61LJE': ['AB',\n  'Speed bump'],\n 'INSURED WAS OPENING THE DOOR TO THE TRAILER WHEN IT STRUCK HIS    HAND. SUSTAINED FRACTURE TO LEFT MIDDLE FINGER.': ['NS',\n  'Trailer - Door/Seal'],\n 'THE IV DRIVER WAS AT GAS STATION, WHEN HE DROVE OFF WITHOUT TAKINGTHE HOSE OUT.THIS CAUSED THE HOSE TO BREAK OFF. THE IV INCURRED NODAMAGE. THERE WERE NO INJURIES REPORTED.': ['AD',\n  'Hose'],\n 'LIAM WAS PUSHING TROLLEYS AND WAS TURNING IN ROAD WHEN MEMBERS CARCLIPPED LIAMS FOOT': ['EL',\n  'VEHICLE'],\n 'BIN HIT CLAIMANTS VEHICLE CAUSING VEHICLE DAMAGE': ['GD',\n  'Misc - Object Hit Vehicle'],\n 'CLAIMANT SUFFERED VEHICLE DAMAGE DUE TO HARDCORE FROM ROAD STRUCK WINDSCREEN': ['GD',\n  'Misc - Object Hit Vehicle'],\n 'INSURED HIT THIRD PARTY VEHICLE WHILE TURNING RIGHT  CAUSING      DAMAGED': ['AD',\n  'Insured Turned Against TP Path'],\n \"PLAINTIFF ALLEGES EXPOSED BLADE'S CASED INJURIES TO PLAINTIFF'S   FINGERS.\": ['PA',\n  'Libel, slander - defamation'],\n 'UNKNOWN CUSTOMER ENTERED THE STORE AT ASSISTED CHECKOUT SCREAMING AND ASKING FOR SOMEONE TO CALL AN AMBULANCE. THE UNKNOWN CUSTOMER SAID THERE WAS PAIN IN HIS FOOT. AN AMBULANCE WAS CALLED AND      PARAMEDICS TOOK HIM AWAY.': ['GB',\n  'EXACT CAUSE OF DAMAGE UNKNOWN'],\n 'CLAIMANT WHILE DRIVING HIT THE TRAM TRACKS HIS  BIKE SLID FROM    UNDER HIM AND HE  FELL TO THE GROUND': ['GB',\n  'Bicycle'],\n 'TURNING IN COUNTY LANE. CAUGHT BUMPER ON VERGE CAUSING DAMAGED': ['AP',\n  'Insured Turned Against TP Path'],\n 'SMALL PD. THE TEMPORARY EE WAS SERVICING WHILE OPERATING THE IV ATA RESIDENTIAL SITE WHEN THE TEMPORARY EE THREW OUT AN ITEM THAT   WAS NOT DESIGNATED FOR THE TRASH PILE HE WAS PICKING UP WITH THE  IV. THERE IS NO DAMAGE TO THE IV. NO INJURIES SUSTAINED.': ['AD',\n  'Contract Hauler Accident/Temp Employee'],\n 'CUSTOMER WAS SHOPPING FOR PLUMBING PARTS IN AISLE 33. A MET       ASSOCIATE WALKED THROUGH PULLING A PALLET AND HIT HIM ON HIS      ANKLES WITH THE WOODEN PALLET. CUSTOMER WAS OFFERED FIRST AID     IMMEDIATELY BUT DECLINED AND WENT HOME. CALLED AT APPROX. 440 PM  THAT': ['GB',\n  'Employee'],\n \"THE CUST WAS AT PUMP 4 PUMPING GAS IN THE VEHICLE BUT THE HOSE HADA HOLE AND GAS SPRAYED ALLOVER THE CUST'S PANTS AND SHOES.\": ['GD',\n  'Hose'],\n 'CLAIMANT SUFFERED PROPERTY DAMAGE DUE TO LEAKAGE FROM BOILER.': ['GD',\n  'Boiler, pressure vessel, etc.'],\n 'CLAIMANT SUFFERED PROPERTY DAMAGED DUE TO A STONE WAS DISCHARGED  FROM THE REAR OF THE GRITTER WHICH SMASHED MY WINDSCREEN': ['GD',\n  'Misc - Object Hit Vehicle'],\n 'INSURED COLLIDED WITH THIRD PARTY VEHICLE, CAUSING VEHICLE DAMAGE.': ['AD',\n  'Insured Turned Against TP Path'],\n 'CLAIMANT SUFFERED FROM INJURIES.': ['GB', 'Other'],\n 'CUSTOMER CAME IN AND SAID THAT ICE FELL ON HER FACE AND LANDED ON HER GLASS. THIS HAPPENED BY THE ENTRANCE AND FALLING ICE FROM THE ROOF, SHE SAID FOR NOW SHE IS OKAY.': ['GB',\n  'Frost/Ice/Snow'],\n 'HAIL STORM DAMAGED VEHICLE WHILE IN CLIENTS POSSESSION.': ['AP',\n  'Natural Hazard-Vegetation'],\n 'KNEELING TO CLEAN AND INSPECT THE FORWARD SWASHPLATE I FELT A POP IN MY RIGHT KNEE': ['NS',\n  'Aircraft'],\n 'MEMBER FELL FROM A CHAIR': ['NS', 'Office or Restaurant Furniture'],\n 'WAGE AND HOUR/WRONGFUL TERMINATION': ['EP', 'Libel, slander - defamation'],\n 'SLIPPED ON DETERGENT': ['GB', 'Soap, detergent, cleaning compound'],\n 'CALLER STATE DRIVER LOST CONTROL ON 401 WEST BOUND, RUN ONTO A    GUARDRAIL': ['AD',\n  'Insured Lost Control'],\n 'IV WAS TUNRING AROUND IN A PARKING LOT AND HIT A SINK HOLE CAUSINGDAMAGE TO MULTIPLE PARTS OF IV': ['AP',\n  'Sink Hole'],\n 'CLAIMANT WHILE WALKING SLIPPED DUE TO TARMAC DEFECT AND FELL DOWN CAUSING PERSONAL INJURIES': ['GB',\n  'Tarmac Defect'],\n 'DEBRIS FROM THE WINDOW OF INSURED VEHICLE HIT A THIRD PARTY       VEHICLE.': ['AD',\n  'Misc - Object Hit Vehicle'],\n 'MBR SLIPPED AND FELL UNDER THE AWNING OF THE WH. ALLEGED PRESENCE OF AN UNSALTED ICY PATCH': ['GB',\n  'Frost/Ice/Snow'],\n 'DUE TO STOP PEDESTRIANS WHEN WORK IS BEING DONE ON THE RAILINGS   CAUGHT THE WIND WHICH CAUGHT MY HANDLEBARS AND THREW ME OFF       BICYCLE': ['GB',\n  'Bicycle'],\n 'CLAIMANT WAS WALKING HIS DOG AT THE ABOVE LOCATION WHEN HE STEPPEDON A MANHOLE COVER AND FELL CAUSING INJURY.': ['GB',\n  'Fall - hole/drain cover - defect/missing'],\n 'ALLEGED PERSONAL & ADVERTISING INJURY AGAINST PLAINTIFF.': ['PI',\n  'Libel, slander - defamation'],\n 'CLAIMANT SUFFERED PROPERTY DAMAGE DUE TO BOILER BROKE.': ['GD',\n  'Boiler, pressure vessel, etc.'],\n 'ALLEGED DAMAGE TO BOILER DUE TO WATER INGRESS': ['GD', 'Other'],\n 'CLAIMANT SUFFERED INJURY DUE TO COLLAPSE OF CEILING.': ['GB',\n  'Ceiling Collapse'],\n 'PASSENGER SAT DOWN HE SAW SHARP OBJECT WHICH WAS NEEDLE IN SEATS. BUS REG :     BX10ACY': ['AB',\n  'Sharp Object'],\n 'A CUSTOMER WAS PUMPING GAS ON PUMP 4 AND STEPPED OVER THE HOST ANDTRIP. THE CUSTOMER STRUCK HER FACE ON THE FLOOR, CAUSING A SCRATCHON HER NOSE.': ['GB',\n  'Hose'],\n 'DRUNK DRIVER STRUCK SCHOOL GATES': ['RB', 'VEHICLE'],\n 'INSURED WAS SHUTTING TRAILER IN THE SNOW AND IT WENT DOWN TOO FASTCAUSING INSURED TO FALL. SPRAIN TO BOTH KNEES AND PULLED HAMMY': ['NS',\n  'Trailer - Door/Seal'],\n 'MBR STATES ASKED FOR HELP FROM A CARTS CLERK TO LOAD UP A STEEL   SHELVE INTO VAN. MBR CLAIMS CLERKS HAND SLIPPED CAUSING SCRATCHES.': ['GD',\n  'Misc - Object Hit Vehicle'],\n \"THE DRIVER STATED: I CAME TO A STOP SIGN, A 4-WAY STOP SIGN & I COULDN''T SEE ANYONE TO MY RIGHT VIE\": ['AD',\n  'Aircraft'],\n 'CLAIMANT SUFFER PROPERTY DAMAGE DUE TO LEAKAGE FROM DEFECTIVE     MATERIAL.': ['GD',\n  'Leak/Flood - Defective Materials'],\n 'GUEST SAID SHE HAD TO MOVE FROM ROOM 220 AROUND 10/29/22 DUE TO LEAK IN BATHROOM FROM ROOM ABOVE AND TOILET NOT FLUSHING. SHE SAID S': ['GB',\n  'Infectious, parasitic agents, NOC - Liab.'],\n 'CLAIMANT WAS WALKING AND FALL DOWN  DUE TO DRAIN COVER WAS UP SO  FAR FROM THE GROUND CAUSING BODILY INJURY.': ['GB',\n  'Fall - hole/drain cover - defect/missing'],\n 'INSURED VEHICLE HAS TURNED ACROSS THE PATH OF THIRD PARTY VEHICLE CAUSING VEHICLE DAMAGE.': ['AD',\n  'Insured Turned Against TP Path'],\n 'CLAIMANT SUFFER PROPERTY DAMAGE CAUSING BURST PIPE.': ['GD',\n  'Leak/Flood - Defective Materials'],\n 'OVER PRESSURIZATION OF CONDENSER WATER PIPE CAUSE A GASKET TO BLOWOUT.': ['GD',\n  'Boiler, pressure vessel, etc.'],\n 'RESIDENT CONTACTED FIRE AND RESCUE. INVICTA SECURITY CAME TO THE  SCENE AND REPORTED AN INCIDENT REPORT. THE UNITWAS ASSESSED BY OURSERVICE MANAGER. OUR CONTRACTOR, NOVONTY IS COMING TO FIX ALL     REPAIRS': ['RB',\n  'Grease Fires - Kitchen'],\n 'INSURED VEHICLE HAS BEEN DAMAGED, CIRCUMSTANCES UNKNOWN': ['AP',\n  'EXACT CAUSE OF DAMAGE UNKNOWN'],\n 'CLAIMANT WHILE WALKING TRIPPED AND FELL DUE TO UNEVEN SURFACE AND SUSTAINED INJURIES.': ['GB',\n  'Tarmac Defect'],\n 'THE CLAIMANT SUFFERED INJURIES DUE TO THE ROOF OF THE CLASSROOM   FELL ON TOP OF HER.': ['EL',\n  'Ceiling Collapse'],\n 'MEMBER AGGRAVATED LEFT ANKLE DURING 40 HR BICYCLE TRAINING COURSE AT MCCORMACK PLACE. MEMBER WENT TO RESURRECTION HOSPITAL ON 09 APR23. MEMBER HAS SPRAINED LEFT ANKLE, CURRENTLY ON CRUTCHES.': ['NS',\n  'Bicycle'],\n 'FALSE STATEMENTS MADE DEFAMATION OF CHARACTER': ['PP',\n  'Libel, slander - defamation'],\n 'GUEST POSTED ON INSTAGRAM THAT WE GOT HER SICK WITH TOGO FOOD AND THAT WENT TO THE ER. OUR GUEST RELATIONS TEAM REACHED OUT AND     ASKED FOR ADDITIONAL INFORMATION. THE RESTAURANT SENT EMAIL       REQUESTING ADDITIONAL INFORMATION SO WE CAN RESOLVE AND HAVE NOT  HAD A REPLY.': ['PA',\n  'Infectious, parasitic agents, NOC - Liab.'],\n 'INSURED VEHICLE HIT THIRD PARTY VEHICLE WHILE TURNING CAUSED      DAMAGE TO VEHICLE.': ['AD',\n  'Insured Turned Against TP Path'],\n 'CLAIMANT EXPOSED TO DECEASE WHILE WORKING CAUSED TO DEATH': ['GB',\n  'Asbestos'],\n 'CLAIMANT SUFFERED PROPERTY DAMAGE DUE TO PIPE HAD BURST TOP FLOOR FLAT CAUSING WATER DAMAGE.': ['GD',\n  'Defective Pipework'],\n 'CLAIMANT SUFFERED INJURY DUE TO CEILING COLLAPSE': ['GB',\n  'Ceiling Collapse'],\n 'CLAIMANT TRIPPED DUE TO RAISED BRICKS STICKING CAUSING BODILY     INJURY': ['GB',\n  'Trip - kerb stone'],\n 'CLAIMANT COAT RIPPED DUE TO SHARP OBJECT': ['GD', 'Sharp Object'],\n 'CUSTOMER WAS DRIVING HOME WITH 1G PAINT CANE AND GOT SPILLED IN   HIS TRUCK - 2022 FORD F150': ['GD',\n  'Container - Packaging Etc'],\n 'INSURED VEHICLE NEARSIDE HIT BUSH CAUSING VEHICLE DAMAGE TO       INSURED VEHICLE': ['AP',\n  'Misc - Object Hit Vehicle'],\n 'CLAIMANT WAS CYCLING HE FELL DUE TO DEFECT IN ROAD CAUSED INJURY.': ['GB',\n  'Road Conditions/Weather'],\n 'PULLED UP ON DOOR AND MUSCLE POPPED.': ['NS', 'Trailer - Door/Seal'],\n 'VEHICLE DAMAGE CAUSED BY A POTHOLE': ['GD', 'Sink Hole'],\n \"A TECHNICIAN WAS DRIVING A CUSTOMER''S VEHICLE AND WHEN PULLING FORWARD THEY RAN INTO THE SIDE OF A\": ['GK',\n  'Aircraft'],\n 'ON SUNDAY FEBRUARY 12TH, 2023 BRIAN AND JODI KIEFER OF UNIT 1302 REPORTED AN EXCESSIVE NOISE COMPLAINT AFTER QUIET HOURS TO  THE NON': ['GB',\n  'Libel, slander - defamation'],\n 'THE GUEST CALLED IN AND MENTIONED THAT THEIR HOUSE IS INFESTED    WITH BED BUGS AND THEY BELIEVE IT CAME FROM ROOM 332 THAT THEY    WERE STAYING IN. THERE WERE NO REPORTED INJURIES.': ['GD',\n  'Infectious, parasitic agents, NOC - Liab.'],\n 'WENT INTO THE BAR TO PURCHASE A FEW GIFT CARDS BUT WANTED TO SIT  DOWN.  SHE TRIED TO CLIMB THE HIGHCHAIR AT THE BAR BUT LOST HER   BALANCE AND FELL BACKWARDS.  SHE HIT HER HEAD ON THE FLOOR AND    STARTED BLEEDING.  I WAS ALERTED THAT IT HAPPENED AND CALLED THE  FIRE DEPARTMENT.  THEY CAME AND LOOKED AT HER HEAD AND NOTICED    THAT SHE NEEDED STICHES.': ['GB',\n  'Office or Restaurant Furniture'],\n 'EVENT36305: SP RAN OVER WATER HOSES AA BROKE THEM. NO INJURY, NO  TOW, NO POLICE': ['AD',\n  'Hose'],\n 'TRUCK AND TRAILER TO HIT THE CENTRAL RESERVATION. DAMAGE ALL DOWN THE OS STEP, MUDGUARD, STEERING OUT OF ALIGNMENT, TRAILER BACK': ['AD',\n  'Insured Lost Control'],\n 'A PORTER WAS DRIVING THE IV AND DROVE TOO CLOSE TO THE WALL, CAUSING THE VEH TO SCRAPE AGAINST IT. T': ['GK',\n  'Aircraft'],\n 'DEBRIS HAS FALLEN FROM CLIENTS VEHICLE HAS CAUSED DAMAGE TO       CLAIMANTS  VEHICLE.': ['AD',\n  'Misc - Object Hit Vehicle'],\n 'CLAIMANT SUFFERED VEHICLE DAMAGE DUE TO DEFECTIVE SPEED BUMP.': ['GD',\n  'Speed bump'],\n \"ON MAY 20TH, 2022, CITY OF DAVIS EXPERIENCE EXTREMELY HIGH WINDS  OVER THE NIGHT, HITTING 40 MPH. WE HAD A TREE BRANCH SPLIT AND    LAND ON TOP OF A RESIDENT'S VEHICLE. A TREE BRANCH WAS SPLIT OVER THE NIGHT OF MAY 20TH BY HIGH WINDS. THE BRANCH OF THE TREE LANDEDON TOP OF A RESIDENT'S VEHICLE. NO WINDOWS WERE BROKEN, AND THE   DAMAGE DID SEEM MINIMAL FROM THE EYE. THE RESIDENT WAS IN THE BAY AREA AND RETURNED HOME AT 3:30PM TODAY, MAY 30TH. I SPOKE WITH\": ['GD',\n  'Natural Hazard-Vegetation'],\n 'CLAIMANT SUFFERED PROPERTY DAMAGE DUE TO OVER FLOWING SINK.': ['GD',\n  'Sink Hole'],\n 'CLAIMANT SUFFERED PROPERTY DAMAGE DUE TO LEAKAGE OF FLOOR.': ['GD',\n  'Leak/Flood - Defective Workmanship'],\n 'CLMT CLAIMS THAT SHE HAD AN ALLERGIC REACTION TO THE FEATHER PILLOWS IN THE GUEST ALLEDGING SHE SOUGHT MEDICAL TREATMENT': ['GB',\n  'Infectious, parasitic agents, NOC - Liab.'],\n 'SHUTTER DOORS RAM RAIDED': ['RB', 'VEHICLE'],\n 'CLAIMANT STEPPED ON TARMAC DEFECT CAUSING INJURY.': ['GB', 'Tarmac Defect'],\n 'CLAMANT DROVE OVER BAD CONDITIONED ROAD CAUSING VEHICLE DAMAGE.': ['GD',\n  'Road Conditions/Weather'],\n 'CLAIMANT SLIPPED AND FELL LEAVING PREMISES. NOT A MBR BUT A EE    WORKING AT THE CELL PHONE KIOSK': ['GB',\n  'Frost/Ice/Snow'],\n 'THE ORGANIZATION RECEIVED A LITIGATION FROM AN EMPLOYEE WHO WAS   DISMISSED. THERE WERE NO INJURIES SUSTAINED.': ['EP',\n  'Libel, slander - defamation'],\n 'BOX FROM INSURED VEHICLE HIT THIRD PARTY VEHICLE CAUSING THIRD    PARTY VEHICLE DAMAGE': ['AD',\n  'Misc - Object Hit Vehicle'],\n 'A MAGNOLIA DRIVER REPORTED THAT SHE WAS PARKED ALONG THE          SHIPPING SIDE TRYING TO CLOSE THE DOOR TO HER TRAILER             WHEN SHE SLIPPED, CAUSING THE TRAILER DOOR TO STRIKE HER          LEFT ELBOW. HER LEFT ELBOW WAS RED AND BRUISED - SHE              REFUSED MEDICAL ATTENTION': ['GB',\n  'Trailer - Door/Seal'],\n 'CLAIMANT SUFFERED PROPERTY DAMAGE DUE TO TREE ROOTS FROM THE ABOVEVEGETATION.': ['GD',\n  'Natural Hazard-Non Vegetation'],\n 'DRIVER HAD CUT HIS FINGER ON WIPER BLADE AT GARAGE DOING HIS WALK BUS REG :     BX12DDZ       TP REG :     UNKNOWN': ['EL',\n  'Sharp Object'],\n 'CUSTOMER CLAIMING SHE GOT FOOD POISONING AFTER BUYING COOKIES FROMTHE CLEARANCE RACK.': ['GB',\n  'Infectious, parasitic agents, NOC - Liab.'],\n 'L&RSQUO;ACCIDENT DE LA ROUTE AVEC BRIS MAIS SANS BLESSURE         S&RSQUO;EST PRODUIT SUR L&RSQUO;AUTOROUTE 40 EST, PR&EGRAVE;S DE  ST-AUGUSTIN VERS 9:45 AM VENDREDI LE 17 F&EACUTE;VRIER. NORMAND   LATULIPPE CONDUISAIT DANS UN GROS BROUILLARD DE NEIGE, LA         VISIBILIT&EACUTE; &EACUTE;TANT R&EACUTE;DUITE ET LA               CHAUSS&EACUTE;E TR&EGRAVE;S GLISSANTE, NORMAND N&RSQUO;A PAS      R&EACUTE;USSI &AGRAVE; S&RSQUO;IMMOBILISER &AGRAVE; TEMPS POUR    &EACUTE;VITER LE V&EACUTE;HICULE DEVAN': ['AD',\n  'Road Conditions/Weather'],\n 'CLAIMANT SUFFERED INJURY DUE TO SUNKEN ROAD SURFACE': ['GB',\n  'Road Conditions/Weather'],\n 'RESIDENT STARTED COOKING ON STOVE/OVEN AND THEN LEFT THE UNIT. THEITEMS THAT WERE LEFT UNATTENDED ON THE STOVE TOP STARTED A SMALL  FIRE WITH HEAVY SMOKE. SMOKE DAMAGED IS THROUGHOUT UNIT': ['RB',\n  'Grease Fires - Kitchen'],\n 'FALSE STATEMENTS AND ALLEGATIONS OF STEALING PROPERTY.': ['PI',\n  'Libel, slander - defamation'],\n 'RESIDENT STATED THAT UPON WASHING CLOTHES, HE NOTICED THE MARKINGS AND BLEACHING ON THE SHIRTS AND SOME SHEETS AFTER RUNNING THE WAS': ['GD',\n  'Soap, detergent, cleaning compound'],\n 'INSURED WAS GETTING OUT OF HIS TRUCK WHEN HE STEPPED IN A HOLE ANDHEARD A POP IN HIS LEFT KNEE.': ['NS',\n  'Sink Hole'],\n 'CLAIMANT SLIPPED OVER ICE CAUSES INJURIES.': ['EL', 'Frost/Ice/Snow'],\n 'INSURED STEPPED IN SINK HOLE THAT WAS FULL OF WATER LOOKED LIKE ANEVEN SURFACE. COMPLAINS OF NECK AND BACK PAIN. SEES A CHIRO': ['NS',\n  'Sink Hole'],\n 'CUSTOMER WAS IN THE STORE BETWEEN THE HOURS OF 10AM - 11AM. HE HADSOME PRODUCT LOADED IN HIS TRUCK BUT NOTHING CONTRIBUTED TO THE   DAMAGE HE DISCOVERED WHEN HE ARRIVED HOME. SINCE IT WAS HIS ONLY  STOP, HE THINKS SOMETHING ELSE HIT AND DAMAGED HIS TRUCK.': ['GD',\n  'EXACT CAUSE OF DAMAGE UNKNOWN'],\n 'INSURED SLIPPED ON ICE AND PULLED THE DOOR CLOSED ON HIS RIGHT    HAND WHEN HE FELL. SUSTAINED FRACTURE TO MIDDLE AND RING FINGER ONRIGHT HAND.': ['NS',\n  'Trailer - Door/Seal'],\n 'CLAIMANT TRIPPED OVER A SPEED BUMP CAUSING INJURY': ['GB', 'Speed bump'],\n 'THE CUSTOMER WALKED TO THE HYPER FREEZE MACHINE IN THE CHILL ZONE AREA AND BEGAN FILLING HIS CUP. SUDDENLY, HE FELL FACE FIRST INTO THE MACHINE, GOT UP, BUT THEN FELL DOWN TWO MORE TIMES. IT WAS    EVIDENT THAT HE WAS SUFFERING FROM HEAT EXHAUSTION.': ['GB',\n  'Machine - point of operation'],\n 'CX WAS APPREHENDED BY 3 APS': ['PI', 'Libel, slander - defamation'],\n 'CLAIMANT SUFFERED PROPERTY DAMAGE DUE TO BROKE PIPE IN A DRAIN.': ['GD',\n  'Defective Pipework'],\n 'THE CUSTOMER WAS STANDING THE ASILE SHOPPOING THE ASSOCIATE       HELPING ANOTHER CUSTOMER ACCSIDENTLY DROPED THE SATIN 1 GAL ON THEFLOOR AND IT SPLASHED AROUND INCLUDING THE CUSTOMER CLOTHES AND   FOOT WEAR . PLEASE NOTE THE CUSTOMER WAS NOT HURT NO INJURY.': ['GD',\n  'Container - Packaging Etc'],\n 'CLAIMANT SUFFERED DAMPNESS CAUSING UNWELL OR BREATHING PROBLEM.': ['GB',\n  'Leak/Flood - Defective Workmanship'],\n 'CLAIMANT TRIPPED DUE TO A DIP BETWEEN A KERB STONE AND A FLAG     STONE ON THE FOOTPATH CAUSING INJURY': ['GB',\n  'Trip - kerb stone'],\n 'MEMBER INJURED HIS BACK WHILE CHANGING HOSE IN QUARTERS AND THEN  TRANSPORTED TO HOSPITAL FOR EVALUATION BY A 7.': ['NS',\n  'Hose'],\n 'CLAIMANT FALL OVER AN EDGING KERB CAUSING BODILY INJURY.': ['GB',\n  'Trip - kerb stone'],\n 'MEMBER WAS SUBJECT OF HIT & RUN MVA AT GAS STATION - MEMBER       SUFFERED A FRACTURED,  POLICE REPORT MADE. CCTV SAVED': ['GB',\n  'VEHICLE'],\n 'LEFT INDEX FINGER INJURY': ['NS', 'Office or Restaurant Furniture'],\n \"CUSTOMER IS CLAIMING THE OVEN ROASTED CHICKEN WASN'T COOKED       THOROUGHLY AND CAUSED FOOD POISONING\": ['GB',\n  'Infectious, parasitic agents, NOC - Liab.'],\n 'CLAIMANT SUFFERED INJURIES DUE TO CARBON MONOXIDE EXPOSURE.': ['GB',\n  'Boiler, pressure vessel, etc.'],\n 'ON DEC 6TH , 2002 AROUND 7:30 PM A CUSTMER CLAIMED THAT HE WAS    THREATENED BY ASSOCIATE ANDREW FUNK. THERE WAS NO KNOWN INJURY TO THE CUSTOMER. REACH OUT TO STORE FOR MORE DETAILS.': ['PI',\n  'Employee']}"
          },
          "metadata": {}
        }
      ],
      "execution_count": null
    },
    {
      "cell_type": "code",
      "source": [
        "df_as_2 = df_2.copy()\n",
        "\n",
        "def convert_class(feature):\n",
        "    if feature in medium_classes_as:\n",
        "        return 'med'\n",
        "    else:\n",
        "        return feature\n",
        "\n",
        "df_as_2['Accident Source'] = df_as_2['Accident Source'].apply(convert_class)"
      ],
      "metadata": {
        "trusted": true,
        "execution": {
          "iopub.status.busy": "2024-12-01T20:51:11.992073Z",
          "iopub.execute_input": "2024-12-01T20:51:11.992397Z",
          "iopub.status.idle": "2024-12-01T20:51:12.378745Z",
          "shell.execute_reply.started": "2024-12-01T20:51:11.992366Z",
          "shell.execute_reply": "2024-12-01T20:51:12.373853Z"
        },
        "id": "t4owlqukBW6o"
      },
      "outputs": [],
      "execution_count": null
    },
    {
      "cell_type": "code",
      "source": [
        "df_as_2['Accident Source'].value_counts()"
      ],
      "metadata": {
        "trusted": true,
        "execution": {
          "iopub.status.busy": "2024-12-01T20:51:12.381416Z",
          "iopub.execute_input": "2024-12-01T20:51:12.381826Z",
          "iopub.status.idle": "2024-12-01T20:51:12.400848Z",
          "shell.execute_reply.started": "2024-12-01T20:51:12.381779Z",
          "shell.execute_reply": "2024-12-01T20:51:12.399692Z"
        },
        "id": "LLMzCFrbBW6o",
        "outputId": "226dcdec-44e9-4fa7-cc9b-134bb634cd63"
      },
      "outputs": [
        {
          "execution_count": 63,
          "output_type": "execute_result",
          "data": {
            "text/plain": "Accident Source\nAlleged Negligent Act                    20251\nSideswipe or lane change                 15414\nStruck animal or object                   7720\nStruck vehicle in rear                    7400\nNot Otherwise Classified                  7376\n                                         ...  \nInsured vehicle causes other accident      103\nExcavation, trench, tunnel                 102\nMalicious Mischief                         101\nDoor - Office                              101\nAlleged Discrimination                     100\nName: count, Length: 150, dtype: int64"
          },
          "metadata": {}
        }
      ],
      "execution_count": null
    },
    {
      "cell_type": "markdown",
      "source": [
        "#### Model"
      ],
      "metadata": {
        "id": "YtnMALRuBW6o"
      }
    },
    {
      "cell_type": "code",
      "source": [
        "# create features and class label\n",
        "\n",
        "X = df_as_2['Claim Description']\n",
        "\n",
        "y = df_as_2['Accident Source']"
      ],
      "metadata": {
        "trusted": true,
        "execution": {
          "iopub.status.busy": "2024-12-01T20:51:12.402205Z",
          "iopub.execute_input": "2024-12-01T20:51:12.402542Z",
          "iopub.status.idle": "2024-12-01T20:51:12.413149Z",
          "shell.execute_reply.started": "2024-12-01T20:51:12.40251Z",
          "shell.execute_reply": "2024-12-01T20:51:12.411898Z"
        },
        "id": "8Zfl48SJBW6p"
      },
      "outputs": [],
      "execution_count": null
    },
    {
      "cell_type": "code",
      "source": [
        "X_train, X_test, y_train, y_test = train_test_split(X, y, test_size=0.20)"
      ],
      "metadata": {
        "trusted": true,
        "execution": {
          "iopub.status.busy": "2024-12-01T20:51:12.414552Z",
          "iopub.execute_input": "2024-12-01T20:51:12.415101Z",
          "iopub.status.idle": "2024-12-01T20:51:12.448103Z",
          "shell.execute_reply.started": "2024-12-01T20:51:12.41505Z",
          "shell.execute_reply": "2024-12-01T20:51:12.446981Z"
        },
        "id": "C5-Nkv2DBW6p"
      },
      "outputs": [],
      "execution_count": null
    },
    {
      "cell_type": "code",
      "source": [
        "# convert data into vector form\n",
        "\n",
        "count_vector_step_1 = CountVectorizer()\n",
        "\n",
        "X_train = count_vector_step_1.fit_transform(X_train)\n",
        "X_test = count_vector_step_1.transform(X_test)"
      ],
      "metadata": {
        "trusted": true,
        "execution": {
          "iopub.status.busy": "2024-12-01T20:51:12.449591Z",
          "iopub.execute_input": "2024-12-01T20:51:12.450007Z",
          "iopub.status.idle": "2024-12-01T20:51:16.524345Z",
          "shell.execute_reply.started": "2024-12-01T20:51:12.44997Z",
          "shell.execute_reply": "2024-12-01T20:51:16.523341Z"
        },
        "id": "GbFQL9kvBW6p"
      },
      "outputs": [],
      "execution_count": null
    },
    {
      "cell_type": "code",
      "source": [
        "model_3 = LogisticRegression(random_state=42)\n",
        "model_3.fit(X_train, y_train)\n",
        "y_pred = model_3.predict(X_test)\n"
      ],
      "metadata": {
        "trusted": true,
        "execution": {
          "iopub.status.busy": "2024-12-01T20:51:16.525373Z",
          "iopub.execute_input": "2024-12-01T20:51:16.525708Z",
          "iopub.status.idle": "2024-12-01T20:56:59.274196Z",
          "shell.execute_reply.started": "2024-12-01T20:51:16.525677Z",
          "shell.execute_reply": "2024-12-01T20:56:59.272938Z"
        },
        "id": "nGbORoN5BW6p"
      },
      "outputs": [],
      "execution_count": null
    },
    {
      "cell_type": "code",
      "source": [
        "print(\"Confusion Matrix:\")\n",
        "print(confusion_matrix(y_test, y_pred))\n",
        "\n",
        "print(\"\\nClassification Report:\")\n",
        "print(classification_report(y_test, y_pred))\n",
        "\n",
        "print(\"\\nAccuracy Score:\")\n",
        "print(accuracy_score(y_test, y_pred))"
      ],
      "metadata": {
        "trusted": true,
        "execution": {
          "iopub.status.busy": "2024-12-01T20:56:59.275542Z",
          "iopub.execute_input": "2024-12-01T20:56:59.275914Z",
          "iopub.status.idle": "2024-12-01T20:57:00.668357Z",
          "shell.execute_reply.started": "2024-12-01T20:56:59.275846Z",
          "shell.execute_reply": "2024-12-01T20:57:00.667114Z"
        },
        "id": "WWO_nrM2BW6p",
        "outputId": "07f8f783-08c3-4159-98be-20aaad1ebea4"
      },
      "outputs": [
        {
          "name": "stdout",
          "text": "Confusion Matrix:\n[[ 12   0   0 ...   0   0   1]\n [  0   6   1 ...   0   0   0]\n [  0   3   4 ...   0   0   1]\n ...\n [  0   0   0 ...   0   0   3]\n [  0   0   0 ...   0 384   4]\n [  1   1   1 ...   0   8 406]]\n\nClassification Report:\n                                            precision    recall  f1-score   support\n\n    Accidental disposal of property/object       0.19      0.12      0.15        97\n                   Administrative Decision       0.46      0.29      0.35        21\n                    Alleged Discrimination       0.67      0.19      0.30        21\n                          Alleged Incident       0.00      0.00      0.00        22\n      Alleged Misconduct - Personal Injury       0.58      0.29      0.39        24\n                     Alleged Negligent Act       0.37      0.60      0.46      4058\n                   Alleged concrete defect       0.00      0.00      0.00        24\n         Alleged contamination or spoilage       0.51      0.51      0.51       389\n      Alleged damage to property of others       0.44      0.20      0.28       372\n               Alleged design flaw, defect       0.48      0.49      0.49       345\n         Alleged foreign object in product       0.62      0.74      0.67       449\n  Alleged improper maintenance - municipal       0.33      0.06      0.11        78\n      Alleged improper maintenance - other       0.34      0.30      0.32       955\n    Alleged improper maintenance - schools       0.12      0.03      0.05        29\n   Alleged installation by vendor/retailer       0.39      0.23      0.29        31\n                  Alleged lack of security       0.12      0.02      0.04        47\n       Alleged lack of supervision - other       0.00      0.00      0.00        42\n     Alleged lack of supervision - schools       0.56      0.48      0.51        90\n      Alleged mechanical defect of failure       0.42      0.18      0.25        45\n                 Alleged product loss, NOC       0.75      0.59      0.66       130\nAlleged service or maint.- vendor/retailer       0.35      0.11      0.16       235\nAlleged service or maintenance by customer       0.00      0.00      0.00        25\n                         Allergic Reaction       0.59      0.55      0.57        75\n                            Animal, Insect       0.58      0.37      0.45       142\n                                   Assault       0.27      0.16      0.20        85\n                      Assault and/or abuse       0.29      0.06      0.10        63\n               Assault during apprehension       0.29      0.13      0.18        30\n             Backed into vehicle or object       0.52      0.62      0.56      1250\n                                  Bathroom       0.33      0.11      0.17        35\n                    Box, barrel, container       0.23      0.15      0.18        40\n                    Building services, NOC       0.00      0.00      0.00        30\n       Burglary, Robbery, Theft - Property       0.36      0.09      0.15        44\n                  Burglary, robbery, theft       0.33      0.35      0.34       179\n                                  Car Wash       0.61      0.50      0.55       101\n                                  Car stop       0.31      0.31      0.31        29\n                                      Cart       0.63      0.79      0.70       424\n                                 Collision       0.53      0.45      0.49        44\n                 Collision on a Roundabout       0.80      0.65      0.71        31\n                        DEFECTIVE PAVEMENT       0.67      0.78      0.72        63\n                         DEFECTIVE PRODUCT       0.04      0.03      0.04        33\n                     Damage to landscaping       0.66      0.67      0.67       326\n                                   Display       0.18      0.08      0.11        52\n                             Door - Office       0.00      0.00      0.00        19\nElevator,escalator,manlift,moving sidewalk       0.35      0.35      0.35        43\n                        Elevator/Escalator       0.29      0.07      0.11        29\n          Entering or leaving traffic flow       0.37      0.18      0.24       123\n                     Equipment Malfunction       0.23      0.07      0.11        83\n                Excavation, trench, tunnel       0.80      0.17      0.29        23\n                       Extreme temperature       0.40      0.05      0.10        37\n                            Falling Object       0.08      0.02      0.04        87\n                               Fire - Auto       0.69      0.38      0.49        94\n                           Fire - Property       0.27      0.42      0.33        40\n                              Food Product       0.49      0.36      0.41       372\n                     Foreign object thrown       0.07      0.03      0.04        40\n  Freezing of Plumbing, Heating, AC System       0.57      0.62      0.59       110\n                        Furniture, fixture       0.23      0.08      0.12        85\n                            Gasoline spill       0.36      0.19      0.25        53\n                               Gate, fence       0.25      0.11      0.16        53\n                       Glass, ceramic, NOC       0.59      0.39      0.47        49\n                              Ground/floor       0.20      0.13      0.16       390\n                                      Hail       0.74      0.82      0.78        49\n                         Head-on collision       0.39      0.23      0.29        84\n                             Health Hazard       0.60      0.19      0.29        48\n                Hit Post/Barrier/Gate/Pole       0.51      0.53      0.52        45\n                   Hit Third Party In Rear       0.46      0.42      0.44        26\n                            Hit Wall/Fence       0.50      0.24      0.32        21\n                Hit in Rear by Third Party       0.53      0.42      0.47        19\n                         Human Action, NOC       0.42      0.25      0.31       354\n               Ice, Snow, Sleet - Property       0.04      0.04      0.04        23\n                   Ice, Snow, Sleet - W.C.       0.00      0.00      0.00        23\n                                 Ice/water       0.17      0.10      0.13       260\n  Injured while entering/alighting vehicle       0.56      0.51      0.53        61\n                     Insured Changed Lanes       0.75      0.35      0.47        26\n                     Insured Hit Parked TP       0.49      0.47      0.48        43\n                  Insured Reversing Hit TP       0.57      0.60      0.58        43\n     Insured vehicle causes other accident       1.00      0.06      0.11        18\n                     Intersection accident       0.52      0.46      0.49       931\n    Jacknife, rollover, overturned vehicle       0.44      0.41      0.42        83\n                        Malicious Mischief       0.00      0.00      0.00        28\n                               Merchandise       0.19      0.13      0.15        77\n                     Merchandises on Floor       0.29      0.12      0.16        52\n                           Metal item, NOC       0.21      0.12      0.15        34\n                               Mold/mildew       0.64      0.40      0.49        52\n    Non Liability Cases - Premises Medical       0.68      0.43      0.53       102\n                      Non-contact accident       0.37      0.20      0.26        88\n                  Not Otherwise Classified       0.24      0.27      0.25      1422\n        Object fall - loading or unloading       0.25      0.06      0.10        48\n                           Object on floor       0.15      0.06      0.09       145\n                             Oil or grease       0.67      0.55      0.60        88\n                     Other - comprehensive       0.24      0.11      0.15       283\n                Other vehicle turning left       0.08      0.01      0.02        87\n               Other vehicle turning right       0.50      0.02      0.04        43\n                   Our vehicle backed into       0.27      0.11      0.15       195\n    Our vehicle struck by object or animal       0.09      0.02      0.03       151\n     Our vehicle struck by runaway vehicle       0.00      0.00      0.00        55\n                Our vehicle struck in rear       0.55      0.44      0.49       784\n           Our vehicle struck while parked       0.36      0.30      0.33       253\n                  Our vehicle turning left       0.32      0.20      0.25       211\n                 Our vehicle turning right       0.18      0.20      0.19        83\n                                    Pallet       0.34      0.38      0.36        37\n                      Pallet Jack (manual)       0.31      0.31      0.31        13\n                     Parking lot, driveway       0.33      0.20      0.25       261\n                   Particle/Foreign Object       0.00      0.00      0.00        26\n Plumbing,Heating,AC,Discharge,Overflowing       0.45      0.54      0.49       206\n                                   Pothole       0.69      0.90      0.78        61\n                                      Rain       0.50      0.35      0.41        55\n                           Ran off roadway       0.29      0.12      0.17        84\n                   Road debris/road hazard       0.62      0.64      0.63       286\n                           Runaway vehicle       0.00      0.00      0.00        27\n                             Scrap, debris       0.00      0.00      0.00        27\nSharps(Needles,Razors,Scissors,Knife,etc.)       0.00      0.00      0.00        34\n                  Sideswipe or lane change       0.51      0.71      0.59      3075\n  Sprinkler Leakage - Pipe or Head Failure       0.38      0.26      0.31        53\n                                    Stairs       0.43      0.25      0.32        71\n                         Stationary object       0.05      0.01      0.01       172\n                  Street, roadway, highway       0.24      0.03      0.06       116\n                   Struck animal or object       0.47      0.52      0.49      1554\n                 Struck building, overhang       0.53      0.40      0.46       319\n                   Struck dock/garage door       0.44      0.24      0.31       115\n                 Struck dumpster enclosure       0.54      0.73      0.62       181\n                            Struck mailbox       0.81      0.82      0.81       241\n                             Struck object       0.31      0.17      0.22        29\n                     Struck parked vehicle       0.59      0.64      0.61      1377\n                Struck pedestrian, bicycle       0.65      0.52      0.58       127\n                    Struck vehicle in rear       0.59      0.62      0.61      1488\n                  Struck/pulled down wires       0.82      0.86      0.84       338\n   Sudden stop or start, injuring occupant       0.82      0.63      0.71       102\n                                     Theft       0.45      0.52      0.48       250\n                         Tree, bush, shrub       0.31      0.33      0.32        39\n                            Uneven Surface       0.07      0.01      0.02        81\n  Vandalism and Malicious Mischief - Prop.       0.45      0.25      0.32        71\n   Vandalism and malicious mischief - W.C.       0.26      0.29      0.28        48\n         Vehicle - Operated by other party       0.00      0.00      0.00        46\n                    Vehicle - Tire/Retread       0.22      0.21      0.22        19\n                             Vehicle - bus       0.29      0.09      0.13        23\n                       Vehicle - passenger       0.33      0.06      0.10        90\n       Vehicle - tractor, for semi trailer       0.00      0.00      0.00        38\n                  Vehicle - truck/snowplow       0.07      0.02      0.03        54\n                          Vehicle Accident       0.24      0.10      0.15       411\n                       Vehicle, unlicensed       0.33      0.13      0.18        47\n                      Walk, path, sidewalk       0.00      0.00      0.00        67\n                                     Water       0.28      0.15      0.20       139\n                                    Weapon       0.33      0.05      0.09        20\n                    Weather NOC - Property       0.40      0.36      0.38        47\n                                      Wind       0.50      0.04      0.07        25\n                                Windshield       0.53      0.58      0.55       178\n                                 Windstorm       0.57      0.70      0.63        97\n                            Wrongful entry       0.00      0.00      0.00        18\n                                e-Commerce       0.77      0.82      0.80       466\n                                       med       0.31      0.32      0.32      1272\n\n                                  accuracy                           0.46     32794\n                                 macro avg       0.37      0.28      0.30     32794\n                              weighted avg       0.44      0.46      0.44     32794\n\n\nAccuracy Score:\n0.45959626760992867\n",
          "output_type": "stream"
        }
      ],
      "execution_count": null
    },
    {
      "cell_type": "code",
      "source": [
        "target_names = model_3.classes_\n",
        "print(classification_report(y_test, y_pred, target_names=target_names))"
      ],
      "metadata": {
        "trusted": true,
        "execution": {
          "iopub.status.busy": "2024-12-01T20:57:00.669823Z",
          "iopub.execute_input": "2024-12-01T20:57:00.670215Z",
          "iopub.status.idle": "2024-12-01T20:57:01.923232Z",
          "shell.execute_reply.started": "2024-12-01T20:57:00.670182Z",
          "shell.execute_reply": "2024-12-01T20:57:01.921963Z"
        },
        "id": "9P4h4xU6BW6p",
        "outputId": "dba8f414-1921-445c-8b69-f6b3d20fd794"
      },
      "outputs": [
        {
          "name": "stdout",
          "text": "                                            precision    recall  f1-score   support\n\n    Accidental disposal of property/object       0.19      0.12      0.15        97\n                   Administrative Decision       0.46      0.29      0.35        21\n                    Alleged Discrimination       0.67      0.19      0.30        21\n                          Alleged Incident       0.00      0.00      0.00        22\n      Alleged Misconduct - Personal Injury       0.58      0.29      0.39        24\n                     Alleged Negligent Act       0.37      0.60      0.46      4058\n                   Alleged concrete defect       0.00      0.00      0.00        24\n         Alleged contamination or spoilage       0.51      0.51      0.51       389\n      Alleged damage to property of others       0.44      0.20      0.28       372\n               Alleged design flaw, defect       0.48      0.49      0.49       345\n         Alleged foreign object in product       0.62      0.74      0.67       449\n  Alleged improper maintenance - municipal       0.33      0.06      0.11        78\n      Alleged improper maintenance - other       0.34      0.30      0.32       955\n    Alleged improper maintenance - schools       0.12      0.03      0.05        29\n   Alleged installation by vendor/retailer       0.39      0.23      0.29        31\n                  Alleged lack of security       0.12      0.02      0.04        47\n       Alleged lack of supervision - other       0.00      0.00      0.00        42\n     Alleged lack of supervision - schools       0.56      0.48      0.51        90\n      Alleged mechanical defect of failure       0.42      0.18      0.25        45\n                 Alleged product loss, NOC       0.75      0.59      0.66       130\nAlleged service or maint.- vendor/retailer       0.35      0.11      0.16       235\nAlleged service or maintenance by customer       0.00      0.00      0.00        25\n                         Allergic Reaction       0.59      0.55      0.57        75\n                            Animal, Insect       0.58      0.37      0.45       142\n                                   Assault       0.27      0.16      0.20        85\n                      Assault and/or abuse       0.29      0.06      0.10        63\n               Assault during apprehension       0.29      0.13      0.18        30\n             Backed into vehicle or object       0.52      0.62      0.56      1250\n                                  Bathroom       0.33      0.11      0.17        35\n                    Box, barrel, container       0.23      0.15      0.18        40\n                    Building services, NOC       0.00      0.00      0.00        30\n       Burglary, Robbery, Theft - Property       0.36      0.09      0.15        44\n                  Burglary, robbery, theft       0.33      0.35      0.34       179\n                                  Car Wash       0.61      0.50      0.55       101\n                                  Car stop       0.31      0.31      0.31        29\n                                      Cart       0.63      0.79      0.70       424\n                                 Collision       0.53      0.45      0.49        44\n                 Collision on a Roundabout       0.80      0.65      0.71        31\n                        DEFECTIVE PAVEMENT       0.67      0.78      0.72        63\n                         DEFECTIVE PRODUCT       0.04      0.03      0.04        33\n                     Damage to landscaping       0.66      0.67      0.67       326\n                                   Display       0.18      0.08      0.11        52\n                             Door - Office       0.00      0.00      0.00        19\nElevator,escalator,manlift,moving sidewalk       0.35      0.35      0.35        43\n                        Elevator/Escalator       0.29      0.07      0.11        29\n          Entering or leaving traffic flow       0.37      0.18      0.24       123\n                     Equipment Malfunction       0.23      0.07      0.11        83\n                Excavation, trench, tunnel       0.80      0.17      0.29        23\n                       Extreme temperature       0.40      0.05      0.10        37\n                            Falling Object       0.08      0.02      0.04        87\n                               Fire - Auto       0.69      0.38      0.49        94\n                           Fire - Property       0.27      0.42      0.33        40\n                              Food Product       0.49      0.36      0.41       372\n                     Foreign object thrown       0.07      0.03      0.04        40\n  Freezing of Plumbing, Heating, AC System       0.57      0.62      0.59       110\n                        Furniture, fixture       0.23      0.08      0.12        85\n                            Gasoline spill       0.36      0.19      0.25        53\n                               Gate, fence       0.25      0.11      0.16        53\n                       Glass, ceramic, NOC       0.59      0.39      0.47        49\n                              Ground/floor       0.20      0.13      0.16       390\n                                      Hail       0.74      0.82      0.78        49\n                         Head-on collision       0.39      0.23      0.29        84\n                             Health Hazard       0.60      0.19      0.29        48\n                Hit Post/Barrier/Gate/Pole       0.51      0.53      0.52        45\n                   Hit Third Party In Rear       0.46      0.42      0.44        26\n                            Hit Wall/Fence       0.50      0.24      0.32        21\n                Hit in Rear by Third Party       0.53      0.42      0.47        19\n                         Human Action, NOC       0.42      0.25      0.31       354\n               Ice, Snow, Sleet - Property       0.04      0.04      0.04        23\n                   Ice, Snow, Sleet - W.C.       0.00      0.00      0.00        23\n                                 Ice/water       0.17      0.10      0.13       260\n  Injured while entering/alighting vehicle       0.56      0.51      0.53        61\n                     Insured Changed Lanes       0.75      0.35      0.47        26\n                     Insured Hit Parked TP       0.49      0.47      0.48        43\n                  Insured Reversing Hit TP       0.57      0.60      0.58        43\n     Insured vehicle causes other accident       1.00      0.06      0.11        18\n                     Intersection accident       0.52      0.46      0.49       931\n    Jacknife, rollover, overturned vehicle       0.44      0.41      0.42        83\n                        Malicious Mischief       0.00      0.00      0.00        28\n                               Merchandise       0.19      0.13      0.15        77\n                     Merchandises on Floor       0.29      0.12      0.16        52\n                           Metal item, NOC       0.21      0.12      0.15        34\n                               Mold/mildew       0.64      0.40      0.49        52\n    Non Liability Cases - Premises Medical       0.68      0.43      0.53       102\n                      Non-contact accident       0.37      0.20      0.26        88\n                  Not Otherwise Classified       0.24      0.27      0.25      1422\n        Object fall - loading or unloading       0.25      0.06      0.10        48\n                           Object on floor       0.15      0.06      0.09       145\n                             Oil or grease       0.67      0.55      0.60        88\n                     Other - comprehensive       0.24      0.11      0.15       283\n                Other vehicle turning left       0.08      0.01      0.02        87\n               Other vehicle turning right       0.50      0.02      0.04        43\n                   Our vehicle backed into       0.27      0.11      0.15       195\n    Our vehicle struck by object or animal       0.09      0.02      0.03       151\n     Our vehicle struck by runaway vehicle       0.00      0.00      0.00        55\n                Our vehicle struck in rear       0.55      0.44      0.49       784\n           Our vehicle struck while parked       0.36      0.30      0.33       253\n                  Our vehicle turning left       0.32      0.20      0.25       211\n                 Our vehicle turning right       0.18      0.20      0.19        83\n                                    Pallet       0.34      0.38      0.36        37\n                      Pallet Jack (manual)       0.31      0.31      0.31        13\n                     Parking lot, driveway       0.33      0.20      0.25       261\n                   Particle/Foreign Object       0.00      0.00      0.00        26\n Plumbing,Heating,AC,Discharge,Overflowing       0.45      0.54      0.49       206\n                                   Pothole       0.69      0.90      0.78        61\n                                      Rain       0.50      0.35      0.41        55\n                           Ran off roadway       0.29      0.12      0.17        84\n                   Road debris/road hazard       0.62      0.64      0.63       286\n                           Runaway vehicle       0.00      0.00      0.00        27\n                             Scrap, debris       0.00      0.00      0.00        27\nSharps(Needles,Razors,Scissors,Knife,etc.)       0.00      0.00      0.00        34\n                  Sideswipe or lane change       0.51      0.71      0.59      3075\n  Sprinkler Leakage - Pipe or Head Failure       0.38      0.26      0.31        53\n                                    Stairs       0.43      0.25      0.32        71\n                         Stationary object       0.05      0.01      0.01       172\n                  Street, roadway, highway       0.24      0.03      0.06       116\n                   Struck animal or object       0.47      0.52      0.49      1554\n                 Struck building, overhang       0.53      0.40      0.46       319\n                   Struck dock/garage door       0.44      0.24      0.31       115\n                 Struck dumpster enclosure       0.54      0.73      0.62       181\n                            Struck mailbox       0.81      0.82      0.81       241\n                             Struck object       0.31      0.17      0.22        29\n                     Struck parked vehicle       0.59      0.64      0.61      1377\n                Struck pedestrian, bicycle       0.65      0.52      0.58       127\n                    Struck vehicle in rear       0.59      0.62      0.61      1488\n                  Struck/pulled down wires       0.82      0.86      0.84       338\n   Sudden stop or start, injuring occupant       0.82      0.63      0.71       102\n                                     Theft       0.45      0.52      0.48       250\n                         Tree, bush, shrub       0.31      0.33      0.32        39\n                            Uneven Surface       0.07      0.01      0.02        81\n  Vandalism and Malicious Mischief - Prop.       0.45      0.25      0.32        71\n   Vandalism and malicious mischief - W.C.       0.26      0.29      0.28        48\n         Vehicle - Operated by other party       0.00      0.00      0.00        46\n                    Vehicle - Tire/Retread       0.22      0.21      0.22        19\n                             Vehicle - bus       0.29      0.09      0.13        23\n                       Vehicle - passenger       0.33      0.06      0.10        90\n       Vehicle - tractor, for semi trailer       0.00      0.00      0.00        38\n                  Vehicle - truck/snowplow       0.07      0.02      0.03        54\n                          Vehicle Accident       0.24      0.10      0.15       411\n                       Vehicle, unlicensed       0.33      0.13      0.18        47\n                      Walk, path, sidewalk       0.00      0.00      0.00        67\n                                     Water       0.28      0.15      0.20       139\n                                    Weapon       0.33      0.05      0.09        20\n                    Weather NOC - Property       0.40      0.36      0.38        47\n                                      Wind       0.50      0.04      0.07        25\n                                Windshield       0.53      0.58      0.55       178\n                                 Windstorm       0.57      0.70      0.63        97\n                            Wrongful entry       0.00      0.00      0.00        18\n                                e-Commerce       0.77      0.82      0.80       466\n                                       med       0.31      0.32      0.32      1272\n\n                                  accuracy                           0.46     32794\n                                 macro avg       0.37      0.28      0.30     32794\n                              weighted avg       0.44      0.46      0.44     32794\n\n",
          "output_type": "stream"
        }
      ],
      "execution_count": null
    },
    {
      "cell_type": "code",
      "source": [
        "# save model\n",
        "path = \"/kaggle/working/logistic_regression_as_1st_stg.pickle\"\n",
        "pickle.dump(model_3, open(path, \"wb\"))\n",
        "print(\"Model saved to\", path)\n"
      ],
      "metadata": {
        "trusted": true,
        "execution": {
          "iopub.status.busy": "2024-12-01T20:57:01.924763Z",
          "iopub.execute_input": "2024-12-01T20:57:01.925229Z",
          "iopub.status.idle": "2024-12-01T20:57:02.154346Z",
          "shell.execute_reply.started": "2024-12-01T20:57:01.925182Z",
          "shell.execute_reply": "2024-12-01T20:57:02.153292Z"
        },
        "id": "Ka2Cy7psBW6p",
        "outputId": "133b2489-f681-4219-9bfb-9de425294c9f"
      },
      "outputs": [
        {
          "name": "stdout",
          "text": "Model saved to /kaggle/working/logistic_regression_as_1st_stg.pickle\n",
          "output_type": "stream"
        }
      ],
      "execution_count": null
    },
    {
      "cell_type": "markdown",
      "source": [
        "#### Prediction"
      ],
      "metadata": {
        "id": "IWqRD_BVBW6q"
      }
    },
    {
      "cell_type": "code",
      "source": [
        "step_1_model_path = \"/kaggle/working/logistic_regression_as_1st_stg.pickle\"\n",
        "# step_2_model_path = \"/kaggle/working/logistic_regression_as_2nd_stg.pickle\"\n",
        "\n",
        "step_1_model = pickle.load(open(step_1_model_path, 'rb'))\n",
        "# step_2_model = pickle.load(open(step_2_model_path, 'rb'))\n",
        "\n"
      ],
      "metadata": {
        "trusted": true,
        "execution": {
          "iopub.status.busy": "2024-12-01T20:57:02.155533Z",
          "iopub.execute_input": "2024-12-01T20:57:02.155884Z",
          "iopub.status.idle": "2024-12-01T20:57:02.236297Z",
          "shell.execute_reply.started": "2024-12-01T20:57:02.155826Z",
          "shell.execute_reply": "2024-12-01T20:57:02.235201Z"
        },
        "id": "482-2C52BW6q"
      },
      "outputs": [],
      "execution_count": null
    },
    {
      "cell_type": "code",
      "source": [
        "# create predict function for predicting class label\n",
        "\n",
        "def predict(model_1,final_dict,query):\n",
        "    # predict\n",
        "\n",
        "    test_1 =  count_vector_step_1.transform([query])\n",
        "    y_pred = model_1.predict(test_1)\n",
        "    # if y_pred == 'med':\n",
        "    #     test_2 =  count_vector_step_2.transform([query])\n",
        "    #     y_pred = model_2.predict(test_2)\n",
        "    # else:\n",
        "    y_pred = y_pred\n",
        "\n",
        "    if query in final_dict.keys():\n",
        "        y_pred = final_dict[query]\n",
        "    else:\n",
        "        y_pred = y_pred\n",
        "\n",
        "    return y_pred[0]\n",
        "\n"
      ],
      "metadata": {
        "trusted": true,
        "execution": {
          "iopub.status.busy": "2024-12-01T20:57:02.237536Z",
          "iopub.execute_input": "2024-12-01T20:57:02.238007Z",
          "iopub.status.idle": "2024-12-01T20:57:02.244824Z",
          "shell.execute_reply.started": "2024-12-01T20:57:02.23797Z",
          "shell.execute_reply": "2024-12-01T20:57:02.24358Z"
        },
        "id": "09t-uW1XBW6q"
      },
      "outputs": [],
      "execution_count": null
    },
    {
      "cell_type": "code",
      "source": [
        "\n",
        "  # check predictions\n",
        "\n",
        "final_result= []\n",
        "\n",
        "test = df.sample(150)\n",
        "test['Claim Description'].apply(preprocess)\n",
        "x_test = test['Claim Description']\n",
        "for query in x_test:\n",
        "\n",
        "    result = predict(step_1_model,fewer_class_dictionary,query)\n",
        "    final_result.append(result)\n"
      ],
      "metadata": {
        "trusted": true,
        "execution": {
          "iopub.status.busy": "2024-12-01T20:57:02.246196Z",
          "iopub.execute_input": "2024-12-01T20:57:02.246546Z",
          "iopub.status.idle": "2024-12-01T20:57:11.809623Z",
          "shell.execute_reply.started": "2024-12-01T20:57:02.246512Z",
          "shell.execute_reply": "2024-12-01T20:57:11.808422Z"
        },
        "id": "CNdRGkFBBW6q"
      },
      "outputs": [],
      "execution_count": null
    },
    {
      "cell_type": "code",
      "source": [
        "# check the accuracy and other metrics\n",
        "\n",
        "y_test_ = test['Accident Source'].tolist()\n",
        "\n",
        "accuracy = accuracy_score(y_test, y_pred)\n",
        "print('Accuracy for logistic regression :',np.round(accuracy,2))\n",
        "\n",
        "print(\"*\"*100)\n",
        "\n",
        "\n",
        "print(classification_report(y_test_, final_result))\n",
        "print('*'*100)"
      ],
      "metadata": {
        "trusted": true,
        "execution": {
          "iopub.status.busy": "2024-12-01T20:57:11.810934Z",
          "iopub.execute_input": "2024-12-01T20:57:11.811262Z",
          "iopub.status.idle": "2024-12-01T20:57:11.87241Z",
          "shell.execute_reply.started": "2024-12-01T20:57:11.81123Z",
          "shell.execute_reply": "2024-12-01T20:57:11.871283Z"
        },
        "id": "qPT_pB6YBW6q",
        "outputId": "da37a713-467e-495b-c4cd-dac1eb3c723c"
      },
      "outputs": [
        {
          "name": "stdout",
          "text": "Accuracy for logistic regression : 0.46\n****************************************************************************************************\n                                            precision    recall  f1-score   support\n\n                     Alleged Negligent Act       0.38      0.93      0.54        14\n         Alleged contamination or spoilage       1.00      1.00      1.00         6\n      Alleged damage to property of others       0.00      0.00      0.00         2\n         Alleged foreign object in product       0.50      1.00      0.67         1\n              Alleged improper formulation       0.00      0.00      0.00         1\n      Alleged improper maintenance - other       1.00      0.20      0.33         5\n                 Alleged product loss, NOC       1.00      1.00      1.00         1\nAlleged service or maint.- vendor/retailer       0.00      0.00      0.00         0\nAlleged service or maintenance by customer       0.00      0.00      0.00         1\n                         Allergic Reaction       1.00      1.00      1.00         1\n                            Animal, Insect       0.00      0.00      0.00         0\n                 Animal, Insect - Property       0.00      0.00      0.00         1\n                      Assault and/or abuse       0.00      0.00      0.00         1\n             Backed into vehicle or object       0.67      0.67      0.67         6\n                         Breaking up fight       0.00      0.00      0.00         1\n                  Burglary, robbery, theft       1.00      0.50      0.67         2\n                                  Car Wash       0.00      0.00      0.00         2\n                                      Cart       1.00      1.00      1.00         2\n                                  Collapse       0.00      0.00      0.00         1\n                            Falling Object       0.00      0.00      0.00         1\n                               Fire - Auto       1.00      1.00      1.00         1\n                              Food Product       0.00      0.00      0.00         1\n                        Furniture, fixture       0.00      0.00      0.00         1\n                            Gasoline spill       0.00      0.00      0.00         1\n                         Head-on collision       1.00      1.00      1.00         1\n                         Human Action, NOC       0.00      0.00      0.00         1\n                   Ice, Snow, Sleet - W.C.       0.00      0.00      0.00         1\n                  Insured Reversing Hit TP       1.00      1.00      1.00         1\n                     Intersection accident       0.50      0.67      0.57         3\n        Leak/Flood - Defective Workmanship       0.00      0.00      0.00         1\n                               Merchandise       0.00      0.00      0.00         1\n                               Mold/mildew       1.00      1.00      1.00         1\n                  Not Otherwise Classified       0.25      0.20      0.22         5\n        Object fall - loading or unloading       0.00      0.00      0.00         1\n                             Oil or grease       1.00      1.00      1.00         2\n                     Other - comprehensive       0.00      0.00      0.00         1\n                Other vehicle turning left       0.00      0.00      0.00         0\n    Our vehicle struck by object or animal       0.00      0.00      0.00         1\n     Our vehicle struck by runaway vehicle       0.00      0.00      0.00         1\n                Our vehicle struck in rear       0.50      0.50      0.50         4\n           Our vehicle struck while parked       0.00      0.00      0.00         1\n                  Our vehicle turning left       0.00      0.00      0.00         1\n                 Our vehicle turning right       0.00      0.00      0.00         1\n                                    Pallet       0.00      0.00      0.00         0\n                     Parking lot, driveway       0.00      0.00      0.00         1\n                   Particle/Foreign Object       0.00      0.00      0.00         1\n                                   Pothole       0.00      0.00      0.00         1\n                                      Rain       1.00      1.00      1.00         1\n                   Road debris/road hazard       1.00      1.00      1.00         2\n                  Sideswipe or lane change       0.56      0.93      0.70        15\n  Sprinkler Leakage - Pipe or Head Failure       0.00      0.00      0.00         1\n                         Stationary object       0.00      0.00      0.00         2\n                  Street, roadway, highway       0.00      0.00      0.00         1\n                   Struck animal or object       0.78      1.00      0.88         7\n                 Struck building, overhang       0.00      0.00      0.00         2\n                 Struck dumpster enclosure       0.00      0.00      0.00         1\n                            Struck mailbox       0.50      1.00      0.67         1\n                     Struck parked vehicle       0.78      0.70      0.74        10\n                    Struck vehicle in rear       1.00      0.67      0.80        12\n                  Struck/pulled down wires       1.00      1.00      1.00         3\n   Sudden stop or start, injuring occupant       1.00      1.00      1.00         1\n                                     Theft       0.00      0.00      0.00         0\n  Vandalism and Malicious Mischief - Prop.       0.00      0.00      0.00         0\n                  Vehicle - Part/Accessory       0.00      0.00      0.00         1\n                             Vehicle - bus       0.00      0.00      0.00         1\n                       Vehicle - passenger       0.00      0.00      0.00         1\n       Vehicle - tractor, for semi trailer       0.00      0.00      0.00         1\n                                e-Commerce       0.75      1.00      0.86         3\n                                       med       0.00      0.00      0.00         0\n\n                                  accuracy                           0.59       150\n                                 macro avg       0.32      0.33      0.32       150\n                              weighted avg       0.54      0.59      0.53       150\n\n****************************************************************************************************\n",
          "output_type": "stream"
        }
      ],
      "execution_count": null
    },
    {
      "cell_type": "code",
      "source": [
        "!pip install streamlit\n",
        "\n",
        "import streamlit as st\n",
        "import pandas as pd\n",
        "import joblib\n",
        "import re\n",
        "import string\n",
        "from string import digits\n",
        "from sklearn.linear_model import LogisticRegression\n",
        "from sklearn.feature_extraction.text import CountVectorizer\n",
        "from sklearn import metrics\n",
        "from io import BytesIO\n",
        "import base64\n",
        "\n",
        "# Streamlit App Title\n",
        "st.title(\"Gallagher: Logistic Regression-based Text Classification and Excel Processing App\")\n",
        "\n",
        "# File upload for Excel file\n",
        "uploaded_file = st.file_uploader(\"Upload an Excel file\", type=[\"xlsx\"])\n",
        "\n",
        "# Function for file download\n",
        "def get_binary_file_downloader_link(file_data, file_name, link_text):\n",
        "    excel_buffer = BytesIO()\n",
        "    file_data.to_excel(excel_buffer, index=False, engine='xlsxwriter')\n",
        "    b64 = base64.b64encode(excel_buffer.getvalue()).decode()\n",
        "    href = f'<a href=\"data:application/vnd.openxmlformats-officedocument.spreadsheetml.sheet;base64,{b64}\" download=\"{file_name}\">{link_text}</a>'\n",
        "    return href\n",
        "\n",
        "\n",
        "\n",
        "# Load Pretrained Models and Vectorizers\n",
        "logistic_model_1 = joblib.load(\"/kaggle/working/logistic_regression_cc_1st_stg.pickle\")\n",
        "logistic_model_2 = joblib.load(\"/kaggle/working/logistic_regression_as_1st_stg.pickle\")\n",
        "count_vector_step_1 = joblib.load(\"/kaggle/working/logistic_regression_cc_2nd_stg.pickle\")\n",
        "# count_vector_step_2 = joblib.load(\"output/count_vector_step_2.pkl\")\n",
        "# fewer_class_dict = joblib.load(\"output/fewer_class_dictionary.pkl\")\n",
        "\n",
        "# Prediction Function\n",
        "def predict_cc(model_1, model_2,  query):\n",
        "    # Predict using step 1 model\n",
        "    test_1 = logistic_model_1.transform([query])\n",
        "    y_pred = model_1.predict(test_1)\n",
        "    if y_pred[0] == 'med':  # If classified as 'med', use step 2 model\n",
        "        test_2 = count_vector_step_1.transform([query])\n",
        "        y_pred = model_2.predict(test_2)\n",
        "\n",
        "    # Check for overrides in fewer class dictionary\n",
        "    # if query in final_dict.keys():\n",
        "    #     y_pred = final_dict[query]\n",
        "    return y_pred[0]\n",
        "\n",
        "# File Processing\n",
        "if uploaded_file is not None:\n",
        "    # Read the uploaded Excel file\n",
        "    excel_data = pd.read_excel(uploaded_file)\n",
        "\n",
        "    # Preprocess the data\n",
        "    st.write(\"Preprocessing Data...\")\n",
        "    processed_data = pre_processing(excel_data)\n",
        "    x_test = processed_data['Claim Description']\n",
        "\n",
        "    # Make predictions\n",
        "    st.write(\"Making Predictions...\")\n",
        "    final_result = [predict_cc(logistic_model_1, count_vector_step_1,  query) for query in x_test]\n",
        "\n",
        "    # Add predictions to DataFrame\n",
        "    processed_data['Predicted Coverage Code'] = final_result\n",
        "\n",
        "    # Display the processed DataFrame\n",
        "    st.dataframe(processed_data)\n",
        "\n",
        "    # Provide download link for processed file\n",
        "    link = get_binary_file_downloader_link(processed_data, 'processed_data.xlsx', 'Download Processed Data')\n",
        "    st.markdown(link, unsafe_allow_html=True)\n",
        "\n",
        "# Add completion message\n",
        "if uploaded_file is not None:\n",
        "    st.write(\"Processing Completed!\")\n",
        "\n",
        "# Prediction Function\n",
        "def predict_as(model_1,  query):\n",
        "    # Predict using step 1 model\n",
        "    test_1 = count_vector_step_1.transform([query])\n",
        "    y_pred = model_1.predict(test_1)\n",
        "\n",
        "    return y_pred[0]\n",
        "\n",
        "# File Processing\n",
        "if uploaded_file is not None:\n",
        "    # Read the uploaded Excel file\n",
        "    excel_data = pd.read_excel(uploaded_file)\n",
        "\n",
        "    # Preprocess the data\n",
        "    st.write(\"Preprocessing Data...\")\n",
        "    processed_data = pre_processing(excel_data)\n",
        "    x_test = processed_data['Claim Description']\n",
        "\n",
        "    # Make predictions\n",
        "    st.write(\"Making Predictions...\")\n",
        "    final_result = [predict_as(logistic_model_2,  query) for query in x_test]\n",
        "\n",
        "    # Add predictions to DataFrame\n",
        "    processed_data['Predicted Accidental Source'] = final_result\n",
        "\n",
        "    # Display the processed DataFrame\n",
        "    st.dataframe(processed_data)\n",
        "\n",
        "    # Provide download link for processed file\n",
        "    link = get_binary_file_downloader_link(processed_data, 'processed_data.xlsx', 'Download Processed Data')\n",
        "    st.markdown(link, unsafe_allow_html=True)\n"
      ],
      "metadata": {
        "trusted": true,
        "execution": {
          "iopub.status.busy": "2024-12-01T20:57:11.873818Z",
          "iopub.execute_input": "2024-12-01T20:57:11.874182Z",
          "iopub.status.idle": "2024-12-01T20:57:22.423528Z",
          "shell.execute_reply.started": "2024-12-01T20:57:11.874149Z",
          "shell.execute_reply": "2024-12-01T20:57:22.421987Z"
        },
        "id": "mr4LHq8oBW6q",
        "outputId": "ea1097b1-06bc-4243-bf9e-6c893457f002"
      },
      "outputs": [
        {
          "name": "stdout",
          "text": "Requirement already satisfied: streamlit in /opt/conda/lib/python3.10/site-packages (1.40.2)\nRequirement already satisfied: altair<6,>=4.0 in /opt/conda/lib/python3.10/site-packages (from streamlit) (5.4.1)\nRequirement already satisfied: blinker<2,>=1.0.0 in /opt/conda/lib/python3.10/site-packages (from streamlit) (1.8.2)\nRequirement already satisfied: cachetools<6,>=4.0 in /opt/conda/lib/python3.10/site-packages (from streamlit) (4.2.4)\nRequirement already satisfied: click<9,>=7.0 in /opt/conda/lib/python3.10/site-packages (from streamlit) (8.1.7)\nRequirement already satisfied: numpy<3,>=1.23 in /opt/conda/lib/python3.10/site-packages (from streamlit) (1.26.4)\nRequirement already satisfied: packaging<25,>=20 in /opt/conda/lib/python3.10/site-packages (from streamlit) (21.3)\nRequirement already satisfied: pandas<3,>=1.4.0 in /opt/conda/lib/python3.10/site-packages (from streamlit) (2.2.3)\nRequirement already satisfied: pillow<12,>=7.1.0 in /opt/conda/lib/python3.10/site-packages (from streamlit) (10.3.0)\nRequirement already satisfied: protobuf<6,>=3.20 in /opt/conda/lib/python3.10/site-packages (from streamlit) (3.20.3)\nRequirement already satisfied: pyarrow>=7.0 in /opt/conda/lib/python3.10/site-packages (from streamlit) (17.0.0)\nRequirement already satisfied: requests<3,>=2.27 in /opt/conda/lib/python3.10/site-packages (from streamlit) (2.32.3)\nRequirement already satisfied: rich<14,>=10.14.0 in /opt/conda/lib/python3.10/site-packages (from streamlit) (13.7.1)\nRequirement already satisfied: tenacity<10,>=8.1.0 in /opt/conda/lib/python3.10/site-packages (from streamlit) (8.3.0)\nRequirement already satisfied: toml<2,>=0.10.1 in /opt/conda/lib/python3.10/site-packages (from streamlit) (0.10.2)\nRequirement already satisfied: typing-extensions<5,>=4.3.0 in /opt/conda/lib/python3.10/site-packages (from streamlit) (4.12.2)\nRequirement already satisfied: watchdog<7,>=2.1.5 in /opt/conda/lib/python3.10/site-packages (from streamlit) (5.0.3)\nRequirement already satisfied: gitpython!=3.1.19,<4,>=3.0.7 in /opt/conda/lib/python3.10/site-packages (from streamlit) (3.1.43)\nRequirement already satisfied: pydeck<1,>=0.8.0b4 in /opt/conda/lib/python3.10/site-packages (from streamlit) (0.9.1)\nRequirement already satisfied: tornado<7,>=6.0.3 in /opt/conda/lib/python3.10/site-packages (from streamlit) (6.4.1)\nRequirement already satisfied: jinja2 in /opt/conda/lib/python3.10/site-packages (from altair<6,>=4.0->streamlit) (3.1.4)\nRequirement already satisfied: jsonschema>=3.0 in /opt/conda/lib/python3.10/site-packages (from altair<6,>=4.0->streamlit) (4.22.0)\nRequirement already satisfied: narwhals>=1.5.2 in /opt/conda/lib/python3.10/site-packages (from altair<6,>=4.0->streamlit) (1.9.0)\nRequirement already satisfied: gitdb<5,>=4.0.1 in /opt/conda/lib/python3.10/site-packages (from gitpython!=3.1.19,<4,>=3.0.7->streamlit) (4.0.11)\nRequirement already satisfied: pyparsing!=3.0.5,>=2.0.2 in /opt/conda/lib/python3.10/site-packages (from packaging<25,>=20->streamlit) (3.1.2)\nRequirement already satisfied: python-dateutil>=2.8.2 in /opt/conda/lib/python3.10/site-packages (from pandas<3,>=1.4.0->streamlit) (2.9.0.post0)\nRequirement already satisfied: pytz>=2020.1 in /opt/conda/lib/python3.10/site-packages (from pandas<3,>=1.4.0->streamlit) (2024.1)\nRequirement already satisfied: tzdata>=2022.7 in /opt/conda/lib/python3.10/site-packages (from pandas<3,>=1.4.0->streamlit) (2024.1)\nRequirement already satisfied: charset-normalizer<4,>=2 in /opt/conda/lib/python3.10/site-packages (from requests<3,>=2.27->streamlit) (3.3.2)\nRequirement already satisfied: idna<4,>=2.5 in /opt/conda/lib/python3.10/site-packages (from requests<3,>=2.27->streamlit) (3.7)\nRequirement already satisfied: urllib3<3,>=1.21.1 in /opt/conda/lib/python3.10/site-packages (from requests<3,>=2.27->streamlit) (1.26.18)\nRequirement already satisfied: certifi>=2017.4.17 in /opt/conda/lib/python3.10/site-packages (from requests<3,>=2.27->streamlit) (2024.8.30)\nRequirement already satisfied: markdown-it-py>=2.2.0 in /opt/conda/lib/python3.10/site-packages (from rich<14,>=10.14.0->streamlit) (3.0.0)\nRequirement already satisfied: pygments<3.0.0,>=2.13.0 in /opt/conda/lib/python3.10/site-packages (from rich<14,>=10.14.0->streamlit) (2.18.0)\nRequirement already satisfied: smmap<6,>=3.0.1 in /opt/conda/lib/python3.10/site-packages (from gitdb<5,>=4.0.1->gitpython!=3.1.19,<4,>=3.0.7->streamlit) (5.0.1)\nRequirement already satisfied: MarkupSafe>=2.0 in /opt/conda/lib/python3.10/site-packages (from jinja2->altair<6,>=4.0->streamlit) (2.1.5)\nRequirement already satisfied: attrs>=22.2.0 in /opt/conda/lib/python3.10/site-packages (from jsonschema>=3.0->altair<6,>=4.0->streamlit) (23.2.0)\nRequirement already satisfied: jsonschema-specifications>=2023.03.6 in /opt/conda/lib/python3.10/site-packages (from jsonschema>=3.0->altair<6,>=4.0->streamlit) (2023.12.1)\nRequirement already satisfied: referencing>=0.28.4 in /opt/conda/lib/python3.10/site-packages (from jsonschema>=3.0->altair<6,>=4.0->streamlit) (0.35.1)\nRequirement already satisfied: rpds-py>=0.7.1 in /opt/conda/lib/python3.10/site-packages (from jsonschema>=3.0->altair<6,>=4.0->streamlit) (0.18.1)\nRequirement already satisfied: mdurl~=0.1 in /opt/conda/lib/python3.10/site-packages (from markdown-it-py>=2.2.0->rich<14,>=10.14.0->streamlit) (0.1.2)\nRequirement already satisfied: six>=1.5 in /opt/conda/lib/python3.10/site-packages (from python-dateutil>=2.8.2->pandas<3,>=1.4.0->streamlit) (1.16.0)\n",
          "output_type": "stream"
        },
        {
          "name": "stderr",
          "text": "2024-12-01 20:57:22.308 Thread 'MainThread': missing ScriptRunContext! This warning can be ignored when running in bare mode.\n2024-12-01 20:57:22.310 Thread 'MainThread': missing ScriptRunContext! This warning can be ignored when running in bare mode.\n2024-12-01 20:57:22.311 Thread 'MainThread': missing ScriptRunContext! This warning can be ignored when running in bare mode.\n2024-12-01 20:57:22.312 Thread 'MainThread': missing ScriptRunContext! This warning can be ignored when running in bare mode.\n2024-12-01 20:57:22.313 Thread 'MainThread': missing ScriptRunContext! This warning can be ignored when running in bare mode.\n2024-12-01 20:57:22.316 Thread 'MainThread': missing ScriptRunContext! This warning can be ignored when running in bare mode.\n2024-12-01 20:57:22.317 Thread 'MainThread': missing ScriptRunContext! This warning can be ignored when running in bare mode.\n",
          "output_type": "stream"
        }
      ],
      "execution_count": null
    },
    {
      "cell_type": "code",
      "source": [],
      "metadata": {
        "trusted": true,
        "id": "htkccPiaBW6r"
      },
      "outputs": [],
      "execution_count": null
    }
  ]
}